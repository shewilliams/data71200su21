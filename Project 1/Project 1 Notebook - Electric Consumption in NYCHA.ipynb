{
 "cells": [
  {
   "cell_type": "markdown",
   "metadata": {},
   "source": [
    "# Electric Consumption and Cost\n",
    "\n",
    "Data is retrieved from [NYC Open Data](https://data.cityofnewyork.us/Housing-Development/Electric-Consumption-And-Cost-2010-April-2020-/jr24-e7cr).\n",
    "\n",
    "This project is divided into the following:\n",
    "* Data Exploration\n",
    "* Visualizations\n",
    "* Missing Values & Data Cleaning\n",
    "* Test and Training with SciKit\n",
    "* Data Transformations"
   ]
  },
  {
   "cell_type": "code",
   "execution_count": 107,
   "metadata": {},
   "outputs": [],
   "source": [
    "import numpy as np\n",
    "import pandas as pd\n",
    "import matplotlib.pyplot as plt \n",
    "from pandas.plotting import scatter_matrix"
   ]
  },
  {
   "cell_type": "code",
   "execution_count": 108,
   "metadata": {},
   "outputs": [],
   "source": [
    "electric_consumption = pd.read_csv(\"/Users/sheryl/GitHub/data71200su21/Project 1/dataset/electric-consumption.csv\", low_memory=False)"
   ]
  },
  {
   "cell_type": "code",
   "execution_count": 109,
   "metadata": {
    "scrolled": true
   },
   "outputs": [
    {
     "data": {
      "text/html": [
       "<div>\n",
       "<style scoped>\n",
       "    .dataframe tbody tr th:only-of-type {\n",
       "        vertical-align: middle;\n",
       "    }\n",
       "\n",
       "    .dataframe tbody tr th {\n",
       "        vertical-align: top;\n",
       "    }\n",
       "\n",
       "    .dataframe thead th {\n",
       "        text-align: right;\n",
       "    }\n",
       "</style>\n",
       "<table border=\"1\" class=\"dataframe\">\n",
       "  <thead>\n",
       "    <tr style=\"text-align: right;\">\n",
       "      <th></th>\n",
       "      <th>Development Name</th>\n",
       "      <th>Borough</th>\n",
       "      <th>Account Name</th>\n",
       "      <th>Location</th>\n",
       "      <th>Meter AMR</th>\n",
       "      <th>Meter Scope</th>\n",
       "      <th>TDS #</th>\n",
       "      <th>EDP</th>\n",
       "      <th>RC Code</th>\n",
       "      <th>Funding Source</th>\n",
       "      <th>...</th>\n",
       "      <th>Meter Number</th>\n",
       "      <th>Estimated</th>\n",
       "      <th>Current Charges</th>\n",
       "      <th>Rate Class</th>\n",
       "      <th>Bill Analyzed</th>\n",
       "      <th>Consumption (KWH)</th>\n",
       "      <th>KWH Charges</th>\n",
       "      <th>Consumption (KW)</th>\n",
       "      <th>KW Charges</th>\n",
       "      <th>Other charges</th>\n",
       "    </tr>\n",
       "  </thead>\n",
       "  <tbody>\n",
       "    <tr>\n",
       "      <th>0</th>\n",
       "      <td>ADAMS</td>\n",
       "      <td>BRONX</td>\n",
       "      <td>ADAMS</td>\n",
       "      <td>BLD 05</td>\n",
       "      <td>NONE</td>\n",
       "      <td>BLD 01 to 07</td>\n",
       "      <td>118.0</td>\n",
       "      <td>248</td>\n",
       "      <td>B011800</td>\n",
       "      <td>FEDERAL</td>\n",
       "      <td>...</td>\n",
       "      <td>7223256</td>\n",
       "      <td>N</td>\n",
       "      <td>15396.82</td>\n",
       "      <td>GOV/NYC/068</td>\n",
       "      <td>Yes</td>\n",
       "      <td>128800</td>\n",
       "      <td>7387.97</td>\n",
       "      <td>216.00</td>\n",
       "      <td>2808.00</td>\n",
       "      <td>5200.85</td>\n",
       "    </tr>\n",
       "    <tr>\n",
       "      <th>1</th>\n",
       "      <td>ADAMS</td>\n",
       "      <td>BRONX</td>\n",
       "      <td>ADAMS</td>\n",
       "      <td>BLD 05</td>\n",
       "      <td>NONE</td>\n",
       "      <td>BLD 01 to 07</td>\n",
       "      <td>118.0</td>\n",
       "      <td>248</td>\n",
       "      <td>B011800</td>\n",
       "      <td>FEDERAL</td>\n",
       "      <td>...</td>\n",
       "      <td>7223256</td>\n",
       "      <td>N</td>\n",
       "      <td>14556.34</td>\n",
       "      <td>GOV/NYC/068</td>\n",
       "      <td>Yes</td>\n",
       "      <td>115200</td>\n",
       "      <td>6607.87</td>\n",
       "      <td>224.00</td>\n",
       "      <td>2912.00</td>\n",
       "      <td>5036.47</td>\n",
       "    </tr>\n",
       "    <tr>\n",
       "      <th>2</th>\n",
       "      <td>ADAMS</td>\n",
       "      <td>BRONX</td>\n",
       "      <td>ADAMS</td>\n",
       "      <td>BLD 05</td>\n",
       "      <td>NONE</td>\n",
       "      <td>BLD 01 to 07</td>\n",
       "      <td>118.0</td>\n",
       "      <td>248</td>\n",
       "      <td>B011800</td>\n",
       "      <td>FEDERAL</td>\n",
       "      <td>...</td>\n",
       "      <td>7223256</td>\n",
       "      <td>N</td>\n",
       "      <td>13904.98</td>\n",
       "      <td>GOV/NYC/068</td>\n",
       "      <td>Yes</td>\n",
       "      <td>103200</td>\n",
       "      <td>5919.55</td>\n",
       "      <td>216.00</td>\n",
       "      <td>2808.00</td>\n",
       "      <td>5177.43</td>\n",
       "    </tr>\n",
       "    <tr>\n",
       "      <th>3</th>\n",
       "      <td>ADAMS</td>\n",
       "      <td>BRONX</td>\n",
       "      <td>ADAMS</td>\n",
       "      <td>BLD 05</td>\n",
       "      <td>NONE</td>\n",
       "      <td>BLD 01 to 07</td>\n",
       "      <td>118.0</td>\n",
       "      <td>248</td>\n",
       "      <td>B011800</td>\n",
       "      <td>FEDERAL</td>\n",
       "      <td>...</td>\n",
       "      <td>7223256</td>\n",
       "      <td>N</td>\n",
       "      <td>14764.04</td>\n",
       "      <td>GOV/NYC/068</td>\n",
       "      <td>Yes</td>\n",
       "      <td>105600</td>\n",
       "      <td>6057.22</td>\n",
       "      <td>208.00</td>\n",
       "      <td>2704.00</td>\n",
       "      <td>6002.82</td>\n",
       "    </tr>\n",
       "    <tr>\n",
       "      <th>4</th>\n",
       "      <td>ADAMS</td>\n",
       "      <td>BRONX</td>\n",
       "      <td>ADAMS</td>\n",
       "      <td>BLD 05</td>\n",
       "      <td>NONE</td>\n",
       "      <td>BLD 01 to 07</td>\n",
       "      <td>118.0</td>\n",
       "      <td>248</td>\n",
       "      <td>B011800</td>\n",
       "      <td>FEDERAL</td>\n",
       "      <td>...</td>\n",
       "      <td>7223256</td>\n",
       "      <td>N</td>\n",
       "      <td>13729.54</td>\n",
       "      <td>GOV/NYC/068</td>\n",
       "      <td>Yes</td>\n",
       "      <td>97600</td>\n",
       "      <td>5598.34</td>\n",
       "      <td>216.00</td>\n",
       "      <td>2808.00</td>\n",
       "      <td>5323.20</td>\n",
       "    </tr>\n",
       "    <tr>\n",
       "      <th>...</th>\n",
       "      <td>...</td>\n",
       "      <td>...</td>\n",
       "      <td>...</td>\n",
       "      <td>...</td>\n",
       "      <td>...</td>\n",
       "      <td>...</td>\n",
       "      <td>...</td>\n",
       "      <td>...</td>\n",
       "      <td>...</td>\n",
       "      <td>...</td>\n",
       "      <td>...</td>\n",
       "      <td>...</td>\n",
       "      <td>...</td>\n",
       "      <td>...</td>\n",
       "      <td>...</td>\n",
       "      <td>...</td>\n",
       "      <td>...</td>\n",
       "      <td>...</td>\n",
       "      <td>...</td>\n",
       "      <td>...</td>\n",
       "      <td>...</td>\n",
       "    </tr>\n",
       "    <tr>\n",
       "      <th>301312</th>\n",
       "      <td>WYCKOFF GARDENS</td>\n",
       "      <td>BROOKLYN</td>\n",
       "      <td>WYCKOFF GARDENS</td>\n",
       "      <td>BLD 02</td>\n",
       "      <td>INTERVAL</td>\n",
       "      <td>NaN</td>\n",
       "      <td>163.0</td>\n",
       "      <td>272</td>\n",
       "      <td>K016300</td>\n",
       "      <td>FEDERAL</td>\n",
       "      <td>...</td>\n",
       "      <td>1096666</td>\n",
       "      <td>N</td>\n",
       "      <td>1287.71</td>\n",
       "      <td>GOV/NYC/068</td>\n",
       "      <td>Yes</td>\n",
       "      <td>0</td>\n",
       "      <td>0.00</td>\n",
       "      <td>116.16</td>\n",
       "      <td>1160.44</td>\n",
       "      <td>127.27</td>\n",
       "    </tr>\n",
       "    <tr>\n",
       "      <th>301313</th>\n",
       "      <td>WYCKOFF GARDENS</td>\n",
       "      <td>BROOKLYN</td>\n",
       "      <td>WYCKOFF GARDENS</td>\n",
       "      <td>BLD 03</td>\n",
       "      <td>INTERVAL</td>\n",
       "      <td>NaN</td>\n",
       "      <td>163.0</td>\n",
       "      <td>272</td>\n",
       "      <td>K016300</td>\n",
       "      <td>FEDERAL</td>\n",
       "      <td>...</td>\n",
       "      <td>1096667</td>\n",
       "      <td>N</td>\n",
       "      <td>1705.42</td>\n",
       "      <td>GOV/NYC/068</td>\n",
       "      <td>Yes</td>\n",
       "      <td>0</td>\n",
       "      <td>0.00</td>\n",
       "      <td>153.84</td>\n",
       "      <td>1536.86</td>\n",
       "      <td>168.56</td>\n",
       "    </tr>\n",
       "    <tr>\n",
       "      <th>301314</th>\n",
       "      <td>WYCKOFF GARDENS</td>\n",
       "      <td>BROOKLYN</td>\n",
       "      <td>WYCKOFF GARDENS</td>\n",
       "      <td>BLD 03</td>\n",
       "      <td>AMR</td>\n",
       "      <td>NaN</td>\n",
       "      <td>163.0</td>\n",
       "      <td>272</td>\n",
       "      <td>K016300</td>\n",
       "      <td>FEDERAL</td>\n",
       "      <td>...</td>\n",
       "      <td>8096664</td>\n",
       "      <td>N</td>\n",
       "      <td>3782.25</td>\n",
       "      <td>GOV/NYC/068</td>\n",
       "      <td>Yes</td>\n",
       "      <td>101200</td>\n",
       "      <td>3408.42</td>\n",
       "      <td>0.00</td>\n",
       "      <td>0.00</td>\n",
       "      <td>373.83</td>\n",
       "    </tr>\n",
       "    <tr>\n",
       "      <th>301315</th>\n",
       "      <td>WYCKOFF GARDENS</td>\n",
       "      <td>BROOKLYN</td>\n",
       "      <td>WYCKOFF GARDENS</td>\n",
       "      <td>BLD 02</td>\n",
       "      <td>AMR</td>\n",
       "      <td>NaN</td>\n",
       "      <td>163.0</td>\n",
       "      <td>272</td>\n",
       "      <td>K016300</td>\n",
       "      <td>FEDERAL</td>\n",
       "      <td>...</td>\n",
       "      <td>8096666</td>\n",
       "      <td>N</td>\n",
       "      <td>2541.43</td>\n",
       "      <td>GOV/NYC/068</td>\n",
       "      <td>Yes</td>\n",
       "      <td>68000</td>\n",
       "      <td>2290.24</td>\n",
       "      <td>0.00</td>\n",
       "      <td>0.00</td>\n",
       "      <td>251.19</td>\n",
       "    </tr>\n",
       "    <tr>\n",
       "      <th>301316</th>\n",
       "      <td>WYCKOFF GARDENS</td>\n",
       "      <td>BROOKLYN</td>\n",
       "      <td>WYCKOFF GARDENS</td>\n",
       "      <td>BLD 03</td>\n",
       "      <td>AMR</td>\n",
       "      <td>NaN</td>\n",
       "      <td>163.0</td>\n",
       "      <td>272</td>\n",
       "      <td>K016300</td>\n",
       "      <td>FEDERAL</td>\n",
       "      <td>...</td>\n",
       "      <td>8096667</td>\n",
       "      <td>N</td>\n",
       "      <td>2967.49</td>\n",
       "      <td>GOV/NYC/068</td>\n",
       "      <td>Yes</td>\n",
       "      <td>79400</td>\n",
       "      <td>2674.19</td>\n",
       "      <td>0.00</td>\n",
       "      <td>0.00</td>\n",
       "      <td>293.30</td>\n",
       "    </tr>\n",
       "  </tbody>\n",
       "</table>\n",
       "<p>301317 rows × 27 columns</p>\n",
       "</div>"
      ],
      "text/plain": [
       "       Development Name   Borough     Account Name Location Meter AMR  \\\n",
       "0                 ADAMS     BRONX            ADAMS   BLD 05      NONE   \n",
       "1                 ADAMS     BRONX            ADAMS   BLD 05      NONE   \n",
       "2                 ADAMS     BRONX            ADAMS   BLD 05      NONE   \n",
       "3                 ADAMS     BRONX            ADAMS   BLD 05      NONE   \n",
       "4                 ADAMS     BRONX            ADAMS   BLD 05      NONE   \n",
       "...                 ...       ...              ...      ...       ...   \n",
       "301312  WYCKOFF GARDENS  BROOKLYN  WYCKOFF GARDENS   BLD 02  INTERVAL   \n",
       "301313  WYCKOFF GARDENS  BROOKLYN  WYCKOFF GARDENS   BLD 03  INTERVAL   \n",
       "301314  WYCKOFF GARDENS  BROOKLYN  WYCKOFF GARDENS   BLD 03       AMR   \n",
       "301315  WYCKOFF GARDENS  BROOKLYN  WYCKOFF GARDENS   BLD 02       AMR   \n",
       "301316  WYCKOFF GARDENS  BROOKLYN  WYCKOFF GARDENS   BLD 03       AMR   \n",
       "\n",
       "         Meter Scope  TDS #  EDP  RC Code Funding Source  ... Meter Number  \\\n",
       "0       BLD 01 to 07  118.0  248  B011800        FEDERAL  ...      7223256   \n",
       "1       BLD 01 to 07  118.0  248  B011800        FEDERAL  ...      7223256   \n",
       "2       BLD 01 to 07  118.0  248  B011800        FEDERAL  ...      7223256   \n",
       "3       BLD 01 to 07  118.0  248  B011800        FEDERAL  ...      7223256   \n",
       "4       BLD 01 to 07  118.0  248  B011800        FEDERAL  ...      7223256   \n",
       "...              ...    ...  ...      ...            ...  ...          ...   \n",
       "301312           NaN  163.0  272  K016300        FEDERAL  ...      1096666   \n",
       "301313           NaN  163.0  272  K016300        FEDERAL  ...      1096667   \n",
       "301314           NaN  163.0  272  K016300        FEDERAL  ...      8096664   \n",
       "301315           NaN  163.0  272  K016300        FEDERAL  ...      8096666   \n",
       "301316           NaN  163.0  272  K016300        FEDERAL  ...      8096667   \n",
       "\n",
       "       Estimated  Current Charges   Rate Class Bill Analyzed  \\\n",
       "0              N         15396.82  GOV/NYC/068           Yes   \n",
       "1              N         14556.34  GOV/NYC/068           Yes   \n",
       "2              N         13904.98  GOV/NYC/068           Yes   \n",
       "3              N         14764.04  GOV/NYC/068           Yes   \n",
       "4              N         13729.54  GOV/NYC/068           Yes   \n",
       "...          ...              ...          ...           ...   \n",
       "301312         N          1287.71  GOV/NYC/068           Yes   \n",
       "301313         N          1705.42  GOV/NYC/068           Yes   \n",
       "301314         N          3782.25  GOV/NYC/068           Yes   \n",
       "301315         N          2541.43  GOV/NYC/068           Yes   \n",
       "301316         N          2967.49  GOV/NYC/068           Yes   \n",
       "\n",
       "       Consumption (KWH)  KWH Charges Consumption (KW) KW Charges  \\\n",
       "0                 128800      7387.97           216.00    2808.00   \n",
       "1                 115200      6607.87           224.00    2912.00   \n",
       "2                 103200      5919.55           216.00    2808.00   \n",
       "3                 105600      6057.22           208.00    2704.00   \n",
       "4                  97600      5598.34           216.00    2808.00   \n",
       "...                  ...          ...              ...        ...   \n",
       "301312                 0         0.00           116.16    1160.44   \n",
       "301313                 0         0.00           153.84    1536.86   \n",
       "301314            101200      3408.42             0.00       0.00   \n",
       "301315             68000      2290.24             0.00       0.00   \n",
       "301316             79400      2674.19             0.00       0.00   \n",
       "\n",
       "        Other charges  \n",
       "0             5200.85  \n",
       "1             5036.47  \n",
       "2             5177.43  \n",
       "3             6002.82  \n",
       "4             5323.20  \n",
       "...               ...  \n",
       "301312         127.27  \n",
       "301313         168.56  \n",
       "301314         373.83  \n",
       "301315         251.19  \n",
       "301316         293.30  \n",
       "\n",
       "[301317 rows x 27 columns]"
      ]
     },
     "execution_count": 109,
     "metadata": {},
     "output_type": "execute_result"
    }
   ],
   "source": [
    "electric_consumption"
   ]
  },
  {
   "cell_type": "code",
   "execution_count": 111,
   "metadata": {},
   "outputs": [
    {
     "name": "stdout",
     "output_type": "stream",
     "text": [
      "<class 'pandas.core.frame.DataFrame'>\n",
      "RangeIndex: 301317 entries, 0 to 301316\n",
      "Data columns (total 27 columns):\n",
      " #   Column              Non-Null Count   Dtype  \n",
      "---  ------              --------------   -----  \n",
      " 0   Development Name    301193 non-null  object \n",
      " 1   Borough             301317 non-null  object \n",
      " 2   Account Name        301317 non-null  object \n",
      " 3   Location            293386 non-null  object \n",
      " 4   Meter AMR           301231 non-null  object \n",
      " 5   Meter Scope         15799 non-null   object \n",
      " 6   TDS #               299936 non-null  float64\n",
      " 7   EDP                 301317 non-null  int64  \n",
      " 8   RC Code             301317 non-null  object \n",
      " 9   Funding Source      301317 non-null  object \n",
      " 10  AMP #               299972 non-null  object \n",
      " 11  Vendor Name         301317 non-null  object \n",
      " 12  UMIS BILL ID        301317 non-null  int64  \n",
      " 13  Revenue Month       301317 non-null  object \n",
      " 14  Service Start Date  301314 non-null  object \n",
      " 15  Service End Date    301314 non-null  object \n",
      " 16  # days              301314 non-null  float64\n",
      " 17  Meter Number        301317 non-null  object \n",
      " 18  Estimated           300978 non-null  object \n",
      " 19  Current Charges     301317 non-null  float64\n",
      " 20  Rate Class          301317 non-null  object \n",
      " 21  Bill Analyzed       301317 non-null  object \n",
      " 22  Consumption (KWH)   301317 non-null  int64  \n",
      " 23  KWH Charges         301317 non-null  float64\n",
      " 24  Consumption (KW)    301317 non-null  float64\n",
      " 25  KW Charges          301317 non-null  float64\n",
      " 26  Other charges       301317 non-null  float64\n",
      "dtypes: float64(7), int64(3), object(17)\n",
      "memory usage: 62.1+ MB\n"
     ]
    }
   ],
   "source": [
    "electric_consumption.info()"
   ]
  },
  {
   "cell_type": "code",
   "execution_count": 112,
   "metadata": {},
   "outputs": [
    {
     "data": {
      "text/plain": [
       "array(['BRONX', 'BROOKLYN', 'MANHATTAN', 'QUEENS', 'STATEN ISLAND',\n",
       "       'NON DEVELOPMENT FACILITY', 'FHA'], dtype=object)"
      ]
     },
     "execution_count": 112,
     "metadata": {},
     "output_type": "execute_result"
    }
   ],
   "source": [
    "electric_consumption.Borough.unique()"
   ]
  },
  {
   "cell_type": "code",
   "execution_count": 113,
   "metadata": {},
   "outputs": [
    {
     "data": {
      "text/html": [
       "<div>\n",
       "<style scoped>\n",
       "    .dataframe tbody tr th:only-of-type {\n",
       "        vertical-align: middle;\n",
       "    }\n",
       "\n",
       "    .dataframe tbody tr th {\n",
       "        vertical-align: top;\n",
       "    }\n",
       "\n",
       "    .dataframe thead th {\n",
       "        text-align: right;\n",
       "    }\n",
       "</style>\n",
       "<table border=\"1\" class=\"dataframe\">\n",
       "  <thead>\n",
       "    <tr style=\"text-align: right;\">\n",
       "      <th></th>\n",
       "      <th>TDS #</th>\n",
       "      <th>EDP</th>\n",
       "      <th>UMIS BILL ID</th>\n",
       "      <th># days</th>\n",
       "      <th>Current Charges</th>\n",
       "      <th>Consumption (KWH)</th>\n",
       "      <th>KWH Charges</th>\n",
       "      <th>Consumption (KW)</th>\n",
       "      <th>KW Charges</th>\n",
       "      <th>Other charges</th>\n",
       "    </tr>\n",
       "  </thead>\n",
       "  <tbody>\n",
       "    <tr>\n",
       "      <th>count</th>\n",
       "      <td>299936.000000</td>\n",
       "      <td>301317.000000</td>\n",
       "      <td>3.013170e+05</td>\n",
       "      <td>301314.000000</td>\n",
       "      <td>301317.000000</td>\n",
       "      <td>3.013170e+05</td>\n",
       "      <td>301317.000000</td>\n",
       "      <td>301317.000000</td>\n",
       "      <td>301317.000000</td>\n",
       "      <td>301317.000000</td>\n",
       "    </tr>\n",
       "    <tr>\n",
       "      <th>mean</th>\n",
       "      <td>118.513576</td>\n",
       "      <td>424.835111</td>\n",
       "      <td>4.471668e+06</td>\n",
       "      <td>30.365592</td>\n",
       "      <td>4359.692793</td>\n",
       "      <td>3.243415e+04</td>\n",
       "      <td>1586.340925</td>\n",
       "      <td>65.953820</td>\n",
       "      <td>1035.045797</td>\n",
       "      <td>1738.306071</td>\n",
       "    </tr>\n",
       "    <tr>\n",
       "      <th>std</th>\n",
       "      <td>128.908939</td>\n",
       "      <td>185.714308</td>\n",
       "      <td>1.963247e+06</td>\n",
       "      <td>1.664890</td>\n",
       "      <td>6237.267626</td>\n",
       "      <td>5.053216e+04</td>\n",
       "      <td>2649.869237</td>\n",
       "      <td>645.758963</td>\n",
       "      <td>1734.666074</td>\n",
       "      <td>3626.491037</td>\n",
       "    </tr>\n",
       "    <tr>\n",
       "      <th>min</th>\n",
       "      <td>1.000000</td>\n",
       "      <td>63.000000</td>\n",
       "      <td>1.726303e+06</td>\n",
       "      <td>1.000000</td>\n",
       "      <td>-1207.550000</td>\n",
       "      <td>0.000000e+00</td>\n",
       "      <td>0.000000</td>\n",
       "      <td>0.000000</td>\n",
       "      <td>0.000000</td>\n",
       "      <td>-59396.430000</td>\n",
       "    </tr>\n",
       "    <tr>\n",
       "      <th>25%</th>\n",
       "      <td>33.000000</td>\n",
       "      <td>227.000000</td>\n",
       "      <td>2.843192e+06</td>\n",
       "      <td>29.000000</td>\n",
       "      <td>446.130000</td>\n",
       "      <td>0.000000e+00</td>\n",
       "      <td>0.000000</td>\n",
       "      <td>0.000000</td>\n",
       "      <td>0.000000</td>\n",
       "      <td>30.380000</td>\n",
       "    </tr>\n",
       "    <tr>\n",
       "      <th>50%</th>\n",
       "      <td>64.000000</td>\n",
       "      <td>426.000000</td>\n",
       "      <td>4.100110e+06</td>\n",
       "      <td>30.000000</td>\n",
       "      <td>2573.780000</td>\n",
       "      <td>1.604000e+04</td>\n",
       "      <td>730.020000</td>\n",
       "      <td>27.220000</td>\n",
       "      <td>381.720000</td>\n",
       "      <td>1037.400000</td>\n",
       "    </tr>\n",
       "    <tr>\n",
       "      <th>75%</th>\n",
       "      <td>162.000000</td>\n",
       "      <td>552.000000</td>\n",
       "      <td>5.736544e+06</td>\n",
       "      <td>32.000000</td>\n",
       "      <td>5844.540000</td>\n",
       "      <td>4.784000e+04</td>\n",
       "      <td>2263.150000</td>\n",
       "      <td>94.400000</td>\n",
       "      <td>1528.060000</td>\n",
       "      <td>2780.500000</td>\n",
       "    </tr>\n",
       "    <tr>\n",
       "      <th>max</th>\n",
       "      <td>582.000000</td>\n",
       "      <td>999.000000</td>\n",
       "      <td>8.893530e+06</td>\n",
       "      <td>257.000000</td>\n",
       "      <td>329800.370000</td>\n",
       "      <td>1.779600e+06</td>\n",
       "      <td>195575.860000</td>\n",
       "      <td>329074.000000</td>\n",
       "      <td>78782.960000</td>\n",
       "      <td>134224.510000</td>\n",
       "    </tr>\n",
       "  </tbody>\n",
       "</table>\n",
       "</div>"
      ],
      "text/plain": [
       "               TDS #            EDP  UMIS BILL ID         # days  \\\n",
       "count  299936.000000  301317.000000  3.013170e+05  301314.000000   \n",
       "mean      118.513576     424.835111  4.471668e+06      30.365592   \n",
       "std       128.908939     185.714308  1.963247e+06       1.664890   \n",
       "min         1.000000      63.000000  1.726303e+06       1.000000   \n",
       "25%        33.000000     227.000000  2.843192e+06      29.000000   \n",
       "50%        64.000000     426.000000  4.100110e+06      30.000000   \n",
       "75%       162.000000     552.000000  5.736544e+06      32.000000   \n",
       "max       582.000000     999.000000  8.893530e+06     257.000000   \n",
       "\n",
       "       Current Charges  Consumption (KWH)    KWH Charges  Consumption (KW)  \\\n",
       "count    301317.000000       3.013170e+05  301317.000000     301317.000000   \n",
       "mean       4359.692793       3.243415e+04    1586.340925         65.953820   \n",
       "std        6237.267626       5.053216e+04    2649.869237        645.758963   \n",
       "min       -1207.550000       0.000000e+00       0.000000          0.000000   \n",
       "25%         446.130000       0.000000e+00       0.000000          0.000000   \n",
       "50%        2573.780000       1.604000e+04     730.020000         27.220000   \n",
       "75%        5844.540000       4.784000e+04    2263.150000         94.400000   \n",
       "max      329800.370000       1.779600e+06  195575.860000     329074.000000   \n",
       "\n",
       "          KW Charges  Other charges  \n",
       "count  301317.000000  301317.000000  \n",
       "mean     1035.045797    1738.306071  \n",
       "std      1734.666074    3626.491037  \n",
       "min         0.000000  -59396.430000  \n",
       "25%         0.000000      30.380000  \n",
       "50%       381.720000    1037.400000  \n",
       "75%      1528.060000    2780.500000  \n",
       "max     78782.960000  134224.510000  "
      ]
     },
     "execution_count": 113,
     "metadata": {},
     "output_type": "execute_result"
    }
   ],
   "source": [
    "electric_consumption.describe()"
   ]
  },
  {
   "cell_type": "code",
   "execution_count": 114,
   "metadata": {},
   "outputs": [
    {
     "data": {
      "text/plain": [
       "<bound method hist_frame of        Development Name   Borough     Account Name Location Meter AMR  \\\n",
       "0                 ADAMS     BRONX            ADAMS   BLD 05      NONE   \n",
       "1                 ADAMS     BRONX            ADAMS   BLD 05      NONE   \n",
       "2                 ADAMS     BRONX            ADAMS   BLD 05      NONE   \n",
       "3                 ADAMS     BRONX            ADAMS   BLD 05      NONE   \n",
       "4                 ADAMS     BRONX            ADAMS   BLD 05      NONE   \n",
       "...                 ...       ...              ...      ...       ...   \n",
       "301312  WYCKOFF GARDENS  BROOKLYN  WYCKOFF GARDENS   BLD 02  INTERVAL   \n",
       "301313  WYCKOFF GARDENS  BROOKLYN  WYCKOFF GARDENS   BLD 03  INTERVAL   \n",
       "301314  WYCKOFF GARDENS  BROOKLYN  WYCKOFF GARDENS   BLD 03       AMR   \n",
       "301315  WYCKOFF GARDENS  BROOKLYN  WYCKOFF GARDENS   BLD 02       AMR   \n",
       "301316  WYCKOFF GARDENS  BROOKLYN  WYCKOFF GARDENS   BLD 03       AMR   \n",
       "\n",
       "         Meter Scope  TDS #  EDP  RC Code Funding Source  ... Meter Number  \\\n",
       "0       BLD 01 to 07  118.0  248  B011800        FEDERAL  ...      7223256   \n",
       "1       BLD 01 to 07  118.0  248  B011800        FEDERAL  ...      7223256   \n",
       "2       BLD 01 to 07  118.0  248  B011800        FEDERAL  ...      7223256   \n",
       "3       BLD 01 to 07  118.0  248  B011800        FEDERAL  ...      7223256   \n",
       "4       BLD 01 to 07  118.0  248  B011800        FEDERAL  ...      7223256   \n",
       "...              ...    ...  ...      ...            ...  ...          ...   \n",
       "301312           NaN  163.0  272  K016300        FEDERAL  ...      1096666   \n",
       "301313           NaN  163.0  272  K016300        FEDERAL  ...      1096667   \n",
       "301314           NaN  163.0  272  K016300        FEDERAL  ...      8096664   \n",
       "301315           NaN  163.0  272  K016300        FEDERAL  ...      8096666   \n",
       "301316           NaN  163.0  272  K016300        FEDERAL  ...      8096667   \n",
       "\n",
       "       Estimated  Current Charges   Rate Class Bill Analyzed  \\\n",
       "0              N         15396.82  GOV/NYC/068           Yes   \n",
       "1              N         14556.34  GOV/NYC/068           Yes   \n",
       "2              N         13904.98  GOV/NYC/068           Yes   \n",
       "3              N         14764.04  GOV/NYC/068           Yes   \n",
       "4              N         13729.54  GOV/NYC/068           Yes   \n",
       "...          ...              ...          ...           ...   \n",
       "301312         N          1287.71  GOV/NYC/068           Yes   \n",
       "301313         N          1705.42  GOV/NYC/068           Yes   \n",
       "301314         N          3782.25  GOV/NYC/068           Yes   \n",
       "301315         N          2541.43  GOV/NYC/068           Yes   \n",
       "301316         N          2967.49  GOV/NYC/068           Yes   \n",
       "\n",
       "       Consumption (KWH)  KWH Charges Consumption (KW) KW Charges  \\\n",
       "0                 128800      7387.97           216.00    2808.00   \n",
       "1                 115200      6607.87           224.00    2912.00   \n",
       "2                 103200      5919.55           216.00    2808.00   \n",
       "3                 105600      6057.22           208.00    2704.00   \n",
       "4                  97600      5598.34           216.00    2808.00   \n",
       "...                  ...          ...              ...        ...   \n",
       "301312                 0         0.00           116.16    1160.44   \n",
       "301313                 0         0.00           153.84    1536.86   \n",
       "301314            101200      3408.42             0.00       0.00   \n",
       "301315             68000      2290.24             0.00       0.00   \n",
       "301316             79400      2674.19             0.00       0.00   \n",
       "\n",
       "        Other charges  \n",
       "0             5200.85  \n",
       "1             5036.47  \n",
       "2             5177.43  \n",
       "3             6002.82  \n",
       "4             5323.20  \n",
       "...               ...  \n",
       "301312         127.27  \n",
       "301313         168.56  \n",
       "301314         373.83  \n",
       "301315         251.19  \n",
       "301316         293.30  \n",
       "\n",
       "[301317 rows x 27 columns]>"
      ]
     },
     "execution_count": 114,
     "metadata": {},
     "output_type": "execute_result"
    }
   ],
   "source": [
    "electric_consumption.hist"
   ]
  },
  {
   "cell_type": "markdown",
   "metadata": {},
   "source": [
    "# Visualizations"
   ]
  },
  {
   "cell_type": "code",
   "execution_count": 115,
   "metadata": {},
   "outputs": [
    {
     "data": {
      "image/png": "[encoded data removed]",
      "text/plain": [
       "<Figure size 1440x1080 with 12 Axes>"
      ]
     },
     "metadata": {
      "needs_background": "light"
     },
     "output_type": "display_data"
    }
   ],
   "source": [
    "%matplotlib inline \n",
    "electric_consumption.hist(bins=100, figsize=(20,15)) \n",
    "plt.show()"
   ]
  },
  {
   "cell_type": "code",
   "execution_count": 116,
   "metadata": {},
   "outputs": [
    {
     "data": {
      "text/plain": [
       "array([[<matplotlib.axes._subplots.AxesSubplot object at 0x7f819afe8d90>,\n",
       "        <matplotlib.axes._subplots.AxesSubplot object at 0x7f819e4ce110>,\n",
       "        <matplotlib.axes._subplots.AxesSubplot object at 0x7f819f37edd0>,\n",
       "        <matplotlib.axes._subplots.AxesSubplot object at 0x7f819f395390>,\n",
       "        <matplotlib.axes._subplots.AxesSubplot object at 0x7f819f3a8910>],\n",
       "       [<matplotlib.axes._subplots.AxesSubplot object at 0x7f819d40ee90>,\n",
       "        <matplotlib.axes._subplots.AxesSubplot object at 0x7f819e86add0>,\n",
       "        <matplotlib.axes._subplots.AxesSubplot object at 0x7f819e841d10>,\n",
       "        <matplotlib.axes._subplots.AxesSubplot object at 0x7f819e841810>,\n",
       "        <matplotlib.axes._subplots.AxesSubplot object at 0x7f81cf8cb590>],\n",
       "       [<matplotlib.axes._subplots.AxesSubplot object at 0x7f819e83df10>,\n",
       "        <matplotlib.axes._subplots.AxesSubplot object at 0x7f819abef910>,\n",
       "        <matplotlib.axes._subplots.AxesSubplot object at 0x7f819e41cb10>,\n",
       "        <matplotlib.axes._subplots.AxesSubplot object at 0x7f819aff6250>,\n",
       "        <matplotlib.axes._subplots.AxesSubplot object at 0x7f819e6163d0>],\n",
       "       [<matplotlib.axes._subplots.AxesSubplot object at 0x7f819e7e2ed0>,\n",
       "        <matplotlib.axes._subplots.AxesSubplot object at 0x7f819e3201d0>,\n",
       "        <matplotlib.axes._subplots.AxesSubplot object at 0x7f819e32ca10>,\n",
       "        <matplotlib.axes._subplots.AxesSubplot object at 0x7f819e6eb450>,\n",
       "        <matplotlib.axes._subplots.AxesSubplot object at 0x7f819e2f40d0>],\n",
       "       [<matplotlib.axes._subplots.AxesSubplot object at 0x7f819e3a34d0>,\n",
       "        <matplotlib.axes._subplots.AxesSubplot object at 0x7f819e374590>,\n",
       "        <matplotlib.axes._subplots.AxesSubplot object at 0x7f819adbe850>,\n",
       "        <matplotlib.axes._subplots.AxesSubplot object at 0x7f819e731990>,\n",
       "        <matplotlib.axes._subplots.AxesSubplot object at 0x7f81caf00110>]],\n",
       "      dtype=object)"
      ]
     },
     "execution_count": 116,
     "metadata": {},
     "output_type": "execute_result"
    },
    {
     "data": {
      "image/png": "[encoded data removed]",
      "text/plain": [
       "<Figure size 864x576 with 25 Axes>"
      ]
     },
     "metadata": {
      "needs_background": "light"
     },
     "output_type": "display_data"
    }
   ],
   "source": [
    "attributes = [\"# days\", \"EDP\", \"Consumption (KWH)\", \"KWH Charges\", \"Current Charges\"]\n",
    "scatter_matrix(electric_consumption[attributes], figsize=(12, 8))"
   ]
  },
  {
   "cell_type": "code",
   "execution_count": 117,
   "metadata": {},
   "outputs": [
    {
     "data": {
      "text/html": [
       "<div>\n",
       "<style scoped>\n",
       "    .dataframe tbody tr th:only-of-type {\n",
       "        vertical-align: middle;\n",
       "    }\n",
       "\n",
       "    .dataframe tbody tr th {\n",
       "        vertical-align: top;\n",
       "    }\n",
       "\n",
       "    .dataframe thead th {\n",
       "        text-align: right;\n",
       "    }\n",
       "</style>\n",
       "<table border=\"1\" class=\"dataframe\">\n",
       "  <thead>\n",
       "    <tr style=\"text-align: right;\">\n",
       "      <th></th>\n",
       "      <th>TDS #</th>\n",
       "      <th>EDP</th>\n",
       "      <th>UMIS BILL ID</th>\n",
       "      <th># days</th>\n",
       "      <th>Current Charges</th>\n",
       "      <th>Consumption (KWH)</th>\n",
       "      <th>KWH Charges</th>\n",
       "      <th>Consumption (KW)</th>\n",
       "      <th>KW Charges</th>\n",
       "      <th>Other charges</th>\n",
       "    </tr>\n",
       "  </thead>\n",
       "  <tbody>\n",
       "    <tr>\n",
       "      <th>TDS #</th>\n",
       "      <td>1.000000</td>\n",
       "      <td>0.342350</td>\n",
       "      <td>-0.047025</td>\n",
       "      <td>-0.003635</td>\n",
       "      <td>-0.060324</td>\n",
       "      <td>-0.062816</td>\n",
       "      <td>-0.056086</td>\n",
       "      <td>-0.008567</td>\n",
       "      <td>-0.061626</td>\n",
       "      <td>-0.033363</td>\n",
       "    </tr>\n",
       "    <tr>\n",
       "      <th>EDP</th>\n",
       "      <td>0.342350</td>\n",
       "      <td>1.000000</td>\n",
       "      <td>-0.006871</td>\n",
       "      <td>-0.000422</td>\n",
       "      <td>-0.118232</td>\n",
       "      <td>-0.110852</td>\n",
       "      <td>-0.097717</td>\n",
       "      <td>-0.020998</td>\n",
       "      <td>-0.121361</td>\n",
       "      <td>-0.073897</td>\n",
       "    </tr>\n",
       "    <tr>\n",
       "      <th>UMIS BILL ID</th>\n",
       "      <td>-0.047025</td>\n",
       "      <td>-0.006871</td>\n",
       "      <td>1.000000</td>\n",
       "      <td>-0.047480</td>\n",
       "      <td>-0.127341</td>\n",
       "      <td>-0.074610</td>\n",
       "      <td>-0.154094</td>\n",
       "      <td>-0.006934</td>\n",
       "      <td>-0.121866</td>\n",
       "      <td>-0.048128</td>\n",
       "    </tr>\n",
       "    <tr>\n",
       "      <th># days</th>\n",
       "      <td>-0.003635</td>\n",
       "      <td>-0.000422</td>\n",
       "      <td>-0.047480</td>\n",
       "      <td>1.000000</td>\n",
       "      <td>0.026932</td>\n",
       "      <td>0.023735</td>\n",
       "      <td>0.043611</td>\n",
       "      <td>-0.000541</td>\n",
       "      <td>0.007510</td>\n",
       "      <td>0.010862</td>\n",
       "    </tr>\n",
       "    <tr>\n",
       "      <th>Current Charges</th>\n",
       "      <td>-0.060324</td>\n",
       "      <td>-0.118232</td>\n",
       "      <td>-0.127341</td>\n",
       "      <td>0.026932</td>\n",
       "      <td>1.000000</td>\n",
       "      <td>0.906807</td>\n",
       "      <td>0.900370</td>\n",
       "      <td>0.068887</td>\n",
       "      <td>0.332156</td>\n",
       "      <td>0.903139</td>\n",
       "    </tr>\n",
       "    <tr>\n",
       "      <th>Consumption (KWH)</th>\n",
       "      <td>-0.062816</td>\n",
       "      <td>-0.110852</td>\n",
       "      <td>-0.074610</td>\n",
       "      <td>0.023735</td>\n",
       "      <td>0.906807</td>\n",
       "      <td>1.000000</td>\n",
       "      <td>0.952623</td>\n",
       "      <td>0.024559</td>\n",
       "      <td>0.113613</td>\n",
       "      <td>0.809209</td>\n",
       "    </tr>\n",
       "    <tr>\n",
       "      <th>KWH Charges</th>\n",
       "      <td>-0.056086</td>\n",
       "      <td>-0.097717</td>\n",
       "      <td>-0.154094</td>\n",
       "      <td>0.043611</td>\n",
       "      <td>0.900370</td>\n",
       "      <td>0.952623</td>\n",
       "      <td>1.000000</td>\n",
       "      <td>0.027505</td>\n",
       "      <td>0.126959</td>\n",
       "      <td>0.757137</td>\n",
       "    </tr>\n",
       "    <tr>\n",
       "      <th>Consumption (KW)</th>\n",
       "      <td>-0.008567</td>\n",
       "      <td>-0.020998</td>\n",
       "      <td>-0.006934</td>\n",
       "      <td>-0.000541</td>\n",
       "      <td>0.068887</td>\n",
       "      <td>0.024559</td>\n",
       "      <td>0.027505</td>\n",
       "      <td>1.000000</td>\n",
       "      <td>0.164365</td>\n",
       "      <td>0.019761</td>\n",
       "    </tr>\n",
       "    <tr>\n",
       "      <th>KW Charges</th>\n",
       "      <td>-0.061626</td>\n",
       "      <td>-0.121361</td>\n",
       "      <td>-0.121866</td>\n",
       "      <td>0.007510</td>\n",
       "      <td>0.332156</td>\n",
       "      <td>0.113613</td>\n",
       "      <td>0.126959</td>\n",
       "      <td>0.164365</td>\n",
       "      <td>1.000000</td>\n",
       "      <td>0.000181</td>\n",
       "    </tr>\n",
       "    <tr>\n",
       "      <th>Other charges</th>\n",
       "      <td>-0.033363</td>\n",
       "      <td>-0.073897</td>\n",
       "      <td>-0.048128</td>\n",
       "      <td>0.010862</td>\n",
       "      <td>0.903139</td>\n",
       "      <td>0.809209</td>\n",
       "      <td>0.757137</td>\n",
       "      <td>0.019761</td>\n",
       "      <td>0.000181</td>\n",
       "      <td>1.000000</td>\n",
       "    </tr>\n",
       "  </tbody>\n",
       "</table>\n",
       "</div>"
      ],
      "text/plain": [
       "                      TDS #       EDP  UMIS BILL ID    # days  \\\n",
       "TDS #              1.000000  0.342350     -0.047025 -0.003635   \n",
       "EDP                0.342350  1.000000     -0.006871 -0.000422   \n",
       "UMIS BILL ID      -0.047025 -0.006871      1.000000 -0.047480   \n",
       "# days            -0.003635 -0.000422     -0.047480  1.000000   \n",
       "Current Charges   -0.060324 -0.118232     -0.127341  0.026932   \n",
       "Consumption (KWH) -0.062816 -0.110852     -0.074610  0.023735   \n",
       "KWH Charges       -0.056086 -0.097717     -0.154094  0.043611   \n",
       "Consumption (KW)  -0.008567 -0.020998     -0.006934 -0.000541   \n",
       "KW Charges        -0.061626 -0.121361     -0.121866  0.007510   \n",
       "Other charges     -0.033363 -0.073897     -0.048128  0.010862   \n",
       "\n",
       "                   Current Charges  Consumption (KWH)  KWH Charges  \\\n",
       "TDS #                    -0.060324          -0.062816    -0.056086   \n",
       "EDP                      -0.118232          -0.110852    -0.097717   \n",
       "UMIS BILL ID             -0.127341          -0.074610    -0.154094   \n",
       "# days                    0.026932           0.023735     0.043611   \n",
       "Current Charges           1.000000           0.906807     0.900370   \n",
       "Consumption (KWH)         0.906807           1.000000     0.952623   \n",
       "KWH Charges               0.900370           0.952623     1.000000   \n",
       "Consumption (KW)          0.068887           0.024559     0.027505   \n",
       "KW Charges                0.332156           0.113613     0.126959   \n",
       "Other charges             0.903139           0.809209     0.757137   \n",
       "\n",
       "                   Consumption (KW)  KW Charges  Other charges  \n",
       "TDS #                     -0.008567   -0.061626      -0.033363  \n",
       "EDP                       -0.020998   -0.121361      -0.073897  \n",
       "UMIS BILL ID              -0.006934   -0.121866      -0.048128  \n",
       "# days                    -0.000541    0.007510       0.010862  \n",
       "Current Charges            0.068887    0.332156       0.903139  \n",
       "Consumption (KWH)          0.024559    0.113613       0.809209  \n",
       "KWH Charges                0.027505    0.126959       0.757137  \n",
       "Consumption (KW)           1.000000    0.164365       0.019761  \n",
       "KW Charges                 0.164365    1.000000       0.000181  \n",
       "Other charges              0.019761    0.000181       1.000000  "
      ]
     },
     "execution_count": 117,
     "metadata": {},
     "output_type": "execute_result"
    }
   ],
   "source": [
    "electric_consumption.corr()"
   ]
  },
  {
   "cell_type": "markdown",
   "metadata": {},
   "source": [
    "# Missing Value and Data Cleaning"
   ]
  },
  {
   "cell_type": "code",
   "execution_count": 118,
   "metadata": {},
   "outputs": [
    {
     "data": {
      "text/plain": [
       "False"
      ]
     },
     "execution_count": 118,
     "metadata": {},
     "output_type": "execute_result"
    }
   ],
   "source": [
    "electric_consumption['Consumption (KWH)'].isnull().values.any()"
   ]
  },
  {
   "cell_type": "code",
   "execution_count": 129,
   "metadata": {},
   "outputs": [],
   "source": [
    "electric_consumption['Consumption (KWH)'] = electric_consumption['Consumption (KWH)'].fillna(electric_consumption['Consumption (KWH)'].mean())"
   ]
  },
  {
   "cell_type": "code",
   "execution_count": 119,
   "metadata": {},
   "outputs": [
    {
     "data": {
      "text/plain": [
       "True"
      ]
     },
     "execution_count": 119,
     "metadata": {},
     "output_type": "execute_result"
    }
   ],
   "source": [
    "electric_consumption['TDS #'].isnull().values.any()"
   ]
  },
  {
   "cell_type": "code",
   "execution_count": 128,
   "metadata": {},
   "outputs": [],
   "source": [
    "electric_consumption['TDS #'] = electric_consumption['TDS #'].fillna(electric_consumption['TDS #'].median())"
   ]
  },
  {
   "cell_type": "code",
   "execution_count": 120,
   "metadata": {},
   "outputs": [
    {
     "data": {
      "text/plain": [
       "False"
      ]
     },
     "execution_count": 120,
     "metadata": {},
     "output_type": "execute_result"
    }
   ],
   "source": [
    "electric_consumption['EDP'].isnull().values.any()"
   ]
  },
  {
   "cell_type": "code",
   "execution_count": 127,
   "metadata": {},
   "outputs": [],
   "source": [
    "electric_consumption['EDP'] = electric_consumption['EDP'].fillna(electric_consumption['EDP'].mean())"
   ]
  },
  {
   "cell_type": "code",
   "execution_count": 121,
   "metadata": {},
   "outputs": [
    {
     "data": {
      "text/plain": [
       "True"
      ]
     },
     "execution_count": 121,
     "metadata": {},
     "output_type": "execute_result"
    }
   ],
   "source": [
    "electric_consumption['# days'].isnull().values.any()"
   ]
  },
  {
   "cell_type": "code",
   "execution_count": 126,
   "metadata": {},
   "outputs": [],
   "source": [
    "electric_consumption['# days'] = electric_consumption['# days'].fillna(electric_consumption['# days'].mean())"
   ]
  },
  {
   "cell_type": "code",
   "execution_count": 122,
   "metadata": {},
   "outputs": [
    {
     "data": {
      "text/plain": [
       "False"
      ]
     },
     "execution_count": 122,
     "metadata": {},
     "output_type": "execute_result"
    }
   ],
   "source": [
    "electric_consumption['Current Charges'].isnull().values.any()"
   ]
  },
  {
   "cell_type": "code",
   "execution_count": 125,
   "metadata": {},
   "outputs": [],
   "source": [
    "electric_consumption['Current Charges'] = electric_consumption['Current Charges'].fillna(electric_consumption['Current Charges'].mean())"
   ]
  },
  {
   "cell_type": "code",
   "execution_count": 123,
   "metadata": {},
   "outputs": [
    {
     "data": {
      "text/plain": [
       "False"
      ]
     },
     "execution_count": 123,
     "metadata": {},
     "output_type": "execute_result"
    }
   ],
   "source": [
    "electric_consumption['KWH Charges'].isnull().values.any()"
   ]
  },
  {
   "cell_type": "code",
   "execution_count": 124,
   "metadata": {},
   "outputs": [],
   "source": [
    "electric_consumption['KWH Charges'] = electric_consumption['KWH Charges'].fillna(electric_consumption['KWH Charges'].mean())"
   ]
  },
  {
   "cell_type": "markdown",
   "metadata": {},
   "source": [
    "# Training and Test Set"
   ]
  },
  {
   "cell_type": "code",
   "execution_count": 130,
   "metadata": {
    "scrolled": true
   },
   "outputs": [
    {
     "name": "stdout",
     "output_type": "stream",
     "text": [
      "        TDS #  EDP  # days  Current Charges  KWH Charges\n",
      "0       118.0  248    33.0         15396.82      7387.97\n",
      "1       118.0  248    30.0         14556.34      6607.87\n",
      "2       118.0  248    29.0         13904.98      5919.55\n",
      "3       118.0  248    31.0         14764.04      6057.22\n",
      "4       118.0  248    28.0         13729.54      5598.34\n",
      "...       ...  ...     ...              ...          ...\n",
      "301312  163.0  272    29.0          1287.71         0.00\n",
      "301313  163.0  272    29.0          1705.42         0.00\n",
      "301314  163.0  272    29.0          3782.25      3408.42\n",
      "301315  163.0  272    29.0          2541.43      2290.24\n",
      "301316  163.0  272    29.0          2967.49      2674.19\n",
      "\n",
      "[301317 rows x 5 columns]\n"
     ]
    }
   ],
   "source": [
    "X = electric_consumption.drop([\"UMIS BILL ID\", \"Consumption (KWH)\",\"Consumption (KW)\", \"KW Charges\", \"Other charges\", \n",
    "                               \"Bill Analyzed\", \"Meter Number\", \"AMP #\", \"Account Name\", \"Service Start Date\",\n",
    "                              \"Service End Date\", \"RC Code\", \"Development Name\", \"Location\", \"Meter AMR\", \"Meter Scope\",\n",
    "                              \"Vendor Name\", \"Funding Source\", \"Rate Class\", \"Revenue Month\", \"Borough\", \"Estimated\"],axis=1)\n",
    "print(X)"
   ]
  },
  {
   "cell_type": "code",
   "execution_count": 131,
   "metadata": {},
   "outputs": [
    {
     "name": "stdout",
     "output_type": "stream",
     "text": [
      "0         128800\n",
      "1         115200\n",
      "2         103200\n",
      "3         105600\n",
      "4          97600\n",
      "           ...  \n",
      "301312         0\n",
      "301313         0\n",
      "301314    101200\n",
      "301315     68000\n",
      "301316     79400\n",
      "Name: Consumption (KWH), Length: 301317, dtype: int64\n"
     ]
    }
   ],
   "source": [
    "y = electric_consumption['Consumption (KWH)']\n",
    "print(y)"
   ]
  },
  {
   "cell_type": "code",
   "execution_count": 132,
   "metadata": {},
   "outputs": [],
   "source": [
    "from sklearn.model_selection import train_test_split\n",
    "\n",
    "X_train, X_test, y_train, y_test = train_test_split(X, y, random_state=0)"
   ]
  },
  {
   "cell_type": "code",
   "execution_count": 133,
   "metadata": {},
   "outputs": [],
   "source": [
    "from sklearn.linear_model import LinearRegression\n",
    "\n",
    "linreg = LinearRegression().fit(X_train, y_train)"
   ]
  },
  {
   "cell_type": "code",
   "execution_count": 134,
   "metadata": {},
   "outputs": [
    {
     "name": "stdout",
     "output_type": "stream",
     "text": [
      "Test set score: 0.93\n"
     ]
    }
   ],
   "source": [
    "print(\"Test set score: {:.2f}\".format(linreg.score(X_test, y_test)))"
   ]
  },
  {
   "cell_type": "markdown",
   "metadata": {},
   "source": [
    "# Data Transformations"
   ]
  },
  {
   "cell_type": "code",
   "execution_count": 135,
   "metadata": {},
   "outputs": [
    {
     "name": "stdout",
     "output_type": "stream",
     "text": [
      "          # days\n",
      "0       3.496508\n",
      "1       3.401197\n",
      "2       3.367296\n",
      "3       3.433987\n",
      "4       3.332205\n",
      "...          ...\n",
      "301312  3.367296\n",
      "301313  3.367296\n",
      "301314  3.367296\n",
      "301315  3.367296\n",
      "301316  3.367296\n",
      "\n",
      "[301317 rows x 1 columns]\n"
     ]
    }
   ],
   "source": [
    "from sklearn.preprocessing import FunctionTransformer\n",
    "\n",
    "transformer = FunctionTransformer(np.log)\n",
    "electric_consumption[[\"# days\"]] = transformer.fit_transform(electric_consumption[[\"# days\"]])\n",
    "print(electric_consumption[[\"# days\"]])"
   ]
  },
  {
   "cell_type": "code",
   "execution_count": 139,
   "metadata": {},
   "outputs": [
    {
     "data": {
      "image/png": "[encoded data removed]",
      "text/plain": [
       "<Figure size 432x288 with 1 Axes>"
      ]
     },
     "metadata": {
      "needs_background": "light"
     },
     "output_type": "display_data"
    }
   ],
   "source": [
    "plt.hist(np.exp(electric_consumption['# days'].values.reshape(-1, 1)), bins=50)\n",
    "plt.show()"
   ]
  },
  {
   "cell_type": "code",
   "execution_count": 141,
   "metadata": {},
   "outputs": [
    {
     "data": {
      "image/png": "[encoded data removed]",
      "text/plain": [
       "<Figure size 432x288 with 1 Axes>"
      ]
     },
     "metadata": {
      "needs_background": "light"
     },
     "output_type": "display_data"
    }
   ],
   "source": [
    "plt.hist(electric_consumption['TDS #'].values.reshape(-1, 1)**2, bins=50)\n",
    "plt.show()"
   ]
  },
  {
   "cell_type": "code",
   "execution_count": 142,
   "metadata": {},
   "outputs": [
    {
     "data": {
      "image/png": "[encoded data removed]",
      "text/plain": [
       "<Figure size 432x288 with 1 Axes>"
      ]
     },
     "metadata": {
      "needs_background": "light"
     },
     "output_type": "display_data"
    }
   ],
   "source": [
    "plt.hist(electric_consumption['Current Charges'].values.reshape(-1, 1)**2, bins=50)\n",
    "plt.show()"
   ]
  },
  {
   "cell_type": "code",
   "execution_count": 149,
   "metadata": {},
   "outputs": [
    {
     "data": {
      "image/png": "[encoded data removed]",
      "text/plain": [
       "<Figure size 432x288 with 1 Axes>"
      ]
     },
     "metadata": {
      "needs_background": "light"
     },
     "output_type": "display_data"
    }
   ],
   "source": [
    "plt.hist(np.log(electric_consumption['EDP'].values.reshape(-1, 1)), bins=10)\n",
    "plt.show()"
   ]
  },
  {
   "cell_type": "code",
   "execution_count": 150,
   "metadata": {},
   "outputs": [
    {
     "data": {
      "text/plain": [
       "array([[<matplotlib.axes._subplots.AxesSubplot object at 0x7f819af6f510>,\n",
       "        <matplotlib.axes._subplots.AxesSubplot object at 0x7f819e9a9850>],\n",
       "       [<matplotlib.axes._subplots.AxesSubplot object at 0x7f819e457210>,\n",
       "        <matplotlib.axes._subplots.AxesSubplot object at 0x7f819adbd3d0>]],\n",
       "      dtype=object)"
      ]
     },
     "execution_count": 150,
     "metadata": {},
     "output_type": "execute_result"
    },
    {
     "data": {
      "image/png": "[encoded data removed]",
      "text/plain": [
       "<Figure size 864x576 with 4 Axes>"
      ]
     },
     "metadata": {
      "needs_background": "light"
     },
     "output_type": "display_data"
    }
   ],
   "source": [
    "group = [\"EDP\", \"TDS #\"]\n",
    "scatter_matrix(electric_consumption[group], figsize=(12, 8))"
   ]
  },
  {
   "cell_type": "code",
   "execution_count": null,
   "metadata": {},
   "outputs": [],
   "source": []
  }
 ],
 "metadata": {
  "kernelspec": {
   "display_name": "Python 3",
   "language": "python",
   "name": "python3"
  },
  "language_info": {
   "codemirror_mode": {
    "name": "ipython",
    "version": 3
   },
   "file_extension": ".py",
   "mimetype": "text/x-python",
   "name": "python",
   "nbconvert_exporter": "python",
   "pygments_lexer": "ipython3",
   "version": "3.7.4"
  }
 },
 "nbformat": 4,
 "nbformat_minor": 2
}
