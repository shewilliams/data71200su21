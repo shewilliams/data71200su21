{
 "cells": [
  {
   "cell_type": "markdown",
   "metadata": {},
   "source": [
    "# Electric Consumption and Cost\n",
    "\n",
    "Data is retrieved from [NYC Open Data](https://data.cityofnewyork.us/Housing-Development/Electric-Consumption-And-Cost-2010-April-2020-/jr24-e7cr).\n",
    "\n",
    "This project is divided into the following:\n",
    "* Data Preparation\n",
    "* Testing & Training\n",
    "* PCA\n",
    "* k-means\n",
    "* Aggolmerate/Hierarchical\n",
    "* DBSCAN"
   ]
  },
  {
   "cell_type": "markdown",
   "metadata": {},
   "source": [
    "# Data Preparation"
   ]
  },
  {
   "cell_type": "code",
   "execution_count": 1,
   "metadata": {},
   "outputs": [],
   "source": [
    "import numpy as np\n",
    "import pandas as pd\n",
    "import matplotlib.pyplot as plt \n",
    "from pandas.plotting import scatter_matrix\n",
    "import mglearn\n",
    "\n",
    "import warnings\n",
    "warnings.filterwarnings('ignore')"
   ]
  },
  {
   "cell_type": "code",
   "execution_count": 2,
   "metadata": {},
   "outputs": [],
   "source": [
    "ec = pd.read_csv(\"/Users/sheryl/GitHub/data71200su21/Project 1/dataset/electric-consumption.csv\",\n",
    "                                   low_memory=False)"
   ]
  },
  {
   "cell_type": "code",
   "execution_count": 3,
   "metadata": {
    "scrolled": true
   },
   "outputs": [
    {
     "data": {
      "text/plain": [
       "(301317, 27)"
      ]
     },
     "execution_count": 3,
     "metadata": {},
     "output_type": "execute_result"
    }
   ],
   "source": [
    "ec.shape"
   ]
  },
  {
   "cell_type": "code",
   "execution_count": 4,
   "metadata": {},
   "outputs": [
    {
     "name": "stdout",
     "output_type": "stream",
     "text": [
      "<class 'pandas.core.frame.DataFrame'>\n",
      "RangeIndex: 301317 entries, 0 to 301316\n",
      "Data columns (total 27 columns):\n",
      " #   Column              Non-Null Count   Dtype  \n",
      "---  ------              --------------   -----  \n",
      " 0   Development Name    301193 non-null  object \n",
      " 1   Borough             301317 non-null  object \n",
      " 2   Account Name        301317 non-null  object \n",
      " 3   Location            293386 non-null  object \n",
      " 4   Meter AMR           301231 non-null  object \n",
      " 5   Meter Scope         15799 non-null   object \n",
      " 6   TDS #               299936 non-null  float64\n",
      " 7   EDP                 301317 non-null  int64  \n",
      " 8   RC Code             301317 non-null  object \n",
      " 9   Funding Source      301317 non-null  object \n",
      " 10  AMP #               299972 non-null  object \n",
      " 11  Vendor Name         301317 non-null  object \n",
      " 12  UMIS BILL ID        301317 non-null  int64  \n",
      " 13  Revenue Month       301317 non-null  object \n",
      " 14  Service Start Date  301314 non-null  object \n",
      " 15  Service End Date    301314 non-null  object \n",
      " 16  # days              301314 non-null  float64\n",
      " 17  Meter Number        301317 non-null  object \n",
      " 18  Estimated           300978 non-null  object \n",
      " 19  Current Charges     301317 non-null  float64\n",
      " 20  Rate Class          301317 non-null  object \n",
      " 21  Bill Analyzed       301317 non-null  object \n",
      " 22  Consumption (KWH)   301317 non-null  int64  \n",
      " 23  KWH Charges         301317 non-null  float64\n",
      " 24  Consumption (KW)    301317 non-null  float64\n",
      " 25  KW Charges          301317 non-null  float64\n",
      " 26  Other charges       301317 non-null  float64\n",
      "dtypes: float64(7), int64(3), object(17)\n",
      "memory usage: 62.1+ MB\n"
     ]
    }
   ],
   "source": [
    "ec.info()"
   ]
  },
  {
   "cell_type": "code",
   "execution_count": 5,
   "metadata": {},
   "outputs": [],
   "source": [
    "ec_drop0 = ec[ec != 0]"
   ]
  },
  {
   "cell_type": "code",
   "execution_count": 6,
   "metadata": {},
   "outputs": [],
   "source": [
    "ec_negative = ec_drop0[ec_drop0['Current Charges'] > 0]"
   ]
  },
  {
   "cell_type": "code",
   "execution_count": 7,
   "metadata": {},
   "outputs": [
    {
     "name": "stdout",
     "output_type": "stream",
     "text": [
      "         Borough  TDS #  EDP  # days  Current Charges  Consumption (KWH)  \\\n",
      "0          BRONX  118.0  248    33.0         15396.82           128800.0   \n",
      "1          BRONX  118.0  248    30.0         14556.34           115200.0   \n",
      "2          BRONX  118.0  248    29.0         13904.98           103200.0   \n",
      "3          BRONX  118.0  248    31.0         14764.04           105600.0   \n",
      "4          BRONX  118.0  248    28.0         13729.54            97600.0   \n",
      "...          ...    ...  ...     ...              ...                ...   \n",
      "301312  BROOKLYN  163.0  272    29.0          1287.71                NaN   \n",
      "301313  BROOKLYN  163.0  272    29.0          1705.42                NaN   \n",
      "301314  BROOKLYN  163.0  272    29.0          3782.25           101200.0   \n",
      "301315  BROOKLYN  163.0  272    29.0          2541.43            68000.0   \n",
      "301316  BROOKLYN  163.0  272    29.0          2967.49            79400.0   \n",
      "\n",
      "        KWH Charges  \n",
      "0           7387.97  \n",
      "1           6607.87  \n",
      "2           5919.55  \n",
      "3           6057.22  \n",
      "4           5598.34  \n",
      "...             ...  \n",
      "301312          NaN  \n",
      "301313          NaN  \n",
      "301314      3408.42  \n",
      "301315      2290.24  \n",
      "301316      2674.19  \n",
      "\n",
      "[253749 rows x 7 columns]\n"
     ]
    }
   ],
   "source": [
    "ec_dropcolumns = ec_negative.drop([\"UMIS BILL ID\", \"Consumption (KW)\", \"KW Charges\", \"Other charges\", \n",
    "                               \"Bill Analyzed\", \"Meter Number\", \"AMP #\", \"Account Name\", \"Service Start Date\",\n",
    "                              \"Service End Date\", \"RC Code\", \"Development Name\", \"Location\", \"Meter AMR\", \"Meter Scope\",\n",
    "                              \"Vendor Name\", \"Funding Source\", \"Rate Class\", \"Revenue Month\", \"Estimated\"], axis=1)\n",
    "print(ec_dropcolumns)"
   ]
  },
  {
   "cell_type": "code",
   "execution_count": 8,
   "metadata": {},
   "outputs": [
    {
     "name": "stdout",
     "output_type": "stream",
     "text": [
      "         Borough  TDS #  EDP  # days  Current Charges  Consumption (KWH)  \\\n",
      "0          BRONX  118.0  248    33.0         15396.82           128800.0   \n",
      "1          BRONX  118.0  248    30.0         14556.34           115200.0   \n",
      "2          BRONX  118.0  248    29.0         13904.98           103200.0   \n",
      "3          BRONX  118.0  248    31.0         14764.04           105600.0   \n",
      "4          BRONX  118.0  248    28.0         13729.54            97600.0   \n",
      "...          ...    ...  ...     ...              ...                ...   \n",
      "301309  BROOKLYN  163.0  272    29.0          5608.58            67600.0   \n",
      "301310  BROOKLYN  163.0  272    29.0          6438.24            77600.0   \n",
      "301314  BROOKLYN  163.0  272    29.0          3782.25           101200.0   \n",
      "301315  BROOKLYN  163.0  272    29.0          2541.43            68000.0   \n",
      "301316  BROOKLYN  163.0  272    29.0          2967.49            79400.0   \n",
      "\n",
      "        KWH Charges  \n",
      "0           7387.97  \n",
      "1           6607.87  \n",
      "2           5919.55  \n",
      "3           6057.22  \n",
      "4           5598.34  \n",
      "...             ...  \n",
      "301309      2276.77  \n",
      "301310      2613.57  \n",
      "301314      3408.42  \n",
      "301315      2290.24  \n",
      "301316      2674.19  \n",
      "\n",
      "[203155 rows x 7 columns]\n"
     ]
    }
   ],
   "source": [
    "ec_new = ec_dropcolumns.dropna()\n",
    "print(ec_new)"
   ]
  },
  {
   "cell_type": "code",
   "execution_count": 9,
   "metadata": {},
   "outputs": [
    {
     "name": "stdout",
     "output_type": "stream",
     "text": [
      "        Borough  TDS #  EDP  # days  Current Charges  Consumption (KWH)  \\\n",
      "0             2  118.0  248    33.0         15396.82           128800.0   \n",
      "1             2  118.0  248    30.0         14556.34           115200.0   \n",
      "2             2  118.0  248    29.0         13904.98           103200.0   \n",
      "3             2  118.0  248    31.0         14764.04           105600.0   \n",
      "4             2  118.0  248    28.0         13729.54            97600.0   \n",
      "...         ...    ...  ...     ...              ...                ...   \n",
      "301309        1  163.0  272    29.0          5608.58            67600.0   \n",
      "301310        1  163.0  272    29.0          6438.24            77600.0   \n",
      "301314        1  163.0  272    29.0          3782.25           101200.0   \n",
      "301315        1  163.0  272    29.0          2541.43            68000.0   \n",
      "301316        1  163.0  272    29.0          2967.49            79400.0   \n",
      "\n",
      "        KWH Charges  \n",
      "0           7387.97  \n",
      "1           6607.87  \n",
      "2           5919.55  \n",
      "3           6057.22  \n",
      "4           5598.34  \n",
      "...             ...  \n",
      "301309      2276.77  \n",
      "301310      2613.57  \n",
      "301314      3408.42  \n",
      "301315      2290.24  \n",
      "301316      2674.19  \n",
      "\n",
      "[203155 rows x 7 columns]\n"
     ]
    }
   ],
   "source": [
    "#replace boroughs with numerical numbers\n",
    "ec_boro = ec_new.replace({'BROOKLYN': 1, 'MANHATTAN': 4, 'BRONX': 2, 'QUEENS': 5, 'STATEN ISLAND': 6, 'FHA': 3})\n",
    "print(ec_boro)"
   ]
  },
  {
   "cell_type": "code",
   "execution_count": 10,
   "metadata": {},
   "outputs": [
    {
     "data": {
      "text/plain": [
       "1    80141\n",
       "4    52913\n",
       "2    46969\n",
       "5    20677\n",
       "6     1708\n",
       "3      747\n",
       "Name: Borough, dtype: int64"
      ]
     },
     "execution_count": 10,
     "metadata": {},
     "output_type": "execute_result"
    }
   ],
   "source": [
    "# Brooklyn - 1\n",
    "# Bronx - 2\n",
    "# FHA - 3\n",
    "# Manhattan - 4\n",
    "# Queens - 5\n",
    "# Staten Island - 6\n",
    "\n",
    "ec_boro['Borough'].value_counts()"
   ]
  },
  {
   "cell_type": "code",
   "execution_count": 11,
   "metadata": {},
   "outputs": [
    {
     "name": "stdout",
     "output_type": "stream",
     "text": [
      "        Borough  TDS #  EDP  # days  Current Charges  Consumption (KWH)  \\\n",
      "0             2  118.0  248    33.0         15396.82           128800.0   \n",
      "1             2  118.0  248    30.0         14556.34           115200.0   \n",
      "2             2  118.0  248    29.0         13904.98           103200.0   \n",
      "3             2  118.0  248    31.0         14764.04           105600.0   \n",
      "4             2  118.0  248    28.0         13729.54            97600.0   \n",
      "...         ...    ...  ...     ...              ...                ...   \n",
      "301309        1  163.0  272    29.0          5608.58            67600.0   \n",
      "301310        1  163.0  272    29.0          6438.24            77600.0   \n",
      "301314        1  163.0  272    29.0          3782.25           101200.0   \n",
      "301315        1  163.0  272    29.0          2541.43            68000.0   \n",
      "301316        1  163.0  272    29.0          2967.49            79400.0   \n",
      "\n",
      "        KWH Charges  \n",
      "0           7387.97  \n",
      "1           6607.87  \n",
      "2           5919.55  \n",
      "3           6057.22  \n",
      "4           5598.34  \n",
      "...             ...  \n",
      "301309      2276.77  \n",
      "301310      2613.57  \n",
      "301314      3408.42  \n",
      "301315      2290.24  \n",
      "301316      2674.19  \n",
      "\n",
      "[191832 rows x 7 columns]\n"
     ]
    }
   ],
   "source": [
    "#drop the frequencies of Consumption values less than 10\n",
    "counts = ec_boro['Consumption (KWH)'].value_counts()\n",
    "ec_final = ec_boro[~ec_boro['Consumption (KWH)'].isin(counts[counts < 10].index)]\n",
    "print(ec_final)"
   ]
  },
  {
   "cell_type": "code",
   "execution_count": 12,
   "metadata": {
    "scrolled": false
   },
   "outputs": [
    {
     "data": {
      "text/html": [
       "<div>\n",
       "<style scoped>\n",
       "    .dataframe tbody tr th:only-of-type {\n",
       "        vertical-align: middle;\n",
       "    }\n",
       "\n",
       "    .dataframe tbody tr th {\n",
       "        vertical-align: top;\n",
       "    }\n",
       "\n",
       "    .dataframe thead th {\n",
       "        text-align: right;\n",
       "    }\n",
       "</style>\n",
       "<table border=\"1\" class=\"dataframe\">\n",
       "  <thead>\n",
       "    <tr style=\"text-align: right;\">\n",
       "      <th></th>\n",
       "      <th>Borough</th>\n",
       "      <th>TDS #</th>\n",
       "      <th>EDP</th>\n",
       "      <th># days</th>\n",
       "      <th>Current Charges</th>\n",
       "      <th>Consumption (KWH)</th>\n",
       "      <th>KWH Charges</th>\n",
       "    </tr>\n",
       "  </thead>\n",
       "  <tbody>\n",
       "    <tr>\n",
       "      <th>count</th>\n",
       "      <td>191832.000000</td>\n",
       "      <td>191832.000000</td>\n",
       "      <td>191832.000000</td>\n",
       "      <td>191832.000000</td>\n",
       "      <td>191832.000000</td>\n",
       "      <td>191832.000000</td>\n",
       "      <td>191832.000000</td>\n",
       "    </tr>\n",
       "    <tr>\n",
       "      <th>mean</th>\n",
       "      <td>2.442502</td>\n",
       "      <td>139.873040</td>\n",
       "      <td>434.805564</td>\n",
       "      <td>30.359877</td>\n",
       "      <td>5403.773708</td>\n",
       "      <td>44229.928886</td>\n",
       "      <td>2145.255926</td>\n",
       "    </tr>\n",
       "    <tr>\n",
       "      <th>std</th>\n",
       "      <td>1.499267</td>\n",
       "      <td>135.844479</td>\n",
       "      <td>185.868879</td>\n",
       "      <td>1.644027</td>\n",
       "      <td>5206.873244</td>\n",
       "      <td>41029.105579</td>\n",
       "      <td>2082.219438</td>\n",
       "    </tr>\n",
       "    <tr>\n",
       "      <th>min</th>\n",
       "      <td>1.000000</td>\n",
       "      <td>1.000000</td>\n",
       "      <td>200.000000</td>\n",
       "      <td>1.000000</td>\n",
       "      <td>0.310000</td>\n",
       "      <td>1.000000</td>\n",
       "      <td>0.050000</td>\n",
       "    </tr>\n",
       "    <tr>\n",
       "      <th>25%</th>\n",
       "      <td>1.000000</td>\n",
       "      <td>39.000000</td>\n",
       "      <td>237.000000</td>\n",
       "      <td>29.000000</td>\n",
       "      <td>1668.205000</td>\n",
       "      <td>15480.000000</td>\n",
       "      <td>709.180000</td>\n",
       "    </tr>\n",
       "    <tr>\n",
       "      <th>50%</th>\n",
       "      <td>2.000000</td>\n",
       "      <td>74.000000</td>\n",
       "      <td>429.000000</td>\n",
       "      <td>30.000000</td>\n",
       "      <td>4146.890000</td>\n",
       "      <td>35280.000000</td>\n",
       "      <td>1672.700000</td>\n",
       "    </tr>\n",
       "    <tr>\n",
       "      <th>75%</th>\n",
       "      <td>4.000000</td>\n",
       "      <td>240.000000</td>\n",
       "      <td>566.000000</td>\n",
       "      <td>31.000000</td>\n",
       "      <td>7402.150000</td>\n",
       "      <td>61200.000000</td>\n",
       "      <td>2926.590000</td>\n",
       "    </tr>\n",
       "    <tr>\n",
       "      <th>max</th>\n",
       "      <td>6.000000</td>\n",
       "      <td>582.000000</td>\n",
       "      <td>871.000000</td>\n",
       "      <td>152.000000</td>\n",
       "      <td>81084.020000</td>\n",
       "      <td>345600.000000</td>\n",
       "      <td>38313.270000</td>\n",
       "    </tr>\n",
       "  </tbody>\n",
       "</table>\n",
       "</div>"
      ],
      "text/plain": [
       "             Borough          TDS #            EDP         # days  \\\n",
       "count  191832.000000  191832.000000  191832.000000  191832.000000   \n",
       "mean        2.442502     139.873040     434.805564      30.359877   \n",
       "std         1.499267     135.844479     185.868879       1.644027   \n",
       "min         1.000000       1.000000     200.000000       1.000000   \n",
       "25%         1.000000      39.000000     237.000000      29.000000   \n",
       "50%         2.000000      74.000000     429.000000      30.000000   \n",
       "75%         4.000000     240.000000     566.000000      31.000000   \n",
       "max         6.000000     582.000000     871.000000     152.000000   \n",
       "\n",
       "       Current Charges  Consumption (KWH)    KWH Charges  \n",
       "count    191832.000000      191832.000000  191832.000000  \n",
       "mean       5403.773708       44229.928886    2145.255926  \n",
       "std        5206.873244       41029.105579    2082.219438  \n",
       "min           0.310000           1.000000       0.050000  \n",
       "25%        1668.205000       15480.000000     709.180000  \n",
       "50%        4146.890000       35280.000000    1672.700000  \n",
       "75%        7402.150000       61200.000000    2926.590000  \n",
       "max       81084.020000      345600.000000   38313.270000  "
      ]
     },
     "execution_count": 12,
     "metadata": {},
     "output_type": "execute_result"
    }
   ],
   "source": [
    "ec_final.describe()"
   ]
  },
  {
   "cell_type": "code",
   "execution_count": 13,
   "metadata": {},
   "outputs": [
    {
     "name": "stdout",
     "output_type": "stream",
     "text": [
      "<class 'pandas.core.frame.DataFrame'>\n",
      "Int64Index: 191832 entries, 0 to 301316\n",
      "Data columns (total 7 columns):\n",
      " #   Column             Non-Null Count   Dtype  \n",
      "---  ------             --------------   -----  \n",
      " 0   Borough            191832 non-null  int64  \n",
      " 1   TDS #              191832 non-null  float64\n",
      " 2   EDP                191832 non-null  int64  \n",
      " 3   # days             191832 non-null  float64\n",
      " 4   Current Charges    191832 non-null  float64\n",
      " 5   Consumption (KWH)  191832 non-null  float64\n",
      " 6   KWH Charges        191832 non-null  float64\n",
      "dtypes: float64(5), int64(2)\n",
      "memory usage: 11.7 MB\n"
     ]
    }
   ],
   "source": [
    "ec_final.info()"
   ]
  },
  {
   "cell_type": "markdown",
   "metadata": {},
   "source": [
    "# Training Set"
   ]
  },
  {
   "cell_type": "code",
   "execution_count": 14,
   "metadata": {
    "scrolled": false
   },
   "outputs": [
    {
     "data": {
      "text/plain": [
       "Index(['Borough', 'TDS #', 'EDP', '# days', 'Current Charges',\n",
       "       'Consumption (KWH)', 'KWH Charges'],\n",
       "      dtype='object')"
      ]
     },
     "execution_count": 14,
     "metadata": {},
     "output_type": "execute_result"
    }
   ],
   "source": [
    "ec_final.keys()"
   ]
  },
  {
   "cell_type": "code",
   "execution_count": 15,
   "metadata": {},
   "outputs": [
    {
     "name": "stdout",
     "output_type": "stream",
     "text": [
      "        boro    tds  edp  days  current_charges  consumption_kwh  kwh_charges\n",
      "0          2  118.0  248  33.0         15396.82         128800.0      7387.97\n",
      "1          2  118.0  248  30.0         14556.34         115200.0      6607.87\n",
      "2          2  118.0  248  29.0         13904.98         103200.0      5919.55\n",
      "3          2  118.0  248  31.0         14764.04         105600.0      6057.22\n",
      "4          2  118.0  248  28.0         13729.54          97600.0      5598.34\n",
      "...      ...    ...  ...   ...              ...              ...          ...\n",
      "301309     1  163.0  272  29.0          5608.58          67600.0      2276.77\n",
      "301310     1  163.0  272  29.0          6438.24          77600.0      2613.57\n",
      "301314     1  163.0  272  29.0          3782.25         101200.0      3408.42\n",
      "301315     1  163.0  272  29.0          2541.43          68000.0      2290.24\n",
      "301316     1  163.0  272  29.0          2967.49          79400.0      2674.19\n",
      "\n",
      "[191832 rows x 7 columns]\n"
     ]
    }
   ],
   "source": [
    "ec_final = ec_final.rename(columns={\"Borough\": \"boro\", \"TDS #\": \"tds\", \"EDP\": \"edp\", \n",
    "                   \"# days\": \"days\", \"Current Charges\": \"current_charges\", \"Consumption (KWH)\": \"consumption_kwh\",\n",
    "                  \"KWH Charges\": \"kwh_charges\"})\n",
    "print(ec_final)"
   ]
  },
  {
   "cell_type": "code",
   "execution_count": 16,
   "metadata": {
    "scrolled": true
   },
   "outputs": [
    {
     "name": "stdout",
     "output_type": "stream",
     "text": [
      "        current_charges  consumption_kwh  kwh_charges\n",
      "0              15396.82         128800.0      7387.97\n",
      "1              14556.34         115200.0      6607.87\n",
      "2              13904.98         103200.0      5919.55\n",
      "3              14764.04         105600.0      6057.22\n",
      "4              13729.54          97600.0      5598.34\n",
      "...                 ...              ...          ...\n",
      "301309          5608.58          67600.0      2276.77\n",
      "301310          6438.24          77600.0      2613.57\n",
      "301314          3782.25         101200.0      3408.42\n",
      "301315          2541.43          68000.0      2290.24\n",
      "301316          2967.49          79400.0      2674.19\n",
      "\n",
      "[191832 rows x 3 columns]\n"
     ]
    }
   ],
   "source": [
    "X = ec_final[['current_charges', 'consumption_kwh', 'kwh_charges']]\n",
    "print(X)"
   ]
  },
  {
   "cell_type": "code",
   "execution_count": 17,
   "metadata": {},
   "outputs": [
    {
     "name": "stdout",
     "output_type": "stream",
     "text": [
      "0         2\n",
      "1         2\n",
      "2         2\n",
      "3         2\n",
      "4         2\n",
      "         ..\n",
      "301309    1\n",
      "301310    1\n",
      "301314    1\n",
      "301315    1\n",
      "301316    1\n",
      "Name: boro, Length: 191832, dtype: int64\n"
     ]
    }
   ],
   "source": [
    "y = ec_final[\"boro\"]\n",
    "print(y)"
   ]
  },
  {
   "cell_type": "code",
   "execution_count": 18,
   "metadata": {},
   "outputs": [
    {
     "name": "stdout",
     "output_type": "stream",
     "text": [
      "Shape of X is:  (191832, 3) . The shape of y is: (191832,)\n"
     ]
    }
   ],
   "source": [
    "print(\"Shape of X is: \", X.shape, \". The shape of y is:\", y.shape)"
   ]
  },
  {
   "cell_type": "code",
   "execution_count": 20,
   "metadata": {},
   "outputs": [],
   "source": [
    "from sklearn.model_selection import train_test_split\n",
    "\n",
    "X_train, X_test, y_train, y_test = train_test_split(X, y, test_size=0.2, random_state=0)"
   ]
  },
  {
   "cell_type": "code",
   "execution_count": 21,
   "metadata": {},
   "outputs": [
    {
     "name": "stdout",
     "output_type": "stream",
     "text": [
      "Shape of original Electric Consumption dataset : (191832, 7)\n",
      "Shape of X training set : (153465, 3)\n",
      "Shape of y training set : (153465,)\n",
      "Shape of X testing set : (38367, 3)\n",
      "Shape of y testing set : (38367,)\n"
     ]
    }
   ],
   "source": [
    "print(\"Shape of original Electric Consumption dataset :\", ec_final.shape)\n",
    "print(\"Shape of X training set :\", X_train.shape)\n",
    "print(\"Shape of y training set :\", y_train.shape)\n",
    "print(\"Shape of X testing set :\", X_test.shape)\n",
    "print(\"Shape of y testing set :\", y_test.shape)"
   ]
  },
  {
   "cell_type": "code",
   "execution_count": 22,
   "metadata": {},
   "outputs": [
    {
     "name": "stdout",
     "output_type": "stream",
     "text": [
      "        current_charges  consumption_kwh  kwh_charges\n",
      "82214          10363.96          70080.0      3614.73\n",
      "128647          4493.64          41040.0      1873.54\n",
      "46723           3051.78          31360.0      1890.38\n",
      "211835         11669.59         102400.0      4189.18\n",
      "3472            7297.81          53920.0      3092.85\n",
      "...                 ...              ...          ...\n",
      "234628          2947.52          29040.0      1186.68\n",
      "275768          2846.73          36480.0      1384.42\n",
      "177535         21272.52         180400.0      8278.56\n",
      "270350          5982.13          52800.0      2006.50\n",
      "57964           3437.80          22560.0      1237.64\n",
      "\n",
      "[153465 rows x 3 columns]\n"
     ]
    }
   ],
   "source": [
    "print(X_train)"
   ]
  },
  {
   "cell_type": "code",
   "execution_count": 23,
   "metadata": {},
   "outputs": [
    {
     "name": "stdout",
     "output_type": "stream",
     "text": [
      "82214     1\n",
      "128647    5\n",
      "46723     1\n",
      "211835    1\n",
      "3472      1\n",
      "         ..\n",
      "234628    2\n",
      "275768    1\n",
      "177535    1\n",
      "270350    1\n",
      "57964     2\n",
      "Name: boro, Length: 153465, dtype: int64\n"
     ]
    }
   ],
   "source": [
    "print(y_train)"
   ]
  },
  {
   "cell_type": "markdown",
   "metadata": {},
   "source": [
    "# PCA (95% of Variance Captured)"
   ]
  },
  {
   "cell_type": "code",
   "execution_count": 24,
   "metadata": {},
   "outputs": [],
   "source": [
    "from sklearn.preprocessing import StandardScaler\n",
    "\n",
    "sc = StandardScaler()\n",
    "X_train = sc.fit_transform(X_train)\n",
    "X_test = sc.transform(X_test)"
   ]
  },
  {
   "cell_type": "code",
   "execution_count": 25,
   "metadata": {},
   "outputs": [],
   "source": [
    "from sklearn.decomposition import PCA\n",
    "\n",
    "pca = PCA()\n",
    "X_train = pca.fit_transform(X_train)\n",
    "X_test = pca.transform(X_test)"
   ]
  },
  {
   "cell_type": "code",
   "execution_count": 26,
   "metadata": {},
   "outputs": [
    {
     "name": "stdout",
     "output_type": "stream",
     "text": [
      "\n",
      " [0.96164305 0.02477645 0.0135805 ]\n"
     ]
    }
   ],
   "source": [
    "explained_variance = pca.explained_variance_ratio_\n",
    "print(\"\\n\",explained_variance)"
   ]
  },
  {
   "cell_type": "code",
   "execution_count": 27,
   "metadata": {},
   "outputs": [],
   "source": [
    "pca = PCA(n_components=1)\n",
    "X_train = pca.fit_transform(X_train)\n",
    "X_test = pca.transform(X_test)"
   ]
  },
  {
   "cell_type": "code",
   "execution_count": 28,
   "metadata": {},
   "outputs": [
    {
     "name": "stdout",
     "output_type": "stream",
     "text": [
      "[0.96164305]\n"
     ]
    }
   ],
   "source": [
    "explained_variance = pca.explained_variance_ratio_\n",
    "print(explained_variance)"
   ]
  },
  {
   "cell_type": "code",
   "execution_count": 29,
   "metadata": {},
   "outputs": [
    {
     "name": "stdout",
     "output_type": "stream",
     "text": [
      "[[ 1.32226766]\n",
      " [-0.21958694]\n",
      " [-0.51084426]\n",
      " ...\n",
      " [ 5.38027707]\n",
      " [ 0.14780431]\n",
      " [-0.77382548]]\n"
     ]
    }
   ],
   "source": [
    "X_pca2 = pca.transform(X_train)\n",
    "print(X_pca2)"
   ]
  },
  {
   "cell_type": "code",
   "execution_count": 31,
   "metadata": {},
   "outputs": [
    {
     "data": {
      "text/plain": [
       "Text(0, 0.5, 'Second principal component')"
      ]
     },
     "execution_count": 31,
     "metadata": {},
     "output_type": "execute_result"
    },
    {
     "data": {
      "image/png": "[encoded data removed]",
      "text/plain": [
       "<Figure size 576x576 with 1 Axes>"
      ]
     },
     "metadata": {
      "needs_background": "light"
     },
     "output_type": "display_data"
    }
   ],
   "source": [
    "plt.figure(figsize=(8, 8))\n",
    "mglearn.discrete_scatter(X_pca2, y_train)\n",
    "#plt.legend(y_train, loc=\"best\")\n",
    "plt.gca().set_aspect(\"equal\")\n",
    "plt.xlabel(\"First principal component\")\n",
    "plt.ylabel(\"Second principal component\")"
   ]
  },
  {
   "cell_type": "markdown",
   "metadata": {},
   "source": [
    "# Feature Selection"
   ]
  },
  {
   "cell_type": "code",
   "execution_count": 28,
   "metadata": {},
   "outputs": [
    {
     "data": {
      "text/plain": [
       "Text(0, 0.5, 'Second principal component')"
      ]
     },
     "execution_count": 28,
     "metadata": {},
     "output_type": "execute_result"
    },
    {
     "data": {
      "image/png": "[encoded data removed]",
      "text/plain": [
       "<Figure size 576x576 with 1 Axes>"
      ]
     },
     "metadata": {
      "needs_background": "light"
     },
     "output_type": "display_data"
    }
   ],
   "source": [
    "X_pca1 = pca.transform(X_train)\n",
    "\n",
    "# plot first vs. second principal component, colored by class\n",
    "plt.figure(figsize=(8, 8))\n",
    "mglearn.discrete_scatter(X_pca1[:, 0], y_train)\n",
    "plt.legend(y_train, loc=\"best\")\n",
    "plt.gca().set_aspect(\"equal\")\n",
    "plt.xlabel(\"First principal component\")\n",
    "plt.ylabel(\"Second principal component\")"
   ]
  },
  {
   "cell_type": "code",
   "execution_count": null,
   "metadata": {},
   "outputs": [],
   "source": []
  },
  {
   "cell_type": "markdown",
   "metadata": {},
   "source": [
    "# k-Means"
   ]
  },
  {
   "cell_type": "code",
   "execution_count": 32,
   "metadata": {},
   "outputs": [
    {
     "data": {
      "image/png": "[encoded data removed]",
      "text/plain": [
       "<Figure size 432x288 with 1 Axes>"
      ]
     },
     "metadata": {
      "needs_background": "light"
     },
     "output_type": "display_data"
    }
   ],
   "source": [
    "from sklearn.model_selection import StratifiedShuffleSplit\n",
    "from sklearn.cluster import KMeans\n",
    "\n",
    "inertiaVals = {}\n",
    "for k in range(1, 10):\n",
    "    kmeansTmp = KMeans(n_clusters=k, max_iter=1000).fit(X_train)\n",
    "    inertiaVals[k] = kmeansTmp.inertia_ \n",
    "plt.figure()\n",
    "plt.plot(list(inertiaVals.keys()), list(inertiaVals.values()))\n",
    "plt.xlabel(\"Number of cluster\")\n",
    "plt.ylabel(\"Inertia\")\n",
    "plt.show()"
   ]
  },
  {
   "cell_type": "code",
   "execution_count": 33,
   "metadata": {},
   "outputs": [
    {
     "data": {
      "text/plain": [
       "Text(0, 0.5, 'Feature 11')"
      ]
     },
     "execution_count": 33,
     "metadata": {},
     "output_type": "execute_result"
    },
    {
     "data": {
      "image/png": "[encoded data removed]",
      "text/plain": [
       "<Figure size 432x288 with 1 Axes>"
      ]
     },
     "metadata": {
      "needs_background": "light"
     },
     "output_type": "display_data"
    }
   ],
   "source": [
    "kmeans2 = KMeans(n_clusters=4)\n",
    "kmeans2.fit(X_train)\n",
    "\n",
    "mglearn.discrete_scatter(X_train[:, 0], kmeans2.labels_, markers='o')\n",
    "plt.legend([\"Cluster 0\", \"Cluster 1\", \"Cluster 2\"], loc=\"best\")\n",
    "plt.xlabel(\"Feature 9\")\n",
    "plt.ylabel(\"Feature 11\")"
   ]
  },
  {
   "cell_type": "markdown",
   "metadata": {},
   "source": [
    "# Aggolmerate/Hierarchical"
   ]
  },
  {
   "cell_type": "code",
   "execution_count": null,
   "metadata": {},
   "outputs": [],
   "source": [
    "from sklearn.cluster import AgglomerativeClustering\n",
    "\n",
    "agg = AgglomerativeClustering(n_clusters=3)\n",
    "assignment = agg.fit_predict(X_train)\n",
    "\n",
    "mglearn.discrete_scatter(X_train, assignment)\n",
    "plt.legend([\"Cluster 0\", \"Cluster 1\", \"Cluster 2\"], loc=\"best\")\n",
    "plt.xlabel(\"Feature 0\")\n",
    "plt.ylabel(\"Feature 1\")"
   ]
  },
  {
   "cell_type": "code",
   "execution_count": null,
   "metadata": {},
   "outputs": [],
   "source": [
    "# Import the dendrogram function and the ward clustering function from SciPy\n",
    "from scipy.cluster.hierarchy import dendrogram, ward\n",
    "\n",
    "# Apply the ward clustering to the data array X\n",
    "# The SciPy ward function returns an array that specifies the distances\n",
    "# bridged when performing agglomerative clustering\n",
    "linkage_array = ward(X_train)\n",
    "# Now we plot the dendrogram for the linkage_array containing the distances\n",
    "# between clusters\n",
    "dendrogram(linkage_array)\n",
    "\n",
    "# mark the cuts in the tree that signify two or three clusters\n",
    "ax = plt.gca()\n",
    "bounds = ax.get_xbound()\n",
    "ax.plot(bounds, [7.25, 7.25], '--', c='k')\n",
    "ax.plot(bounds, [4, 4], '--', c='k')\n",
    "\n",
    "ax.text(bounds[1], 7.25, ' two clusters', va='center', fontdict={'size': 15})\n",
    "ax.text(bounds[1], 4, ' three clusters', va='center', fontdict={'size': 15})\n",
    "plt.xlabel(\"Sample index\")\n",
    "plt.ylabel(\"Cluster distance\")"
   ]
  },
  {
   "cell_type": "markdown",
   "metadata": {},
   "source": [
    "# DBSCAN"
   ]
  },
  {
   "cell_type": "code",
   "execution_count": 35,
   "metadata": {},
   "outputs": [
    {
     "data": {
      "text/plain": [
       "Text(0, 0.5, 'Feature 1')"
      ]
     },
     "execution_count": 35,
     "metadata": {},
     "output_type": "execute_result"
    },
    {
     "data": {
      "image/png": "[encoded data removed]",
      "text/plain": [
       "<Figure size 432x288 with 1 Axes>"
      ]
     },
     "metadata": {
      "needs_background": "light"
     },
     "output_type": "display_data"
    }
   ],
   "source": [
    "from sklearn.cluster import DBSCAN\n",
    "\n",
    "dbscan = DBSCAN(min_samples=5,eps=0.2)\n",
    "clusters = dbscan.fit_predict(X_train)\n",
    "\n",
    "# plot the cluster assignments\n",
    "plt.scatter(X_train, X_train, c=clusters, cmap=mglearn.cm2, s=60)\n",
    "plt.xlabel(\"Feature 0\")\n",
    "plt.ylabel(\"Feature 1\")\n",
    "\n",
    "mglearn.discrete_scatter(X_train, clusters)\n",
    "plt.legend([\"Cluster 0\", \"Cluster 1\", \"Cluster 2\"], loc=\"best\")\n",
    "plt.xlabel(\"Feature 0\")\n",
    "plt.ylabel(\"Feature 1\")"
   ]
  },
  {
   "cell_type": "code",
   "execution_count": 37,
   "metadata": {},
   "outputs": [
    {
     "ename": "IndexError",
     "evalue": "index 1 is out of bounds for axis 1 with size 1",
     "output_type": "error",
     "traceback": [
      "\u001b[0;31m---------------------------------------------------------------------------\u001b[0m",
      "\u001b[0;31mIndexError\u001b[0m                                Traceback (most recent call last)",
      "\u001b[0;32m<ipython-input-37-edc15a1051b2>\u001b[0m in \u001b[0;36m<module>\u001b[0;34m\u001b[0m\n\u001b[1;32m     13\u001b[0m \u001b[0mplt\u001b[0m\u001b[0;34m.\u001b[0m\u001b[0mylabel\u001b[0m\u001b[0;34m(\u001b[0m\u001b[0;34m\"Feature 1\"\u001b[0m\u001b[0;34m)\u001b[0m\u001b[0;34m\u001b[0m\u001b[0;34m\u001b[0m\u001b[0m\n\u001b[1;32m     14\u001b[0m \u001b[0;34m\u001b[0m\u001b[0m\n\u001b[0;32m---> 15\u001b[0;31m \u001b[0mmglearn\u001b[0m\u001b[0;34m.\u001b[0m\u001b[0mdiscrete_scatter\u001b[0m\u001b[0;34m(\u001b[0m\u001b[0mX_scaled\u001b[0m\u001b[0;34m[\u001b[0m\u001b[0;34m:\u001b[0m\u001b[0;34m,\u001b[0m \u001b[0;36m0\u001b[0m\u001b[0;34m]\u001b[0m\u001b[0;34m,\u001b[0m \u001b[0mX_train\u001b[0m\u001b[0;34m[\u001b[0m\u001b[0;34m:\u001b[0m\u001b[0;34m,\u001b[0m \u001b[0;36m1\u001b[0m\u001b[0;34m]\u001b[0m\u001b[0;34m,\u001b[0m \u001b[0mclusters\u001b[0m\u001b[0;34m)\u001b[0m\u001b[0;34m\u001b[0m\u001b[0;34m\u001b[0m\u001b[0m\n\u001b[0m\u001b[1;32m     16\u001b[0m \u001b[0mplt\u001b[0m\u001b[0;34m.\u001b[0m\u001b[0mlegend\u001b[0m\u001b[0;34m(\u001b[0m\u001b[0;34m[\u001b[0m\u001b[0;34m\"Cluster 0\"\u001b[0m\u001b[0;34m,\u001b[0m \u001b[0;34m\"Cluster 1\"\u001b[0m\u001b[0;34m,\u001b[0m \u001b[0;34m\"Cluster 2\"\u001b[0m\u001b[0;34m]\u001b[0m\u001b[0;34m,\u001b[0m \u001b[0mloc\u001b[0m\u001b[0;34m=\u001b[0m\u001b[0;34m\"best\"\u001b[0m\u001b[0;34m)\u001b[0m\u001b[0;34m\u001b[0m\u001b[0;34m\u001b[0m\u001b[0m\n\u001b[1;32m     17\u001b[0m \u001b[0mplt\u001b[0m\u001b[0;34m.\u001b[0m\u001b[0mxlabel\u001b[0m\u001b[0;34m(\u001b[0m\u001b[0;34m\"Feature 0\"\u001b[0m\u001b[0;34m)\u001b[0m\u001b[0;34m\u001b[0m\u001b[0;34m\u001b[0m\u001b[0m\n",
      "\u001b[0;31mIndexError\u001b[0m: index 1 is out of bounds for axis 1 with size 1"
     ]
    },
    {
     "data": {
      "image/png": "[encoded data removed]",
      "text/plain": [
       "<Figure size 432x288 with 1 Axes>"
      ]
     },
     "metadata": {
      "needs_background": "light"
     },
     "output_type": "display_data"
    }
   ],
   "source": [
    "from sklearn.preprocessing import StandardScaler\n",
    "\n",
    "scaler = StandardScaler()\n",
    "scaler.fit(X_train)\n",
    "X_scaled = scaler.transform(X_train)\n",
    "\n",
    "dbscan = DBSCAN(min_samples=5,eps=0.2)\n",
    "clusters = dbscan.fit_predict(X_scaled)\n",
    "\n",
    "# plot the cluster assignments\n",
    "plt.scatter(X_scaled, y_train, c=clusters, cmap=mglearn.cm2, s=60)\n",
    "plt.xlabel(\"Feature 0\")\n",
    "plt.ylabel(\"Feature 1\")\n",
    "\n",
    "mglearn.discrete_scatter(X_scaled[:, 0], X_train[:, 1], clusters)\n",
    "plt.legend([\"Cluster 0\", \"Cluster 1\", \"Cluster 2\"], loc=\"best\")\n",
    "plt.xlabel(\"Feature 0\")\n",
    "plt.ylabel(\"Feature 1\")"
   ]
  },
  {
   "cell_type": "code",
   "execution_count": 38,
   "metadata": {},
   "outputs": [
    {
     "ename": "NameError",
     "evalue": "name 'AgglomerativeClustering' is not defined",
     "output_type": "error",
     "traceback": [
      "\u001b[0;31m---------------------------------------------------------------------------\u001b[0m",
      "\u001b[0;31mNameError\u001b[0m                                 Traceback (most recent call last)",
      "\u001b[0;32m<ipython-input-38-d0cc0e932bdd>\u001b[0m in \u001b[0;36m<module>\u001b[0;34m\u001b[0m\n\u001b[1;32m     10\u001b[0m \u001b[0;34m\u001b[0m\u001b[0m\n\u001b[1;32m     11\u001b[0m \u001b[0;31m# make a list of algorithms to use\u001b[0m\u001b[0;34m\u001b[0m\u001b[0;34m\u001b[0m\u001b[0;34m\u001b[0m\u001b[0m\n\u001b[0;32m---> 12\u001b[0;31m algorithms = [KMeans(n_clusters=3), AgglomerativeClustering(n_clusters=3),\n\u001b[0m\u001b[1;32m     13\u001b[0m               DBSCAN()]\n\u001b[1;32m     14\u001b[0m \u001b[0;34m\u001b[0m\u001b[0m\n",
      "\u001b[0;31mNameError\u001b[0m: name 'AgglomerativeClustering' is not defined"
     ]
    },
    {
     "data": {
      "image/png": "[encoded data removed]",
      "text/plain": [
       "<Figure size 1080x216 with 4 Axes>"
      ]
     },
     "metadata": {},
     "output_type": "display_data"
    }
   ],
   "source": [
    "from sklearn.metrics.cluster import adjusted_rand_score\n",
    "\n",
    "# Rescale the data to zero mean and unit variance\n",
    "scaler = StandardScaler()\n",
    "scaler.fit(X_train)\n",
    "X_scaled = scaler.transform(X_train)\n",
    "\n",
    "fig, axes = plt.subplots(1, 4, figsize=(15, 3),\n",
    "                         subplot_kw={'xticks': (), 'yticks': ()})\n",
    "\n",
    "# make a list of algorithms to use\n",
    "algorithms = [KMeans(n_clusters=3), AgglomerativeClustering(n_clusters=3),\n",
    "              DBSCAN()]\n",
    "\n",
    "# create a random cluster assignment for reference\n",
    "random_state = np.random.RandomState(seed=0)\n",
    "random_clusters = random_state.randint(low=0, high=2, size=len(X_train))\n",
    "\n",
    "# plot random assignment\n",
    "axes[0].scatter(X_scaled[:, 0], X_scaled[:, 1], c=random_clusters,\n",
    "                cmap=mglearn.cm3, s=60)\n",
    "axes[0].set_title(\"Random assignment - ARI: {:.2f}\".format(\n",
    "        adjusted_rand_score(y_train, random_clusters)))\n",
    "\n",
    "for ax, algorithm in zip(axes[1:], algorithms):\n",
    "    # plot the cluster assignments and cluster centers\n",
    "    clusters = algorithm.fit_predict(X_scaled)\n",
    "    ax.scatter(X_scaled[:, 0], X_scaled[:, 1], c=clusters,\n",
    "               cmap=mglearn.cm3, s=60)\n",
    "    ax.set_title(\"{} - ARI: {:.2f}\".format(algorithm.__class__.__name__,\n",
    "                                           adjusted_rand_score(y_train, clusters)))"
   ]
  },
  {
   "cell_type": "code",
   "execution_count": null,
   "metadata": {},
   "outputs": [],
   "source": []
  },
  {
   "cell_type": "markdown",
   "metadata": {},
   "source": [
    "# breast_cancer data"
   ]
  },
  {
   "cell_type": "code",
   "execution_count": null,
   "metadata": {},
   "outputs": [],
   "source": []
  }
 ],
 "metadata": {
  "kernelspec": {
   "display_name": "Python 3",
   "language": "python",
   "name": "python3"
  },
  "language_info": {
   "codemirror_mode": {
    "name": "ipython",
    "version": 3
   },
   "file_extension": ".py",
   "mimetype": "text/x-python",
   "name": "python",
   "nbconvert_exporter": "python",
   "pygments_lexer": "ipython3",
   "version": "3.7.4"
  }
 },
 "nbformat": 4,
 "nbformat_minor": 2
}
