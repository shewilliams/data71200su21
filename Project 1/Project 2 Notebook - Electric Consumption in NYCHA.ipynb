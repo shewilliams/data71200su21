{
 "cells": [
  {
   "cell_type": "markdown",
   "metadata": {},
   "source": [
    "# Electric Consumption and Cost\n",
    "\n",
    "Data is retrieved from [NYC Open Data](https://data.cityofnewyork.us/Housing-Development/Electric-Consumption-And-Cost-2010-April-2020-/jr24-e7cr).\n",
    "\n",
    "This project is divided into the following:\n",
    "* Data Preparation\n",
    "* Testing & Training\n",
    "* Target Variable\n",
    "* Algorithm 1 - Default\n",
    "* Algorithm 1 - Parameters\n",
    "* Algorithm 2 - Default\n",
    "* Algorithm 2 - Parameters"
   ]
  },
  {
   "cell_type": "markdown",
   "metadata": {},
   "source": [
    "# Data Preparation"
   ]
  },
  {
   "cell_type": "code",
   "execution_count": null,
   "metadata": {},
   "outputs": [],
   "source": [
    "import numpy as np\n",
    "import pandas as pd\n",
    "import matplotlib.pyplot as plt \n",
    "from pandas.plotting import scatter_matrix\n",
    "import mglearn\n",
    "\n",
    "import warnings\n",
    "warnings.filterwarnings('ignore')"
   ]
  },
  {
   "cell_type": "code",
   "execution_count": 8,
   "metadata": {},
   "outputs": [],
   "source": [
    "ec = pd.read_csv(\"/Users/sheryl/GitHub/data71200su21/Project 1/dataset/electric-consumption.csv\",  \n",
    "                                   low_memory=False)"
   ]
  },
  {
   "cell_type": "code",
   "execution_count": 9,
   "metadata": {
    "scrolled": true
   },
   "outputs": [
    {
     "data": {
      "text/html": [
       "<div>\n",
       "<style scoped>\n",
       "    .dataframe tbody tr th:only-of-type {\n",
       "        vertical-align: middle;\n",
       "    }\n",
       "\n",
       "    .dataframe tbody tr th {\n",
       "        vertical-align: top;\n",
       "    }\n",
       "\n",
       "    .dataframe thead th {\n",
       "        text-align: right;\n",
       "    }\n",
       "</style>\n",
       "<table border=\"1\" class=\"dataframe\">\n",
       "  <thead>\n",
       "    <tr style=\"text-align: right;\">\n",
       "      <th></th>\n",
       "      <th>Development Name</th>\n",
       "      <th>Borough</th>\n",
       "      <th>Account Name</th>\n",
       "      <th>Location</th>\n",
       "      <th>Meter AMR</th>\n",
       "      <th>Meter Scope</th>\n",
       "      <th>TDS #</th>\n",
       "      <th>EDP</th>\n",
       "      <th>RC Code</th>\n",
       "      <th>Funding Source</th>\n",
       "      <th>...</th>\n",
       "      <th>Meter Number</th>\n",
       "      <th>Estimated</th>\n",
       "      <th>Current Charges</th>\n",
       "      <th>Rate Class</th>\n",
       "      <th>Bill Analyzed</th>\n",
       "      <th>Consumption (KWH)</th>\n",
       "      <th>KWH Charges</th>\n",
       "      <th>Consumption (KW)</th>\n",
       "      <th>KW Charges</th>\n",
       "      <th>Other charges</th>\n",
       "    </tr>\n",
       "  </thead>\n",
       "  <tbody>\n",
       "    <tr>\n",
       "      <th>0</th>\n",
       "      <td>ADAMS</td>\n",
       "      <td>BRONX</td>\n",
       "      <td>ADAMS</td>\n",
       "      <td>BLD 05</td>\n",
       "      <td>NONE</td>\n",
       "      <td>BLD 01 to 07</td>\n",
       "      <td>118.0</td>\n",
       "      <td>248</td>\n",
       "      <td>B011800</td>\n",
       "      <td>FEDERAL</td>\n",
       "      <td>...</td>\n",
       "      <td>7223256</td>\n",
       "      <td>N</td>\n",
       "      <td>15396.82</td>\n",
       "      <td>GOV/NYC/068</td>\n",
       "      <td>Yes</td>\n",
       "      <td>128800</td>\n",
       "      <td>7387.97</td>\n",
       "      <td>216.00</td>\n",
       "      <td>2808.00</td>\n",
       "      <td>5200.85</td>\n",
       "    </tr>\n",
       "    <tr>\n",
       "      <th>1</th>\n",
       "      <td>ADAMS</td>\n",
       "      <td>BRONX</td>\n",
       "      <td>ADAMS</td>\n",
       "      <td>BLD 05</td>\n",
       "      <td>NONE</td>\n",
       "      <td>BLD 01 to 07</td>\n",
       "      <td>118.0</td>\n",
       "      <td>248</td>\n",
       "      <td>B011800</td>\n",
       "      <td>FEDERAL</td>\n",
       "      <td>...</td>\n",
       "      <td>7223256</td>\n",
       "      <td>N</td>\n",
       "      <td>14556.34</td>\n",
       "      <td>GOV/NYC/068</td>\n",
       "      <td>Yes</td>\n",
       "      <td>115200</td>\n",
       "      <td>6607.87</td>\n",
       "      <td>224.00</td>\n",
       "      <td>2912.00</td>\n",
       "      <td>5036.47</td>\n",
       "    </tr>\n",
       "    <tr>\n",
       "      <th>2</th>\n",
       "      <td>ADAMS</td>\n",
       "      <td>BRONX</td>\n",
       "      <td>ADAMS</td>\n",
       "      <td>BLD 05</td>\n",
       "      <td>NONE</td>\n",
       "      <td>BLD 01 to 07</td>\n",
       "      <td>118.0</td>\n",
       "      <td>248</td>\n",
       "      <td>B011800</td>\n",
       "      <td>FEDERAL</td>\n",
       "      <td>...</td>\n",
       "      <td>7223256</td>\n",
       "      <td>N</td>\n",
       "      <td>13904.98</td>\n",
       "      <td>GOV/NYC/068</td>\n",
       "      <td>Yes</td>\n",
       "      <td>103200</td>\n",
       "      <td>5919.55</td>\n",
       "      <td>216.00</td>\n",
       "      <td>2808.00</td>\n",
       "      <td>5177.43</td>\n",
       "    </tr>\n",
       "    <tr>\n",
       "      <th>3</th>\n",
       "      <td>ADAMS</td>\n",
       "      <td>BRONX</td>\n",
       "      <td>ADAMS</td>\n",
       "      <td>BLD 05</td>\n",
       "      <td>NONE</td>\n",
       "      <td>BLD 01 to 07</td>\n",
       "      <td>118.0</td>\n",
       "      <td>248</td>\n",
       "      <td>B011800</td>\n",
       "      <td>FEDERAL</td>\n",
       "      <td>...</td>\n",
       "      <td>7223256</td>\n",
       "      <td>N</td>\n",
       "      <td>14764.04</td>\n",
       "      <td>GOV/NYC/068</td>\n",
       "      <td>Yes</td>\n",
       "      <td>105600</td>\n",
       "      <td>6057.22</td>\n",
       "      <td>208.00</td>\n",
       "      <td>2704.00</td>\n",
       "      <td>6002.82</td>\n",
       "    </tr>\n",
       "    <tr>\n",
       "      <th>4</th>\n",
       "      <td>ADAMS</td>\n",
       "      <td>BRONX</td>\n",
       "      <td>ADAMS</td>\n",
       "      <td>BLD 05</td>\n",
       "      <td>NONE</td>\n",
       "      <td>BLD 01 to 07</td>\n",
       "      <td>118.0</td>\n",
       "      <td>248</td>\n",
       "      <td>B011800</td>\n",
       "      <td>FEDERAL</td>\n",
       "      <td>...</td>\n",
       "      <td>7223256</td>\n",
       "      <td>N</td>\n",
       "      <td>13729.54</td>\n",
       "      <td>GOV/NYC/068</td>\n",
       "      <td>Yes</td>\n",
       "      <td>97600</td>\n",
       "      <td>5598.34</td>\n",
       "      <td>216.00</td>\n",
       "      <td>2808.00</td>\n",
       "      <td>5323.20</td>\n",
       "    </tr>\n",
       "    <tr>\n",
       "      <th>...</th>\n",
       "      <td>...</td>\n",
       "      <td>...</td>\n",
       "      <td>...</td>\n",
       "      <td>...</td>\n",
       "      <td>...</td>\n",
       "      <td>...</td>\n",
       "      <td>...</td>\n",
       "      <td>...</td>\n",
       "      <td>...</td>\n",
       "      <td>...</td>\n",
       "      <td>...</td>\n",
       "      <td>...</td>\n",
       "      <td>...</td>\n",
       "      <td>...</td>\n",
       "      <td>...</td>\n",
       "      <td>...</td>\n",
       "      <td>...</td>\n",
       "      <td>...</td>\n",
       "      <td>...</td>\n",
       "      <td>...</td>\n",
       "      <td>...</td>\n",
       "    </tr>\n",
       "    <tr>\n",
       "      <th>301312</th>\n",
       "      <td>WYCKOFF GARDENS</td>\n",
       "      <td>BROOKLYN</td>\n",
       "      <td>WYCKOFF GARDENS</td>\n",
       "      <td>BLD 02</td>\n",
       "      <td>INTERVAL</td>\n",
       "      <td>NaN</td>\n",
       "      <td>163.0</td>\n",
       "      <td>272</td>\n",
       "      <td>K016300</td>\n",
       "      <td>FEDERAL</td>\n",
       "      <td>...</td>\n",
       "      <td>1096666</td>\n",
       "      <td>N</td>\n",
       "      <td>1287.71</td>\n",
       "      <td>GOV/NYC/068</td>\n",
       "      <td>Yes</td>\n",
       "      <td>0</td>\n",
       "      <td>0.00</td>\n",
       "      <td>116.16</td>\n",
       "      <td>1160.44</td>\n",
       "      <td>127.27</td>\n",
       "    </tr>\n",
       "    <tr>\n",
       "      <th>301313</th>\n",
       "      <td>WYCKOFF GARDENS</td>\n",
       "      <td>BROOKLYN</td>\n",
       "      <td>WYCKOFF GARDENS</td>\n",
       "      <td>BLD 03</td>\n",
       "      <td>INTERVAL</td>\n",
       "      <td>NaN</td>\n",
       "      <td>163.0</td>\n",
       "      <td>272</td>\n",
       "      <td>K016300</td>\n",
       "      <td>FEDERAL</td>\n",
       "      <td>...</td>\n",
       "      <td>1096667</td>\n",
       "      <td>N</td>\n",
       "      <td>1705.42</td>\n",
       "      <td>GOV/NYC/068</td>\n",
       "      <td>Yes</td>\n",
       "      <td>0</td>\n",
       "      <td>0.00</td>\n",
       "      <td>153.84</td>\n",
       "      <td>1536.86</td>\n",
       "      <td>168.56</td>\n",
       "    </tr>\n",
       "    <tr>\n",
       "      <th>301314</th>\n",
       "      <td>WYCKOFF GARDENS</td>\n",
       "      <td>BROOKLYN</td>\n",
       "      <td>WYCKOFF GARDENS</td>\n",
       "      <td>BLD 03</td>\n",
       "      <td>AMR</td>\n",
       "      <td>NaN</td>\n",
       "      <td>163.0</td>\n",
       "      <td>272</td>\n",
       "      <td>K016300</td>\n",
       "      <td>FEDERAL</td>\n",
       "      <td>...</td>\n",
       "      <td>8096664</td>\n",
       "      <td>N</td>\n",
       "      <td>3782.25</td>\n",
       "      <td>GOV/NYC/068</td>\n",
       "      <td>Yes</td>\n",
       "      <td>101200</td>\n",
       "      <td>3408.42</td>\n",
       "      <td>0.00</td>\n",
       "      <td>0.00</td>\n",
       "      <td>373.83</td>\n",
       "    </tr>\n",
       "    <tr>\n",
       "      <th>301315</th>\n",
       "      <td>WYCKOFF GARDENS</td>\n",
       "      <td>BROOKLYN</td>\n",
       "      <td>WYCKOFF GARDENS</td>\n",
       "      <td>BLD 02</td>\n",
       "      <td>AMR</td>\n",
       "      <td>NaN</td>\n",
       "      <td>163.0</td>\n",
       "      <td>272</td>\n",
       "      <td>K016300</td>\n",
       "      <td>FEDERAL</td>\n",
       "      <td>...</td>\n",
       "      <td>8096666</td>\n",
       "      <td>N</td>\n",
       "      <td>2541.43</td>\n",
       "      <td>GOV/NYC/068</td>\n",
       "      <td>Yes</td>\n",
       "      <td>68000</td>\n",
       "      <td>2290.24</td>\n",
       "      <td>0.00</td>\n",
       "      <td>0.00</td>\n",
       "      <td>251.19</td>\n",
       "    </tr>\n",
       "    <tr>\n",
       "      <th>301316</th>\n",
       "      <td>WYCKOFF GARDENS</td>\n",
       "      <td>BROOKLYN</td>\n",
       "      <td>WYCKOFF GARDENS</td>\n",
       "      <td>BLD 03</td>\n",
       "      <td>AMR</td>\n",
       "      <td>NaN</td>\n",
       "      <td>163.0</td>\n",
       "      <td>272</td>\n",
       "      <td>K016300</td>\n",
       "      <td>FEDERAL</td>\n",
       "      <td>...</td>\n",
       "      <td>8096667</td>\n",
       "      <td>N</td>\n",
       "      <td>2967.49</td>\n",
       "      <td>GOV/NYC/068</td>\n",
       "      <td>Yes</td>\n",
       "      <td>79400</td>\n",
       "      <td>2674.19</td>\n",
       "      <td>0.00</td>\n",
       "      <td>0.00</td>\n",
       "      <td>293.30</td>\n",
       "    </tr>\n",
       "  </tbody>\n",
       "</table>\n",
       "<p>301317 rows × 27 columns</p>\n",
       "</div>"
      ],
      "text/plain": [
       "       Development Name   Borough     Account Name Location Meter AMR  \\\n",
       "0                 ADAMS     BRONX            ADAMS   BLD 05      NONE   \n",
       "1                 ADAMS     BRONX            ADAMS   BLD 05      NONE   \n",
       "2                 ADAMS     BRONX            ADAMS   BLD 05      NONE   \n",
       "3                 ADAMS     BRONX            ADAMS   BLD 05      NONE   \n",
       "4                 ADAMS     BRONX            ADAMS   BLD 05      NONE   \n",
       "...                 ...       ...              ...      ...       ...   \n",
       "301312  WYCKOFF GARDENS  BROOKLYN  WYCKOFF GARDENS   BLD 02  INTERVAL   \n",
       "301313  WYCKOFF GARDENS  BROOKLYN  WYCKOFF GARDENS   BLD 03  INTERVAL   \n",
       "301314  WYCKOFF GARDENS  BROOKLYN  WYCKOFF GARDENS   BLD 03       AMR   \n",
       "301315  WYCKOFF GARDENS  BROOKLYN  WYCKOFF GARDENS   BLD 02       AMR   \n",
       "301316  WYCKOFF GARDENS  BROOKLYN  WYCKOFF GARDENS   BLD 03       AMR   \n",
       "\n",
       "         Meter Scope  TDS #  EDP  RC Code Funding Source  ... Meter Number  \\\n",
       "0       BLD 01 to 07  118.0  248  B011800        FEDERAL  ...      7223256   \n",
       "1       BLD 01 to 07  118.0  248  B011800        FEDERAL  ...      7223256   \n",
       "2       BLD 01 to 07  118.0  248  B011800        FEDERAL  ...      7223256   \n",
       "3       BLD 01 to 07  118.0  248  B011800        FEDERAL  ...      7223256   \n",
       "4       BLD 01 to 07  118.0  248  B011800        FEDERAL  ...      7223256   \n",
       "...              ...    ...  ...      ...            ...  ...          ...   \n",
       "301312           NaN  163.0  272  K016300        FEDERAL  ...      1096666   \n",
       "301313           NaN  163.0  272  K016300        FEDERAL  ...      1096667   \n",
       "301314           NaN  163.0  272  K016300        FEDERAL  ...      8096664   \n",
       "301315           NaN  163.0  272  K016300        FEDERAL  ...      8096666   \n",
       "301316           NaN  163.0  272  K016300        FEDERAL  ...      8096667   \n",
       "\n",
       "       Estimated  Current Charges   Rate Class Bill Analyzed  \\\n",
       "0              N         15396.82  GOV/NYC/068           Yes   \n",
       "1              N         14556.34  GOV/NYC/068           Yes   \n",
       "2              N         13904.98  GOV/NYC/068           Yes   \n",
       "3              N         14764.04  GOV/NYC/068           Yes   \n",
       "4              N         13729.54  GOV/NYC/068           Yes   \n",
       "...          ...              ...          ...           ...   \n",
       "301312         N          1287.71  GOV/NYC/068           Yes   \n",
       "301313         N          1705.42  GOV/NYC/068           Yes   \n",
       "301314         N          3782.25  GOV/NYC/068           Yes   \n",
       "301315         N          2541.43  GOV/NYC/068           Yes   \n",
       "301316         N          2967.49  GOV/NYC/068           Yes   \n",
       "\n",
       "       Consumption (KWH)  KWH Charges Consumption (KW) KW Charges  \\\n",
       "0                 128800      7387.97           216.00    2808.00   \n",
       "1                 115200      6607.87           224.00    2912.00   \n",
       "2                 103200      5919.55           216.00    2808.00   \n",
       "3                 105600      6057.22           208.00    2704.00   \n",
       "4                  97600      5598.34           216.00    2808.00   \n",
       "...                  ...          ...              ...        ...   \n",
       "301312                 0         0.00           116.16    1160.44   \n",
       "301313                 0         0.00           153.84    1536.86   \n",
       "301314            101200      3408.42             0.00       0.00   \n",
       "301315             68000      2290.24             0.00       0.00   \n",
       "301316             79400      2674.19             0.00       0.00   \n",
       "\n",
       "        Other charges  \n",
       "0             5200.85  \n",
       "1             5036.47  \n",
       "2             5177.43  \n",
       "3             6002.82  \n",
       "4             5323.20  \n",
       "...               ...  \n",
       "301312         127.27  \n",
       "301313         168.56  \n",
       "301314         373.83  \n",
       "301315         251.19  \n",
       "301316         293.30  \n",
       "\n",
       "[301317 rows x 27 columns]"
      ]
     },
     "execution_count": 9,
     "metadata": {},
     "output_type": "execute_result"
    }
   ],
   "source": [
    "ec"
   ]
  },
  {
   "cell_type": "code",
   "execution_count": 10,
   "metadata": {},
   "outputs": [
    {
     "name": "stdout",
     "output_type": "stream",
     "text": [
      "<class 'pandas.core.frame.DataFrame'>\n",
      "RangeIndex: 301317 entries, 0 to 301316\n",
      "Data columns (total 27 columns):\n",
      " #   Column              Non-Null Count   Dtype  \n",
      "---  ------              --------------   -----  \n",
      " 0   Development Name    301193 non-null  object \n",
      " 1   Borough             301317 non-null  object \n",
      " 2   Account Name        301317 non-null  object \n",
      " 3   Location            293386 non-null  object \n",
      " 4   Meter AMR           301231 non-null  object \n",
      " 5   Meter Scope         15799 non-null   object \n",
      " 6   TDS #               299936 non-null  float64\n",
      " 7   EDP                 301317 non-null  int64  \n",
      " 8   RC Code             301317 non-null  object \n",
      " 9   Funding Source      301317 non-null  object \n",
      " 10  AMP #               299972 non-null  object \n",
      " 11  Vendor Name         301317 non-null  object \n",
      " 12  UMIS BILL ID        301317 non-null  int64  \n",
      " 13  Revenue Month       301317 non-null  object \n",
      " 14  Service Start Date  301314 non-null  object \n",
      " 15  Service End Date    301314 non-null  object \n",
      " 16  # days              301314 non-null  float64\n",
      " 17  Meter Number        301317 non-null  object \n",
      " 18  Estimated           300978 non-null  object \n",
      " 19  Current Charges     301317 non-null  float64\n",
      " 20  Rate Class          301317 non-null  object \n",
      " 21  Bill Analyzed       301317 non-null  object \n",
      " 22  Consumption (KWH)   301317 non-null  int64  \n",
      " 23  KWH Charges         301317 non-null  float64\n",
      " 24  Consumption (KW)    301317 non-null  float64\n",
      " 25  KW Charges          301317 non-null  float64\n",
      " 26  Other charges       301317 non-null  float64\n",
      "dtypes: float64(7), int64(3), object(17)\n",
      "memory usage: 62.1+ MB\n"
     ]
    }
   ],
   "source": [
    "ec.info()"
   ]
  },
  {
   "cell_type": "code",
   "execution_count": 11,
   "metadata": {},
   "outputs": [
    {
     "data": {
      "text/plain": [
       "<bound method hist_frame of        Development Name   Borough     Account Name Location Meter AMR  \\\n",
       "0                 ADAMS     BRONX            ADAMS   BLD 05      NONE   \n",
       "1                 ADAMS     BRONX            ADAMS   BLD 05      NONE   \n",
       "2                 ADAMS     BRONX            ADAMS   BLD 05      NONE   \n",
       "3                 ADAMS     BRONX            ADAMS   BLD 05      NONE   \n",
       "4                 ADAMS     BRONX            ADAMS   BLD 05      NONE   \n",
       "...                 ...       ...              ...      ...       ...   \n",
       "301312  WYCKOFF GARDENS  BROOKLYN  WYCKOFF GARDENS   BLD 02  INTERVAL   \n",
       "301313  WYCKOFF GARDENS  BROOKLYN  WYCKOFF GARDENS   BLD 03  INTERVAL   \n",
       "301314  WYCKOFF GARDENS  BROOKLYN  WYCKOFF GARDENS   BLD 03       AMR   \n",
       "301315  WYCKOFF GARDENS  BROOKLYN  WYCKOFF GARDENS   BLD 02       AMR   \n",
       "301316  WYCKOFF GARDENS  BROOKLYN  WYCKOFF GARDENS   BLD 03       AMR   \n",
       "\n",
       "         Meter Scope  TDS #  EDP  RC Code Funding Source  ... Meter Number  \\\n",
       "0       BLD 01 to 07  118.0  248  B011800        FEDERAL  ...      7223256   \n",
       "1       BLD 01 to 07  118.0  248  B011800        FEDERAL  ...      7223256   \n",
       "2       BLD 01 to 07  118.0  248  B011800        FEDERAL  ...      7223256   \n",
       "3       BLD 01 to 07  118.0  248  B011800        FEDERAL  ...      7223256   \n",
       "4       BLD 01 to 07  118.0  248  B011800        FEDERAL  ...      7223256   \n",
       "...              ...    ...  ...      ...            ...  ...          ...   \n",
       "301312           NaN  163.0  272  K016300        FEDERAL  ...      1096666   \n",
       "301313           NaN  163.0  272  K016300        FEDERAL  ...      1096667   \n",
       "301314           NaN  163.0  272  K016300        FEDERAL  ...      8096664   \n",
       "301315           NaN  163.0  272  K016300        FEDERAL  ...      8096666   \n",
       "301316           NaN  163.0  272  K016300        FEDERAL  ...      8096667   \n",
       "\n",
       "       Estimated  Current Charges   Rate Class Bill Analyzed  \\\n",
       "0              N         15396.82  GOV/NYC/068           Yes   \n",
       "1              N         14556.34  GOV/NYC/068           Yes   \n",
       "2              N         13904.98  GOV/NYC/068           Yes   \n",
       "3              N         14764.04  GOV/NYC/068           Yes   \n",
       "4              N         13729.54  GOV/NYC/068           Yes   \n",
       "...          ...              ...          ...           ...   \n",
       "301312         N          1287.71  GOV/NYC/068           Yes   \n",
       "301313         N          1705.42  GOV/NYC/068           Yes   \n",
       "301314         N          3782.25  GOV/NYC/068           Yes   \n",
       "301315         N          2541.43  GOV/NYC/068           Yes   \n",
       "301316         N          2967.49  GOV/NYC/068           Yes   \n",
       "\n",
       "       Consumption (KWH)  KWH Charges Consumption (KW) KW Charges  \\\n",
       "0                 128800      7387.97           216.00    2808.00   \n",
       "1                 115200      6607.87           224.00    2912.00   \n",
       "2                 103200      5919.55           216.00    2808.00   \n",
       "3                 105600      6057.22           208.00    2704.00   \n",
       "4                  97600      5598.34           216.00    2808.00   \n",
       "...                  ...          ...              ...        ...   \n",
       "301312                 0         0.00           116.16    1160.44   \n",
       "301313                 0         0.00           153.84    1536.86   \n",
       "301314            101200      3408.42             0.00       0.00   \n",
       "301315             68000      2290.24             0.00       0.00   \n",
       "301316             79400      2674.19             0.00       0.00   \n",
       "\n",
       "        Other charges  \n",
       "0             5200.85  \n",
       "1             5036.47  \n",
       "2             5177.43  \n",
       "3             6002.82  \n",
       "4             5323.20  \n",
       "...               ...  \n",
       "301312         127.27  \n",
       "301313         168.56  \n",
       "301314         373.83  \n",
       "301315         251.19  \n",
       "301316         293.30  \n",
       "\n",
       "[301317 rows x 27 columns]>"
      ]
     },
     "execution_count": 11,
     "metadata": {},
     "output_type": "execute_result"
    }
   ],
   "source": [
    "ec.hist"
   ]
  },
  {
   "cell_type": "code",
   "execution_count": 12,
   "metadata": {},
   "outputs": [
    {
     "name": "stdout",
     "output_type": "stream",
     "text": [
      "       Development Name   Borough     Account Name Location Meter AMR  \\\n",
      "0                 ADAMS     BRONX            ADAMS   BLD 05      NONE   \n",
      "1                 ADAMS     BRONX            ADAMS   BLD 05      NONE   \n",
      "2                 ADAMS     BRONX            ADAMS   BLD 05      NONE   \n",
      "3                 ADAMS     BRONX            ADAMS   BLD 05      NONE   \n",
      "4                 ADAMS     BRONX            ADAMS   BLD 05      NONE   \n",
      "...                 ...       ...              ...      ...       ...   \n",
      "301312  WYCKOFF GARDENS  BROOKLYN  WYCKOFF GARDENS   BLD 02  INTERVAL   \n",
      "301313  WYCKOFF GARDENS  BROOKLYN  WYCKOFF GARDENS   BLD 03  INTERVAL   \n",
      "301314  WYCKOFF GARDENS  BROOKLYN  WYCKOFF GARDENS   BLD 03       AMR   \n",
      "301315  WYCKOFF GARDENS  BROOKLYN  WYCKOFF GARDENS   BLD 02       AMR   \n",
      "301316  WYCKOFF GARDENS  BROOKLYN  WYCKOFF GARDENS   BLD 03       AMR   \n",
      "\n",
      "         Meter Scope  TDS #  EDP  RC Code Funding Source  ... Meter Number  \\\n",
      "0       BLD 01 to 07  118.0  248  B011800        FEDERAL  ...      7223256   \n",
      "1       BLD 01 to 07  118.0  248  B011800        FEDERAL  ...      7223256   \n",
      "2       BLD 01 to 07  118.0  248  B011800        FEDERAL  ...      7223256   \n",
      "3       BLD 01 to 07  118.0  248  B011800        FEDERAL  ...      7223256   \n",
      "4       BLD 01 to 07  118.0  248  B011800        FEDERAL  ...      7223256   \n",
      "...              ...    ...  ...      ...            ...  ...          ...   \n",
      "301312           NaN  163.0  272  K016300        FEDERAL  ...      1096666   \n",
      "301313           NaN  163.0  272  K016300        FEDERAL  ...      1096667   \n",
      "301314           NaN  163.0  272  K016300        FEDERAL  ...      8096664   \n",
      "301315           NaN  163.0  272  K016300        FEDERAL  ...      8096666   \n",
      "301316           NaN  163.0  272  K016300        FEDERAL  ...      8096667   \n",
      "\n",
      "       Estimated  Current Charges   Rate Class Bill Analyzed  \\\n",
      "0              N         15396.82  GOV/NYC/068           Yes   \n",
      "1              N         14556.34  GOV/NYC/068           Yes   \n",
      "2              N         13904.98  GOV/NYC/068           Yes   \n",
      "3              N         14764.04  GOV/NYC/068           Yes   \n",
      "4              N         13729.54  GOV/NYC/068           Yes   \n",
      "...          ...              ...          ...           ...   \n",
      "301312         N          1287.71  GOV/NYC/068           Yes   \n",
      "301313         N          1705.42  GOV/NYC/068           Yes   \n",
      "301314         N          3782.25  GOV/NYC/068           Yes   \n",
      "301315         N          2541.43  GOV/NYC/068           Yes   \n",
      "301316         N          2967.49  GOV/NYC/068           Yes   \n",
      "\n",
      "       Consumption (KWH)  KWH Charges Consumption (KW) KW Charges  \\\n",
      "0               128800.0      7387.97           216.00    2808.00   \n",
      "1               115200.0      6607.87           224.00    2912.00   \n",
      "2               103200.0      5919.55           216.00    2808.00   \n",
      "3               105600.0      6057.22           208.00    2704.00   \n",
      "4                97600.0      5598.34           216.00    2808.00   \n",
      "...                  ...          ...              ...        ...   \n",
      "301312               NaN          NaN           116.16    1160.44   \n",
      "301313               NaN          NaN           153.84    1536.86   \n",
      "301314          101200.0      3408.42              NaN        NaN   \n",
      "301315           68000.0      2290.24              NaN        NaN   \n",
      "301316           79400.0      2674.19              NaN        NaN   \n",
      "\n",
      "        Other charges  \n",
      "0             5200.85  \n",
      "1             5036.47  \n",
      "2             5177.43  \n",
      "3             6002.82  \n",
      "4             5323.20  \n",
      "...               ...  \n",
      "301312         127.27  \n",
      "301313         168.56  \n",
      "301314         373.83  \n",
      "301315         251.19  \n",
      "301316         293.30  \n",
      "\n",
      "[301317 rows x 27 columns]\n"
     ]
    }
   ],
   "source": [
    "ec_drop0 = ec[ec != 0]\n",
    "print(ec_drop0)"
   ]
  },
  {
   "cell_type": "code",
   "execution_count": 13,
   "metadata": {},
   "outputs": [
    {
     "name": "stdout",
     "output_type": "stream",
     "text": [
      "       Development Name   Borough     Account Name Location Meter AMR  \\\n",
      "0                 ADAMS     BRONX            ADAMS   BLD 05      NONE   \n",
      "1                 ADAMS     BRONX            ADAMS   BLD 05      NONE   \n",
      "2                 ADAMS     BRONX            ADAMS   BLD 05      NONE   \n",
      "3                 ADAMS     BRONX            ADAMS   BLD 05      NONE   \n",
      "4                 ADAMS     BRONX            ADAMS   BLD 05      NONE   \n",
      "...                 ...       ...              ...      ...       ...   \n",
      "301312  WYCKOFF GARDENS  BROOKLYN  WYCKOFF GARDENS   BLD 02  INTERVAL   \n",
      "301313  WYCKOFF GARDENS  BROOKLYN  WYCKOFF GARDENS   BLD 03  INTERVAL   \n",
      "301314  WYCKOFF GARDENS  BROOKLYN  WYCKOFF GARDENS   BLD 03       AMR   \n",
      "301315  WYCKOFF GARDENS  BROOKLYN  WYCKOFF GARDENS   BLD 02       AMR   \n",
      "301316  WYCKOFF GARDENS  BROOKLYN  WYCKOFF GARDENS   BLD 03       AMR   \n",
      "\n",
      "         Meter Scope  TDS #  EDP  RC Code Funding Source  ... Meter Number  \\\n",
      "0       BLD 01 to 07  118.0  248  B011800        FEDERAL  ...      7223256   \n",
      "1       BLD 01 to 07  118.0  248  B011800        FEDERAL  ...      7223256   \n",
      "2       BLD 01 to 07  118.0  248  B011800        FEDERAL  ...      7223256   \n",
      "3       BLD 01 to 07  118.0  248  B011800        FEDERAL  ...      7223256   \n",
      "4       BLD 01 to 07  118.0  248  B011800        FEDERAL  ...      7223256   \n",
      "...              ...    ...  ...      ...            ...  ...          ...   \n",
      "301312           NaN  163.0  272  K016300        FEDERAL  ...      1096666   \n",
      "301313           NaN  163.0  272  K016300        FEDERAL  ...      1096667   \n",
      "301314           NaN  163.0  272  K016300        FEDERAL  ...      8096664   \n",
      "301315           NaN  163.0  272  K016300        FEDERAL  ...      8096666   \n",
      "301316           NaN  163.0  272  K016300        FEDERAL  ...      8096667   \n",
      "\n",
      "       Estimated  Current Charges   Rate Class Bill Analyzed  \\\n",
      "0              N         15396.82  GOV/NYC/068           Yes   \n",
      "1              N         14556.34  GOV/NYC/068           Yes   \n",
      "2              N         13904.98  GOV/NYC/068           Yes   \n",
      "3              N         14764.04  GOV/NYC/068           Yes   \n",
      "4              N         13729.54  GOV/NYC/068           Yes   \n",
      "...          ...              ...          ...           ...   \n",
      "301312         N          1287.71  GOV/NYC/068           Yes   \n",
      "301313         N          1705.42  GOV/NYC/068           Yes   \n",
      "301314         N          3782.25  GOV/NYC/068           Yes   \n",
      "301315         N          2541.43  GOV/NYC/068           Yes   \n",
      "301316         N          2967.49  GOV/NYC/068           Yes   \n",
      "\n",
      "       Consumption (KWH)  KWH Charges Consumption (KW) KW Charges  \\\n",
      "0               128800.0      7387.97           216.00    2808.00   \n",
      "1               115200.0      6607.87           224.00    2912.00   \n",
      "2               103200.0      5919.55           216.00    2808.00   \n",
      "3               105600.0      6057.22           208.00    2704.00   \n",
      "4                97600.0      5598.34           216.00    2808.00   \n",
      "...                  ...          ...              ...        ...   \n",
      "301312               NaN          NaN           116.16    1160.44   \n",
      "301313               NaN          NaN           153.84    1536.86   \n",
      "301314          101200.0      3408.42              NaN        NaN   \n",
      "301315           68000.0      2290.24              NaN        NaN   \n",
      "301316           79400.0      2674.19              NaN        NaN   \n",
      "\n",
      "        Other charges  \n",
      "0             5200.85  \n",
      "1             5036.47  \n",
      "2             5177.43  \n",
      "3             6002.82  \n",
      "4             5323.20  \n",
      "...               ...  \n",
      "301312         127.27  \n",
      "301313         168.56  \n",
      "301314         373.83  \n",
      "301315         251.19  \n",
      "301316         293.30  \n",
      "\n",
      "[253749 rows x 27 columns]\n"
     ]
    }
   ],
   "source": [
    "ec_negative = ec_drop0[ec_drop0['Current Charges'] > 0]\n",
    "print(ec_negative)"
   ]
  },
  {
   "cell_type": "code",
   "execution_count": 14,
   "metadata": {},
   "outputs": [
    {
     "name": "stdout",
     "output_type": "stream",
     "text": [
      "         Borough  TDS #  EDP  # days  Current Charges  Consumption (KWH)  \\\n",
      "0          BRONX  118.0  248    33.0         15396.82           128800.0   \n",
      "1          BRONX  118.0  248    30.0         14556.34           115200.0   \n",
      "2          BRONX  118.0  248    29.0         13904.98           103200.0   \n",
      "3          BRONX  118.0  248    31.0         14764.04           105600.0   \n",
      "4          BRONX  118.0  248    28.0         13729.54            97600.0   \n",
      "...          ...    ...  ...     ...              ...                ...   \n",
      "301312  BROOKLYN  163.0  272    29.0          1287.71                NaN   \n",
      "301313  BROOKLYN  163.0  272    29.0          1705.42                NaN   \n",
      "301314  BROOKLYN  163.0  272    29.0          3782.25           101200.0   \n",
      "301315  BROOKLYN  163.0  272    29.0          2541.43            68000.0   \n",
      "301316  BROOKLYN  163.0  272    29.0          2967.49            79400.0   \n",
      "\n",
      "        KWH Charges  \n",
      "0           7387.97  \n",
      "1           6607.87  \n",
      "2           5919.55  \n",
      "3           6057.22  \n",
      "4           5598.34  \n",
      "...             ...  \n",
      "301312          NaN  \n",
      "301313          NaN  \n",
      "301314      3408.42  \n",
      "301315      2290.24  \n",
      "301316      2674.19  \n",
      "\n",
      "[253749 rows x 7 columns]\n"
     ]
    }
   ],
   "source": [
    "ec_dropcolumns = ec_negative.drop([\"UMIS BILL ID\", \"Consumption (KW)\", \"KW Charges\", \"Other charges\", \n",
    "                               \"Bill Analyzed\", \"Meter Number\", \"AMP #\", \"Account Name\", \"Service Start Date\",\n",
    "                              \"Service End Date\", \"RC Code\", \"Development Name\", \"Location\", \"Meter AMR\", \"Meter Scope\",\n",
    "                              \"Vendor Name\", \"Funding Source\", \"Rate Class\", \"Revenue Month\", \"Estimated\"], axis=1)\n",
    "print(ec_dropcolumns)"
   ]
  },
  {
   "cell_type": "code",
   "execution_count": 39,
   "metadata": {},
   "outputs": [
    {
     "name": "stdout",
     "output_type": "stream",
     "text": [
      "         Borough  TDS #  EDP  # days  Current Charges  Consumption (KWH)  \\\n",
      "0          BRONX  118.0  248    33.0         15396.82           128800.0   \n",
      "1          BRONX  118.0  248    30.0         14556.34           115200.0   \n",
      "2          BRONX  118.0  248    29.0         13904.98           103200.0   \n",
      "3          BRONX  118.0  248    31.0         14764.04           105600.0   \n",
      "4          BRONX  118.0  248    28.0         13729.54            97600.0   \n",
      "...          ...    ...  ...     ...              ...                ...   \n",
      "301309  BROOKLYN  163.0  272    29.0          5608.58            67600.0   \n",
      "301310  BROOKLYN  163.0  272    29.0          6438.24            77600.0   \n",
      "301314  BROOKLYN  163.0  272    29.0          3782.25           101200.0   \n",
      "301315  BROOKLYN  163.0  272    29.0          2541.43            68000.0   \n",
      "301316  BROOKLYN  163.0  272    29.0          2967.49            79400.0   \n",
      "\n",
      "        KWH Charges  \n",
      "0           7387.97  \n",
      "1           6607.87  \n",
      "2           5919.55  \n",
      "3           6057.22  \n",
      "4           5598.34  \n",
      "...             ...  \n",
      "301309      2276.77  \n",
      "301310      2613.57  \n",
      "301314      3408.42  \n",
      "301315      2290.24  \n",
      "301316      2674.19  \n",
      "\n",
      "[203155 rows x 7 columns]\n"
     ]
    }
   ],
   "source": [
    "ec_new = ec_dropcolumns.dropna()\n",
    "print(ec_new)"
   ]
  },
  {
   "cell_type": "code",
   "execution_count": 40,
   "metadata": {},
   "outputs": [],
   "source": [
    "#replace boroughs with numerical numbers\n",
    "#ec_final = ec_freq.replace({'BROOKLYN': 1, 'MANHATTAN': 4, 'BRONX': 2, 'QUEENS': 5, 'STATEN ISLAND': 6, 'FHA': 3})\n",
    "#print(ec_final)"
   ]
  },
  {
   "cell_type": "code",
   "execution_count": 41,
   "metadata": {},
   "outputs": [],
   "source": [
    "# Brooklyn - 1\n",
    "# Bronx - 2\n",
    "# FHA - 3\n",
    "# Manhattan - 4\n",
    "# Queens - 5\n",
    "# Staten Island - 6\n",
    "\n",
    "#ec_final['Borough'].value_counts()"
   ]
  },
  {
   "cell_type": "code",
   "execution_count": 42,
   "metadata": {},
   "outputs": [],
   "source": [
    "#ec_final.info()"
   ]
  },
  {
   "cell_type": "code",
   "execution_count": 43,
   "metadata": {},
   "outputs": [],
   "source": [
    "#ec_final.describe()"
   ]
  },
  {
   "cell_type": "code",
   "execution_count": 44,
   "metadata": {},
   "outputs": [
    {
     "name": "stdout",
     "output_type": "stream",
     "text": [
      "         Borough  TDS #  EDP  # days  Current Charges  Consumption (KWH)  \\\n",
      "0          BRONX  118.0  248    33.0         15396.82           128800.0   \n",
      "1          BRONX  118.0  248    30.0         14556.34           115200.0   \n",
      "2          BRONX  118.0  248    29.0         13904.98           103200.0   \n",
      "3          BRONX  118.0  248    31.0         14764.04           105600.0   \n",
      "4          BRONX  118.0  248    28.0         13729.54            97600.0   \n",
      "...          ...    ...  ...     ...              ...                ...   \n",
      "301309  BROOKLYN  163.0  272    29.0          5608.58            67600.0   \n",
      "301310  BROOKLYN  163.0  272    29.0          6438.24            77600.0   \n",
      "301314  BROOKLYN  163.0  272    29.0          3782.25           101200.0   \n",
      "301315  BROOKLYN  163.0  272    29.0          2541.43            68000.0   \n",
      "301316  BROOKLYN  163.0  272    29.0          2967.49            79400.0   \n",
      "\n",
      "        KWH Charges  \n",
      "0           7387.97  \n",
      "1           6607.87  \n",
      "2           5919.55  \n",
      "3           6057.22  \n",
      "4           5598.34  \n",
      "...             ...  \n",
      "301309      2276.77  \n",
      "301310      2613.57  \n",
      "301314      3408.42  \n",
      "301315      2290.24  \n",
      "301316      2674.19  \n",
      "\n",
      "[191832 rows x 7 columns]\n"
     ]
    }
   ],
   "source": [
    "#drop the frequencies of Consumption values less than 10\n",
    "counts = ec_new['Consumption (KWH)'].value_counts()\n",
    "ec_final = ec_new[~ec_new['Consumption (KWH)'].isin(counts[counts < 10].index)]\n",
    "print(ec_final)"
   ]
  },
  {
   "cell_type": "code",
   "execution_count": 45,
   "metadata": {},
   "outputs": [],
   "source": [
    "#Dropping the outlier rows with standard deviation\n",
    "factor = 100000\n",
    "upper_lim = ec_final['Consumption (KWH)'].mean () + ec_final[\"Consumption (KWH)\"].std () * factor\n",
    "lower_lim = ec_final[\"Consumption (KWH)\"].mean () - ec_final[\"Consumption (KWH)\"].std () * factor\n",
    "\n",
    "ec_final = ec_final[(ec_final[\"Consumption (KWH)\"] < upper_lim) & (ec_final[\"Consumption (KWH)\"] > lower_lim)]"
   ]
  },
  {
   "cell_type": "code",
   "execution_count": 46,
   "metadata": {},
   "outputs": [],
   "source": [
    "encoded_columns = pd.get_dummies(ec_final['Borough'])\n",
    "ec_final = ec_final.join(encoded_columns).drop('Borough', axis=1)"
   ]
  },
  {
   "cell_type": "code",
   "execution_count": 92,
   "metadata": {},
   "outputs": [
    {
     "data": {
      "text/plain": [
       "Consumption (KWH)    1.000000\n",
       "KWH Charges          0.960410\n",
       "Current Charges      0.935115\n",
       "log+1                0.736880\n",
       "log                  0.736551\n",
       "STATEN ISLAND        0.129028\n",
       "MANHATTAN            0.103514\n",
       "BRONX                0.061376\n",
       "# days               0.035249\n",
       "QUEENS              -0.063045\n",
       "FHA                 -0.063104\n",
       "BROOKLYN            -0.119851\n",
       "EDP                 -0.263228\n",
       "TDS #               -0.283315\n",
       "Name: Consumption (KWH), dtype: float64"
      ]
     },
     "execution_count": 92,
     "metadata": {},
     "output_type": "execute_result"
    }
   ],
   "source": [
    "ec_corr_matrix = ec_final.corr()\n",
    "ec_corr_matrix['Consumption (KWH)'].sort_values(ascending=False)"
   ]
  },
  {
   "cell_type": "code",
   "execution_count": 48,
   "metadata": {
    "scrolled": false
   },
   "outputs": [
    {
     "data": {
      "text/html": [
       "<div>\n",
       "<style scoped>\n",
       "    .dataframe tbody tr th:only-of-type {\n",
       "        vertical-align: middle;\n",
       "    }\n",
       "\n",
       "    .dataframe tbody tr th {\n",
       "        vertical-align: top;\n",
       "    }\n",
       "\n",
       "    .dataframe thead th {\n",
       "        text-align: right;\n",
       "    }\n",
       "</style>\n",
       "<table border=\"1\" class=\"dataframe\">\n",
       "  <thead>\n",
       "    <tr style=\"text-align: right;\">\n",
       "      <th></th>\n",
       "      <th>TDS #</th>\n",
       "      <th>EDP</th>\n",
       "      <th># days</th>\n",
       "      <th>Current Charges</th>\n",
       "      <th>Consumption (KWH)</th>\n",
       "      <th>KWH Charges</th>\n",
       "      <th>BRONX</th>\n",
       "      <th>BROOKLYN</th>\n",
       "      <th>FHA</th>\n",
       "      <th>MANHATTAN</th>\n",
       "      <th>QUEENS</th>\n",
       "      <th>STATEN ISLAND</th>\n",
       "    </tr>\n",
       "  </thead>\n",
       "  <tbody>\n",
       "    <tr>\n",
       "      <th>count</th>\n",
       "      <td>191832.000000</td>\n",
       "      <td>191832.000000</td>\n",
       "      <td>191832.000000</td>\n",
       "      <td>191832.000000</td>\n",
       "      <td>191832.000000</td>\n",
       "      <td>191832.000000</td>\n",
       "      <td>191832.000000</td>\n",
       "      <td>191832.000000</td>\n",
       "      <td>191832.000000</td>\n",
       "      <td>191832.000000</td>\n",
       "      <td>191832.000000</td>\n",
       "      <td>191832.000000</td>\n",
       "    </tr>\n",
       "    <tr>\n",
       "      <th>mean</th>\n",
       "      <td>139.873040</td>\n",
       "      <td>434.805564</td>\n",
       "      <td>30.359877</td>\n",
       "      <td>5403.773708</td>\n",
       "      <td>44229.928886</td>\n",
       "      <td>2145.255926</td>\n",
       "      <td>0.231494</td>\n",
       "      <td>0.401836</td>\n",
       "      <td>0.003446</td>\n",
       "      <td>0.255380</td>\n",
       "      <td>0.101245</td>\n",
       "      <td>0.006600</td>\n",
       "    </tr>\n",
       "    <tr>\n",
       "      <th>std</th>\n",
       "      <td>135.844479</td>\n",
       "      <td>185.868879</td>\n",
       "      <td>1.644027</td>\n",
       "      <td>5206.873244</td>\n",
       "      <td>41029.105579</td>\n",
       "      <td>2082.219438</td>\n",
       "      <td>0.421789</td>\n",
       "      <td>0.490270</td>\n",
       "      <td>0.058599</td>\n",
       "      <td>0.436076</td>\n",
       "      <td>0.301653</td>\n",
       "      <td>0.080969</td>\n",
       "    </tr>\n",
       "    <tr>\n",
       "      <th>min</th>\n",
       "      <td>1.000000</td>\n",
       "      <td>200.000000</td>\n",
       "      <td>1.000000</td>\n",
       "      <td>0.310000</td>\n",
       "      <td>1.000000</td>\n",
       "      <td>0.050000</td>\n",
       "      <td>0.000000</td>\n",
       "      <td>0.000000</td>\n",
       "      <td>0.000000</td>\n",
       "      <td>0.000000</td>\n",
       "      <td>0.000000</td>\n",
       "      <td>0.000000</td>\n",
       "    </tr>\n",
       "    <tr>\n",
       "      <th>25%</th>\n",
       "      <td>39.000000</td>\n",
       "      <td>237.000000</td>\n",
       "      <td>29.000000</td>\n",
       "      <td>1668.205000</td>\n",
       "      <td>15480.000000</td>\n",
       "      <td>709.180000</td>\n",
       "      <td>0.000000</td>\n",
       "      <td>0.000000</td>\n",
       "      <td>0.000000</td>\n",
       "      <td>0.000000</td>\n",
       "      <td>0.000000</td>\n",
       "      <td>0.000000</td>\n",
       "    </tr>\n",
       "    <tr>\n",
       "      <th>50%</th>\n",
       "      <td>74.000000</td>\n",
       "      <td>429.000000</td>\n",
       "      <td>30.000000</td>\n",
       "      <td>4146.890000</td>\n",
       "      <td>35280.000000</td>\n",
       "      <td>1672.700000</td>\n",
       "      <td>0.000000</td>\n",
       "      <td>0.000000</td>\n",
       "      <td>0.000000</td>\n",
       "      <td>0.000000</td>\n",
       "      <td>0.000000</td>\n",
       "      <td>0.000000</td>\n",
       "    </tr>\n",
       "    <tr>\n",
       "      <th>75%</th>\n",
       "      <td>240.000000</td>\n",
       "      <td>566.000000</td>\n",
       "      <td>31.000000</td>\n",
       "      <td>7402.150000</td>\n",
       "      <td>61200.000000</td>\n",
       "      <td>2926.590000</td>\n",
       "      <td>0.000000</td>\n",
       "      <td>1.000000</td>\n",
       "      <td>0.000000</td>\n",
       "      <td>1.000000</td>\n",
       "      <td>0.000000</td>\n",
       "      <td>0.000000</td>\n",
       "    </tr>\n",
       "    <tr>\n",
       "      <th>max</th>\n",
       "      <td>582.000000</td>\n",
       "      <td>871.000000</td>\n",
       "      <td>152.000000</td>\n",
       "      <td>81084.020000</td>\n",
       "      <td>345600.000000</td>\n",
       "      <td>38313.270000</td>\n",
       "      <td>1.000000</td>\n",
       "      <td>1.000000</td>\n",
       "      <td>1.000000</td>\n",
       "      <td>1.000000</td>\n",
       "      <td>1.000000</td>\n",
       "      <td>1.000000</td>\n",
       "    </tr>\n",
       "  </tbody>\n",
       "</table>\n",
       "</div>"
      ],
      "text/plain": [
       "               TDS #            EDP         # days  Current Charges  \\\n",
       "count  191832.000000  191832.000000  191832.000000    191832.000000   \n",
       "mean      139.873040     434.805564      30.359877      5403.773708   \n",
       "std       135.844479     185.868879       1.644027      5206.873244   \n",
       "min         1.000000     200.000000       1.000000         0.310000   \n",
       "25%        39.000000     237.000000      29.000000      1668.205000   \n",
       "50%        74.000000     429.000000      30.000000      4146.890000   \n",
       "75%       240.000000     566.000000      31.000000      7402.150000   \n",
       "max       582.000000     871.000000     152.000000     81084.020000   \n",
       "\n",
       "       Consumption (KWH)    KWH Charges          BRONX       BROOKLYN  \\\n",
       "count      191832.000000  191832.000000  191832.000000  191832.000000   \n",
       "mean        44229.928886    2145.255926       0.231494       0.401836   \n",
       "std         41029.105579    2082.219438       0.421789       0.490270   \n",
       "min             1.000000       0.050000       0.000000       0.000000   \n",
       "25%         15480.000000     709.180000       0.000000       0.000000   \n",
       "50%         35280.000000    1672.700000       0.000000       0.000000   \n",
       "75%         61200.000000    2926.590000       0.000000       1.000000   \n",
       "max        345600.000000   38313.270000       1.000000       1.000000   \n",
       "\n",
       "                 FHA      MANHATTAN         QUEENS  STATEN ISLAND  \n",
       "count  191832.000000  191832.000000  191832.000000  191832.000000  \n",
       "mean        0.003446       0.255380       0.101245       0.006600  \n",
       "std         0.058599       0.436076       0.301653       0.080969  \n",
       "min         0.000000       0.000000       0.000000       0.000000  \n",
       "25%         0.000000       0.000000       0.000000       0.000000  \n",
       "50%         0.000000       0.000000       0.000000       0.000000  \n",
       "75%         0.000000       1.000000       0.000000       0.000000  \n",
       "max         1.000000       1.000000       1.000000       1.000000  "
      ]
     },
     "execution_count": 48,
     "metadata": {},
     "output_type": "execute_result"
    }
   ],
   "source": [
    "ec_final.describe()"
   ]
  },
  {
   "cell_type": "markdown",
   "metadata": {},
   "source": [
    "# Training and Test Set"
   ]
  },
  {
   "cell_type": "code",
   "execution_count": 71,
   "metadata": {},
   "outputs": [],
   "source": [
    "#data = pd.DataFrame({'value':[2,45, -23, 85, 28, 2, 35, -12]})\n",
    "ec_final['log+1'] = (ec_final['Consumption (KWH)']+1).transform(np.log)\n",
    "#Negative Values Handling\n",
    "#Note that the values are different\n",
    "ec_final['log'] = (ec_final['Consumption (KWH)']-ec_final['Consumption (KWH)'].min()+1) .transform(np.log)"
   ]
  },
  {
   "cell_type": "code",
   "execution_count": 112,
   "metadata": {
    "scrolled": true
   },
   "outputs": [
    {
     "name": "stdout",
     "output_type": "stream",
     "text": [
      "        Current Charges  Consumption (KWH)  KWH Charges      log+1        log\n",
      "0              15396.82           128800.0      7387.97  11.766024  11.766016\n",
      "1              14556.34           115200.0      6607.87  11.654434  11.654425\n",
      "2              13904.98           103200.0      5919.55  11.544434  11.544424\n",
      "3              14764.04           105600.0      6057.22  11.567423  11.567414\n",
      "4              13729.54            97600.0      5598.34  11.488643  11.488633\n",
      "...                 ...                ...          ...        ...        ...\n",
      "301309          5608.58            67600.0      2276.77  11.121378  11.121363\n",
      "301310          6438.24            77600.0      2613.57  11.259336  11.259323\n",
      "301314          3782.25           101200.0      3408.42  11.524864  11.524854\n",
      "301315          2541.43            68000.0      2290.24  11.127278  11.127263\n",
      "301316          2967.49            79400.0      2674.19  11.282266  11.282254\n",
      "\n",
      "[191832 rows x 5 columns]\n"
     ]
    }
   ],
   "source": [
    "X = ec_final.drop([\"TDS #\", \"EDP\", \"# days\", \"BRONX\",  \"BROOKLYN\",  \"FHA\",  \"MANHATTAN\",  \"QUEENS\", \"STATEN ISLAND\"],axis=1)\n",
    "print(X)"
   ]
  },
  {
   "cell_type": "code",
   "execution_count": 114,
   "metadata": {},
   "outputs": [
    {
     "name": "stdout",
     "output_type": "stream",
     "text": [
      "        BRONX  BROOKLYN  FHA  MANHATTAN  QUEENS  STATEN ISLAND\n",
      "0           1         0    0          0       0              0\n",
      "1           1         0    0          0       0              0\n",
      "2           1         0    0          0       0              0\n",
      "3           1         0    0          0       0              0\n",
      "4           1         0    0          0       0              0\n",
      "...       ...       ...  ...        ...     ...            ...\n",
      "301309      0         1    0          0       0              0\n",
      "301310      0         1    0          0       0              0\n",
      "301314      0         1    0          0       0              0\n",
      "301315      0         1    0          0       0              0\n",
      "301316      0         1    0          0       0              0\n",
      "\n",
      "[191832 rows x 6 columns]\n"
     ]
    }
   ],
   "source": [
    "y = ec_final[[\"BRONX\",  \"BROOKLYN\",  \"FHA\",  \"MANHATTAN\",  \"QUEENS\", \"STATEN ISLAND\"]]\n",
    "print(y)"
   ]
  },
  {
   "cell_type": "code",
   "execution_count": 115,
   "metadata": {},
   "outputs": [],
   "source": [
    "from sklearn.model_selection import train_test_split\n",
    "\n",
    "X_train, X_test, y_train, y_test = train_test_split(X, y, test_size=0.5)"
   ]
  },
  {
   "cell_type": "code",
   "execution_count": 116,
   "metadata": {},
   "outputs": [
    {
     "name": "stdout",
     "output_type": "stream",
     "text": [
      "Shape of original Electric Consumption dataset : (191832, 14)\n",
      "Shape of X training set : (95916, 5)\n",
      "Shape of y training set : (95916, 6)\n",
      "Shape of X testing set : (95916, 5)\n",
      "Shape of y testing set : (95916, 6)\n"
     ]
    }
   ],
   "source": [
    "print(\"Shape of original Electric Consumption dataset :\", ec_final.shape)\n",
    "print(\"Shape of X training set :\", X_train.shape)\n",
    "print(\"Shape of y training set :\", y_train.shape)\n",
    "print(\"Shape of X testing set :\", X_test.shape)\n",
    "print(\"Shape of y testing set :\", y_test.shape)"
   ]
  },
  {
   "cell_type": "code",
   "execution_count": 117,
   "metadata": {
    "scrolled": true
   },
   "outputs": [
    {
     "data": {
      "text/plain": [
       "array([[<matplotlib.axes._subplots.AxesSubplot object at 0x7fc3955ee390>,\n",
       "        <matplotlib.axes._subplots.AxesSubplot object at 0x7fc3974d6190>,\n",
       "        <matplotlib.axes._subplots.AxesSubplot object at 0x7fc397026890>],\n",
       "       [<matplotlib.axes._subplots.AxesSubplot object at 0x7fc395852f10>,\n",
       "        <matplotlib.axes._subplots.AxesSubplot object at 0x7fc396ff4250>,\n",
       "        <matplotlib.axes._subplots.AxesSubplot object at 0x7fc3df9e4710>],\n",
       "       [<matplotlib.axes._subplots.AxesSubplot object at 0x7fc3c5dffd10>,\n",
       "        <matplotlib.axes._subplots.AxesSubplot object at 0x7fc3c5dc3210>,\n",
       "        <matplotlib.axes._subplots.AxesSubplot object at 0x7fc3c5dc3250>]],\n",
       "      dtype=object)"
      ]
     },
     "execution_count": 117,
     "metadata": {},
     "output_type": "execute_result"
    },
    {
     "data": {
      "image/png": "[encoded data removed]",
      "text/plain": [
       "<Figure size 864x576 with 9 Axes>"
      ]
     },
     "metadata": {
      "needs_background": "light"
     },
     "output_type": "display_data"
    }
   ],
   "source": [
    "attributes = [\"Current Charges\", \"Consumption (KWH)\", \"KWH Charges\"]\n",
    "scatter_matrix(ec_final[attributes], figsize=(12, 8))"
   ]
  },
  {
   "cell_type": "code",
   "execution_count": 118,
   "metadata": {},
   "outputs": [
    {
     "data": {
      "text/html": [
       "<div>\n",
       "<style scoped>\n",
       "    .dataframe tbody tr th:only-of-type {\n",
       "        vertical-align: middle;\n",
       "    }\n",
       "\n",
       "    .dataframe tbody tr th {\n",
       "        vertical-align: top;\n",
       "    }\n",
       "\n",
       "    .dataframe thead th {\n",
       "        text-align: right;\n",
       "    }\n",
       "</style>\n",
       "<table border=\"1\" class=\"dataframe\">\n",
       "  <thead>\n",
       "    <tr style=\"text-align: right;\">\n",
       "      <th></th>\n",
       "      <th>TDS #</th>\n",
       "      <th>EDP</th>\n",
       "      <th># days</th>\n",
       "      <th>Current Charges</th>\n",
       "      <th>Consumption (KWH)</th>\n",
       "      <th>KWH Charges</th>\n",
       "      <th>BRONX</th>\n",
       "      <th>BROOKLYN</th>\n",
       "      <th>FHA</th>\n",
       "      <th>MANHATTAN</th>\n",
       "      <th>QUEENS</th>\n",
       "      <th>STATEN ISLAND</th>\n",
       "      <th>log+1</th>\n",
       "      <th>log</th>\n",
       "    </tr>\n",
       "  </thead>\n",
       "  <tbody>\n",
       "    <tr>\n",
       "      <th>86592</th>\n",
       "      <td>24.0</td>\n",
       "      <td>522</td>\n",
       "      <td>30.0</td>\n",
       "      <td>16193.72</td>\n",
       "      <td>107520.0</td>\n",
       "      <td>6014.46</td>\n",
       "      <td>1</td>\n",
       "      <td>0</td>\n",
       "      <td>0</td>\n",
       "      <td>0</td>\n",
       "      <td>0</td>\n",
       "      <td>0</td>\n",
       "      <td>11.585441</td>\n",
       "      <td>11.585432</td>\n",
       "    </tr>\n",
       "    <tr>\n",
       "      <th>80983</th>\n",
       "      <td>186.0</td>\n",
       "      <td>290</td>\n",
       "      <td>29.0</td>\n",
       "      <td>8825.22</td>\n",
       "      <td>55200.0</td>\n",
       "      <td>2847.22</td>\n",
       "      <td>0</td>\n",
       "      <td>0</td>\n",
       "      <td>0</td>\n",
       "      <td>0</td>\n",
       "      <td>1</td>\n",
       "      <td>0</td>\n",
       "      <td>10.918736</td>\n",
       "      <td>10.918718</td>\n",
       "    </tr>\n",
       "    <tr>\n",
       "      <th>286288</th>\n",
       "      <td>178.0</td>\n",
       "      <td>279</td>\n",
       "      <td>29.0</td>\n",
       "      <td>4826.47</td>\n",
       "      <td>31120.0</td>\n",
       "      <td>1181.00</td>\n",
       "      <td>0</td>\n",
       "      <td>0</td>\n",
       "      <td>0</td>\n",
       "      <td>1</td>\n",
       "      <td>0</td>\n",
       "      <td>0</td>\n",
       "      <td>10.345638</td>\n",
       "      <td>10.345606</td>\n",
       "    </tr>\n",
       "    <tr>\n",
       "      <th>23851</th>\n",
       "      <td>305.0</td>\n",
       "      <td>550</td>\n",
       "      <td>28.0</td>\n",
       "      <td>680.52</td>\n",
       "      <td>4932.0</td>\n",
       "      <td>296.36</td>\n",
       "      <td>1</td>\n",
       "      <td>0</td>\n",
       "      <td>0</td>\n",
       "      <td>0</td>\n",
       "      <td>0</td>\n",
       "      <td>0</td>\n",
       "      <td>8.503703</td>\n",
       "      <td>8.503500</td>\n",
       "    </tr>\n",
       "    <tr>\n",
       "      <th>17788</th>\n",
       "      <td>194.0</td>\n",
       "      <td>305</td>\n",
       "      <td>30.0</td>\n",
       "      <td>8870.35</td>\n",
       "      <td>69280.0</td>\n",
       "      <td>3973.90</td>\n",
       "      <td>0</td>\n",
       "      <td>1</td>\n",
       "      <td>0</td>\n",
       "      <td>0</td>\n",
       "      <td>0</td>\n",
       "      <td>0</td>\n",
       "      <td>11.145926</td>\n",
       "      <td>11.145912</td>\n",
       "    </tr>\n",
       "    <tr>\n",
       "      <th>6783</th>\n",
       "      <td>41.0</td>\n",
       "      <td>373</td>\n",
       "      <td>30.0</td>\n",
       "      <td>10258.57</td>\n",
       "      <td>92400.0</td>\n",
       "      <td>5761.00</td>\n",
       "      <td>0</td>\n",
       "      <td>0</td>\n",
       "      <td>0</td>\n",
       "      <td>1</td>\n",
       "      <td>0</td>\n",
       "      <td>0</td>\n",
       "      <td>11.433893</td>\n",
       "      <td>11.433882</td>\n",
       "    </tr>\n",
       "    <tr>\n",
       "      <th>115547</th>\n",
       "      <td>44.0</td>\n",
       "      <td>584</td>\n",
       "      <td>29.0</td>\n",
       "      <td>4081.10</td>\n",
       "      <td>22560.0</td>\n",
       "      <td>1165.68</td>\n",
       "      <td>0</td>\n",
       "      <td>1</td>\n",
       "      <td>0</td>\n",
       "      <td>0</td>\n",
       "      <td>0</td>\n",
       "      <td>0</td>\n",
       "      <td>10.023978</td>\n",
       "      <td>10.023934</td>\n",
       "    </tr>\n",
       "    <tr>\n",
       "      <th>219435</th>\n",
       "      <td>356.0</td>\n",
       "      <td>768</td>\n",
       "      <td>30.0</td>\n",
       "      <td>929.05</td>\n",
       "      <td>3726.0</td>\n",
       "      <td>229.37</td>\n",
       "      <td>1</td>\n",
       "      <td>0</td>\n",
       "      <td>0</td>\n",
       "      <td>0</td>\n",
       "      <td>0</td>\n",
       "      <td>0</td>\n",
       "      <td>8.223359</td>\n",
       "      <td>8.223091</td>\n",
       "    </tr>\n",
       "    <tr>\n",
       "      <th>281238</th>\n",
       "      <td>93.0</td>\n",
       "      <td>673</td>\n",
       "      <td>32.0</td>\n",
       "      <td>6548.21</td>\n",
       "      <td>77800.0</td>\n",
       "      <td>2944.76</td>\n",
       "      <td>1</td>\n",
       "      <td>0</td>\n",
       "      <td>0</td>\n",
       "      <td>0</td>\n",
       "      <td>0</td>\n",
       "      <td>0</td>\n",
       "      <td>11.261910</td>\n",
       "      <td>11.261897</td>\n",
       "    </tr>\n",
       "    <tr>\n",
       "      <th>102077</th>\n",
       "      <td>2.0</td>\n",
       "      <td>200</td>\n",
       "      <td>32.0</td>\n",
       "      <td>4262.44</td>\n",
       "      <td>27840.0</td>\n",
       "      <td>1569.34</td>\n",
       "      <td>0</td>\n",
       "      <td>1</td>\n",
       "      <td>0</td>\n",
       "      <td>0</td>\n",
       "      <td>0</td>\n",
       "      <td>0</td>\n",
       "      <td>10.234265</td>\n",
       "      <td>10.234229</td>\n",
       "    </tr>\n",
       "  </tbody>\n",
       "</table>\n",
       "</div>"
      ],
      "text/plain": [
       "        TDS #  EDP  # days  Current Charges  Consumption (KWH)  KWH Charges  \\\n",
       "86592    24.0  522    30.0         16193.72           107520.0      6014.46   \n",
       "80983   186.0  290    29.0          8825.22            55200.0      2847.22   \n",
       "286288  178.0  279    29.0          4826.47            31120.0      1181.00   \n",
       "23851   305.0  550    28.0           680.52             4932.0       296.36   \n",
       "17788   194.0  305    30.0          8870.35            69280.0      3973.90   \n",
       "6783     41.0  373    30.0         10258.57            92400.0      5761.00   \n",
       "115547   44.0  584    29.0          4081.10            22560.0      1165.68   \n",
       "219435  356.0  768    30.0           929.05             3726.0       229.37   \n",
       "281238   93.0  673    32.0          6548.21            77800.0      2944.76   \n",
       "102077    2.0  200    32.0          4262.44            27840.0      1569.34   \n",
       "\n",
       "        BRONX  BROOKLYN  FHA  MANHATTAN  QUEENS  STATEN ISLAND      log+1  \\\n",
       "86592       1         0    0          0       0              0  11.585441   \n",
       "80983       0         0    0          0       1              0  10.918736   \n",
       "286288      0         0    0          1       0              0  10.345638   \n",
       "23851       1         0    0          0       0              0   8.503703   \n",
       "17788       0         1    0          0       0              0  11.145926   \n",
       "6783        0         0    0          1       0              0  11.433893   \n",
       "115547      0         1    0          0       0              0  10.023978   \n",
       "219435      1         0    0          0       0              0   8.223359   \n",
       "281238      1         0    0          0       0              0  11.261910   \n",
       "102077      0         1    0          0       0              0  10.234265   \n",
       "\n",
       "              log  \n",
       "86592   11.585432  \n",
       "80983   10.918718  \n",
       "286288  10.345606  \n",
       "23851    8.503500  \n",
       "17788   11.145912  \n",
       "6783    11.433882  \n",
       "115547  10.023934  \n",
       "219435   8.223091  \n",
       "281238  11.261897  \n",
       "102077  10.234229  "
      ]
     },
     "execution_count": 118,
     "metadata": {},
     "output_type": "execute_result"
    }
   ],
   "source": [
    "ec_final.sample(10)"
   ]
  },
  {
   "cell_type": "code",
   "execution_count": 119,
   "metadata": {},
   "outputs": [],
   "source": [
    "from sklearn.preprocessing import RobustScaler\n",
    "scaler = RobustScaler() \n",
    "data_scaled = scaler.fit_transform(ec_final)"
   ]
  },
  {
   "cell_type": "code",
   "execution_count": 120,
   "metadata": {},
   "outputs": [
    {
     "name": "stdout",
     "output_type": "stream",
     "text": [
      "means (Loan Amount, Int rate and Installment):  [ 0.32772657  0.01764609  0.1799387   0.21920052  0.19575522  0.21311166\n",
      "  0.23149422  0.40183598  0.00344572  0.25537971  0.10124484  0.00659952\n",
      " -0.32064569 -0.32089141]\n",
      "std (Loan Amount, Int rate and Installment):  [0.67584142 0.56494953 0.8220113  0.90807632 0.89739717 0.93902977\n",
      " 0.42178744 0.49026914 0.05859906 0.43607443 0.30165265 0.08096895\n",
      " 1.12508891 1.12593338]\n"
     ]
    }
   ],
   "source": [
    "print('means (Loan Amount, Int rate and Installment): ', data_scaled.mean(axis=0))\n",
    "print('std (Loan Amount, Int rate and Installment): ', data_scaled.std(axis=0))"
   ]
  },
  {
   "cell_type": "code",
   "execution_count": 121,
   "metadata": {},
   "outputs": [
    {
     "name": "stdout",
     "output_type": "stream",
     "text": [
      "Min (Loan Amount, Int rate and Installment):  [ -0.36318408  -0.69604863 -14.5         -0.72316355  -0.77163167\n",
      "  -0.75432599   0.           0.           0.           0.\n",
      "   0.           0.          -7.11356605  -7.61755005]\n",
      "Max (Loan Amount, Int rate and Installment):  [ 2.52736318  1.34346505 61.         13.41783536  6.78740157 16.52403931\n",
      "  1.          1.          1.          1.          1.          1.\n",
      "  1.66013623  1.66009646]\n"
     ]
    }
   ],
   "source": [
    "print('Min (Loan Amount, Int rate and Installment): ', data_scaled.min(axis=0))\n",
    "print('Max (Loan Amount, Int rate and Installment): ', data_scaled.max(axis=0))"
   ]
  },
  {
   "cell_type": "code",
   "execution_count": 122,
   "metadata": {},
   "outputs": [
    {
     "data": {
      "text/plain": [
       "FHA                  3.433868e-03\n",
       "STATEN ISLAND        6.556005e-03\n",
       "QUEENS               9.099480e-02\n",
       "BRONX                1.779056e-01\n",
       "MANHATTAN            1.901619e-01\n",
       "BROOKLYN             2.403651e-01\n",
       "log+1                2.391647e+00\n",
       "log                  2.395407e+00\n",
       "# days               2.702824e+00\n",
       "TDS #                1.845372e+04\n",
       "EDP                  3.454724e+04\n",
       "KWH Charges          4.335638e+06\n",
       "Current Charges      2.711153e+07\n",
       "Consumption (KWH)    1.683388e+09\n",
       "dtype: float64"
      ]
     },
     "execution_count": 122,
     "metadata": {},
     "output_type": "execute_result"
    }
   ],
   "source": [
    "ec_final.var().sort_values()"
   ]
  },
  {
   "cell_type": "code",
   "execution_count": null,
   "metadata": {},
   "outputs": [],
   "source": []
  },
  {
   "cell_type": "markdown",
   "metadata": {},
   "source": [
    "# Target Attribute"
   ]
  },
  {
   "cell_type": "code",
   "execution_count": 48,
   "metadata": {},
   "outputs": [],
   "source": [
    "from PIL import Image\n",
    "image = Image.open(\"/Users/sheryl/GitHub/data71200su21/Project 1/images/distributions.png\");\n",
    "image.show();"
   ]
  },
  {
   "cell_type": "code",
   "execution_count": 123,
   "metadata": {
    "scrolled": true
   },
   "outputs": [
    {
     "data": {
      "image/png": "[encoded data removed]",
      "text/plain": [
       "<Figure size 1440x360 with 6 Axes>"
      ]
     },
     "metadata": {
      "needs_background": "light"
     },
     "output_type": "display_data"
    }
   ],
   "source": [
    "X_train.hist(bins=50, figsize=(20,5)) \n",
    "plt.show()"
   ]
  },
  {
   "cell_type": "code",
   "execution_count": 124,
   "metadata": {},
   "outputs": [
    {
     "data": {
      "image/png": "[encoded data removed]",
      "text/plain": [
       "<Figure size 720x360 with 6 Axes>"
      ]
     },
     "metadata": {
      "needs_background": "light"
     },
     "output_type": "display_data"
    }
   ],
   "source": [
    "y_train.hist(bins=50, figsize=(10,5)) \n",
    "plt.show()"
   ]
  },
  {
   "cell_type": "code",
   "execution_count": 125,
   "metadata": {},
   "outputs": [
    {
     "data": {
      "text/html": [
       "<div>\n",
       "<style scoped>\n",
       "    .dataframe tbody tr th:only-of-type {\n",
       "        vertical-align: middle;\n",
       "    }\n",
       "\n",
       "    .dataframe tbody tr th {\n",
       "        vertical-align: top;\n",
       "    }\n",
       "\n",
       "    .dataframe thead th {\n",
       "        text-align: right;\n",
       "    }\n",
       "</style>\n",
       "<table border=\"1\" class=\"dataframe\">\n",
       "  <thead>\n",
       "    <tr style=\"text-align: right;\">\n",
       "      <th></th>\n",
       "      <th>TDS #</th>\n",
       "      <th>EDP</th>\n",
       "      <th># days</th>\n",
       "      <th>Current Charges</th>\n",
       "      <th>Consumption (KWH)</th>\n",
       "      <th>KWH Charges</th>\n",
       "      <th>BRONX</th>\n",
       "      <th>BROOKLYN</th>\n",
       "      <th>FHA</th>\n",
       "      <th>MANHATTAN</th>\n",
       "      <th>QUEENS</th>\n",
       "      <th>STATEN ISLAND</th>\n",
       "      <th>log+1</th>\n",
       "      <th>log</th>\n",
       "    </tr>\n",
       "  </thead>\n",
       "  <tbody>\n",
       "    <tr>\n",
       "      <th>0</th>\n",
       "      <td>118.0</td>\n",
       "      <td>248</td>\n",
       "      <td>33.0</td>\n",
       "      <td>15396.82</td>\n",
       "      <td>128800.0</td>\n",
       "      <td>7387.97</td>\n",
       "      <td>1</td>\n",
       "      <td>0</td>\n",
       "      <td>0</td>\n",
       "      <td>0</td>\n",
       "      <td>0</td>\n",
       "      <td>0</td>\n",
       "      <td>11.766024</td>\n",
       "      <td>11.766016</td>\n",
       "    </tr>\n",
       "    <tr>\n",
       "      <th>1</th>\n",
       "      <td>118.0</td>\n",
       "      <td>248</td>\n",
       "      <td>30.0</td>\n",
       "      <td>14556.34</td>\n",
       "      <td>115200.0</td>\n",
       "      <td>6607.87</td>\n",
       "      <td>1</td>\n",
       "      <td>0</td>\n",
       "      <td>0</td>\n",
       "      <td>0</td>\n",
       "      <td>0</td>\n",
       "      <td>0</td>\n",
       "      <td>11.654434</td>\n",
       "      <td>11.654425</td>\n",
       "    </tr>\n",
       "    <tr>\n",
       "      <th>2</th>\n",
       "      <td>118.0</td>\n",
       "      <td>248</td>\n",
       "      <td>29.0</td>\n",
       "      <td>13904.98</td>\n",
       "      <td>103200.0</td>\n",
       "      <td>5919.55</td>\n",
       "      <td>1</td>\n",
       "      <td>0</td>\n",
       "      <td>0</td>\n",
       "      <td>0</td>\n",
       "      <td>0</td>\n",
       "      <td>0</td>\n",
       "      <td>11.544434</td>\n",
       "      <td>11.544424</td>\n",
       "    </tr>\n",
       "    <tr>\n",
       "      <th>3</th>\n",
       "      <td>118.0</td>\n",
       "      <td>248</td>\n",
       "      <td>31.0</td>\n",
       "      <td>14764.04</td>\n",
       "      <td>105600.0</td>\n",
       "      <td>6057.22</td>\n",
       "      <td>1</td>\n",
       "      <td>0</td>\n",
       "      <td>0</td>\n",
       "      <td>0</td>\n",
       "      <td>0</td>\n",
       "      <td>0</td>\n",
       "      <td>11.567423</td>\n",
       "      <td>11.567414</td>\n",
       "    </tr>\n",
       "    <tr>\n",
       "      <th>4</th>\n",
       "      <td>118.0</td>\n",
       "      <td>248</td>\n",
       "      <td>28.0</td>\n",
       "      <td>13729.54</td>\n",
       "      <td>97600.0</td>\n",
       "      <td>5598.34</td>\n",
       "      <td>1</td>\n",
       "      <td>0</td>\n",
       "      <td>0</td>\n",
       "      <td>0</td>\n",
       "      <td>0</td>\n",
       "      <td>0</td>\n",
       "      <td>11.488643</td>\n",
       "      <td>11.488633</td>\n",
       "    </tr>\n",
       "    <tr>\n",
       "      <th>...</th>\n",
       "      <td>...</td>\n",
       "      <td>...</td>\n",
       "      <td>...</td>\n",
       "      <td>...</td>\n",
       "      <td>...</td>\n",
       "      <td>...</td>\n",
       "      <td>...</td>\n",
       "      <td>...</td>\n",
       "      <td>...</td>\n",
       "      <td>...</td>\n",
       "      <td>...</td>\n",
       "      <td>...</td>\n",
       "      <td>...</td>\n",
       "      <td>...</td>\n",
       "    </tr>\n",
       "    <tr>\n",
       "      <th>301309</th>\n",
       "      <td>163.0</td>\n",
       "      <td>272</td>\n",
       "      <td>29.0</td>\n",
       "      <td>5608.58</td>\n",
       "      <td>67600.0</td>\n",
       "      <td>2276.77</td>\n",
       "      <td>0</td>\n",
       "      <td>1</td>\n",
       "      <td>0</td>\n",
       "      <td>0</td>\n",
       "      <td>0</td>\n",
       "      <td>0</td>\n",
       "      <td>11.121378</td>\n",
       "      <td>11.121363</td>\n",
       "    </tr>\n",
       "    <tr>\n",
       "      <th>301310</th>\n",
       "      <td>163.0</td>\n",
       "      <td>272</td>\n",
       "      <td>29.0</td>\n",
       "      <td>6438.24</td>\n",
       "      <td>77600.0</td>\n",
       "      <td>2613.57</td>\n",
       "      <td>0</td>\n",
       "      <td>1</td>\n",
       "      <td>0</td>\n",
       "      <td>0</td>\n",
       "      <td>0</td>\n",
       "      <td>0</td>\n",
       "      <td>11.259336</td>\n",
       "      <td>11.259323</td>\n",
       "    </tr>\n",
       "    <tr>\n",
       "      <th>301314</th>\n",
       "      <td>163.0</td>\n",
       "      <td>272</td>\n",
       "      <td>29.0</td>\n",
       "      <td>3782.25</td>\n",
       "      <td>101200.0</td>\n",
       "      <td>3408.42</td>\n",
       "      <td>0</td>\n",
       "      <td>1</td>\n",
       "      <td>0</td>\n",
       "      <td>0</td>\n",
       "      <td>0</td>\n",
       "      <td>0</td>\n",
       "      <td>11.524864</td>\n",
       "      <td>11.524854</td>\n",
       "    </tr>\n",
       "    <tr>\n",
       "      <th>301315</th>\n",
       "      <td>163.0</td>\n",
       "      <td>272</td>\n",
       "      <td>29.0</td>\n",
       "      <td>2541.43</td>\n",
       "      <td>68000.0</td>\n",
       "      <td>2290.24</td>\n",
       "      <td>0</td>\n",
       "      <td>1</td>\n",
       "      <td>0</td>\n",
       "      <td>0</td>\n",
       "      <td>0</td>\n",
       "      <td>0</td>\n",
       "      <td>11.127278</td>\n",
       "      <td>11.127263</td>\n",
       "    </tr>\n",
       "    <tr>\n",
       "      <th>301316</th>\n",
       "      <td>163.0</td>\n",
       "      <td>272</td>\n",
       "      <td>29.0</td>\n",
       "      <td>2967.49</td>\n",
       "      <td>79400.0</td>\n",
       "      <td>2674.19</td>\n",
       "      <td>0</td>\n",
       "      <td>1</td>\n",
       "      <td>0</td>\n",
       "      <td>0</td>\n",
       "      <td>0</td>\n",
       "      <td>0</td>\n",
       "      <td>11.282266</td>\n",
       "      <td>11.282254</td>\n",
       "    </tr>\n",
       "  </tbody>\n",
       "</table>\n",
       "<p>191832 rows × 14 columns</p>\n",
       "</div>"
      ],
      "text/plain": [
       "        TDS #  EDP  # days  Current Charges  Consumption (KWH)  KWH Charges  \\\n",
       "0       118.0  248    33.0         15396.82           128800.0      7387.97   \n",
       "1       118.0  248    30.0         14556.34           115200.0      6607.87   \n",
       "2       118.0  248    29.0         13904.98           103200.0      5919.55   \n",
       "3       118.0  248    31.0         14764.04           105600.0      6057.22   \n",
       "4       118.0  248    28.0         13729.54            97600.0      5598.34   \n",
       "...       ...  ...     ...              ...                ...          ...   \n",
       "301309  163.0  272    29.0          5608.58            67600.0      2276.77   \n",
       "301310  163.0  272    29.0          6438.24            77600.0      2613.57   \n",
       "301314  163.0  272    29.0          3782.25           101200.0      3408.42   \n",
       "301315  163.0  272    29.0          2541.43            68000.0      2290.24   \n",
       "301316  163.0  272    29.0          2967.49            79400.0      2674.19   \n",
       "\n",
       "        BRONX  BROOKLYN  FHA  MANHATTAN  QUEENS  STATEN ISLAND      log+1  \\\n",
       "0           1         0    0          0       0              0  11.766024   \n",
       "1           1         0    0          0       0              0  11.654434   \n",
       "2           1         0    0          0       0              0  11.544434   \n",
       "3           1         0    0          0       0              0  11.567423   \n",
       "4           1         0    0          0       0              0  11.488643   \n",
       "...       ...       ...  ...        ...     ...            ...        ...   \n",
       "301309      0         1    0          0       0              0  11.121378   \n",
       "301310      0         1    0          0       0              0  11.259336   \n",
       "301314      0         1    0          0       0              0  11.524864   \n",
       "301315      0         1    0          0       0              0  11.127278   \n",
       "301316      0         1    0          0       0              0  11.282266   \n",
       "\n",
       "              log  \n",
       "0       11.766016  \n",
       "1       11.654425  \n",
       "2       11.544424  \n",
       "3       11.567414  \n",
       "4       11.488633  \n",
       "...           ...  \n",
       "301309  11.121363  \n",
       "301310  11.259323  \n",
       "301314  11.524854  \n",
       "301315  11.127263  \n",
       "301316  11.282254  \n",
       "\n",
       "[191832 rows x 14 columns]"
      ]
     },
     "execution_count": 125,
     "metadata": {},
     "output_type": "execute_result"
    }
   ],
   "source": [
    "ec_final"
   ]
  },
  {
   "cell_type": "markdown",
   "metadata": {},
   "source": [
    "# Algorithm 1 - k-Nearest Neighbor"
   ]
  },
  {
   "cell_type": "code",
   "execution_count": 126,
   "metadata": {},
   "outputs": [
    {
     "name": "stdout",
     "output_type": "stream",
     "text": [
      "Minimum for each feature\n",
      " Current Charges      0.0\n",
      "Consumption (KWH)    0.0\n",
      "KWH Charges          0.0\n",
      "log+1                0.0\n",
      "log                  0.0\n",
      "dtype: float64\n",
      "Maximum for each feature\n",
      " Current Charges      1.0\n",
      "Consumption (KWH)    1.0\n",
      "KWH Charges          1.0\n",
      "log+1                1.0\n",
      "log                  1.0\n",
      "dtype: float64\n"
     ]
    }
   ],
   "source": [
    "# Compute the minimum value per feature on the training set\n",
    "min_on_training = X_train.min(axis=0)\n",
    "\n",
    "# Compute the range of each feature (max - min) on the training set\n",
    "range_on_training = (X_train - min_on_training).max(axis=0)\n",
    "\n",
    "# subtract the min, divide by range\n",
    "# afterward, min=0 and max=1 for each feature\n",
    "X_train_scaled = (X_train - min_on_training) / range_on_training\n",
    "print(\"Minimum for each feature\\n\", X_train_scaled.min(axis=0))\n",
    "print(\"Maximum for each feature\\n\", X_train_scaled.max(axis=0))"
   ]
  },
  {
   "cell_type": "code",
   "execution_count": 127,
   "metadata": {},
   "outputs": [
    {
     "name": "stdout",
     "output_type": "stream",
     "text": [
      "Minimum for each feature\n",
      " Current Charges     -1.673657e-05\n",
      "Consumption (KWH)    0.000000e+00\n",
      "KWH Charges         -7.830202e-07\n",
      "log+1                0.000000e+00\n",
      "log                  0.000000e+00\n",
      "dtype: float64\n",
      "Maximum for each feature\n",
      " Current Charges      1.11233\n",
      "Consumption (KWH)    1.00000\n",
      "KWH Charges          0.99568\n",
      "log+1                1.00000\n",
      "log                  1.00000\n",
      "dtype: float64\n"
     ]
    }
   ],
   "source": [
    "X_test_scaled = (X_test - min_on_training) / range_on_training\n",
    "print(\"Minimum for each feature\\n\", X_test_scaled.min(axis=0))\n",
    "print(\"Maximum for each feature\\n\", X_test_scaled.max(axis=0))"
   ]
  },
  {
   "cell_type": "code",
   "execution_count": 128,
   "metadata": {},
   "outputs": [
    {
     "data": {
      "text/plain": [
       "<matplotlib.legend.Legend at 0x7fc3c7524ed0>"
      ]
     },
     "execution_count": 128,
     "metadata": {},
     "output_type": "execute_result"
    },
    {
     "data": {
      "image/png": "[encoded data removed]",
      "text/plain": [
       "<Figure size 432x288 with 1 Axes>"
      ]
     },
     "metadata": {
      "needs_background": "light"
     },
     "output_type": "display_data"
    }
   ],
   "source": [
    "from sklearn.neighbors import KNeighborsClassifier\n",
    "\n",
    "training_accuracy = []\n",
    "test_accuracy = []\n",
    "# try n_neighbors from 1 to 10\n",
    "neighbors_settings = range(1, 11)\n",
    "\n",
    "for n_neighbors in neighbors_settings:\n",
    "    # build the model\n",
    "    knn = KNeighborsClassifier(n_neighbors=n_neighbors)\n",
    "    knn.fit(X_train, y_train)\n",
    "    # record training set accuracy\n",
    "    training_accuracy.append(knn.score(X_train, y_train))\n",
    "    # record generalization accuracy\n",
    "    test_accuracy.append(knn.score(X_test, y_test))\n",
    "    \n",
    "plt.plot(neighbors_settings, training_accuracy, label=\"training accuracy\")\n",
    "plt.plot(neighbors_settings, test_accuracy, label=\"test accuracy\")\n",
    "plt.ylabel(\"Accuracy\")\n",
    "plt.xlabel(\"n_neighbors\")\n",
    "plt.legend()"
   ]
  },
  {
   "cell_type": "code",
   "execution_count": 129,
   "metadata": {},
   "outputs": [
    {
     "data": {
      "text/plain": [
       "KNeighborsClassifier(n_neighbors=10)"
      ]
     },
     "execution_count": 129,
     "metadata": {},
     "output_type": "execute_result"
    }
   ],
   "source": [
    "knn.fit(X_train,y_train)"
   ]
  },
  {
   "cell_type": "code",
   "execution_count": 130,
   "metadata": {},
   "outputs": [
    {
     "name": "stdout",
     "output_type": "stream",
     "text": [
      "knn score: 0.5839067517411068\n"
     ]
    }
   ],
   "source": [
    "knn = KNeighborsClassifier(n_neighbors=3)\n",
    "knn.fit(X_test, y_test)\n",
    "print(\"knn score: {}\".format(knn.score(X_test, y_test)))"
   ]
  },
  {
   "cell_type": "code",
   "execution_count": 131,
   "metadata": {},
   "outputs": [
    {
     "name": "stdout",
     "output_type": "stream",
     "text": [
      "knn score: 0.5817903165269611\n"
     ]
    }
   ],
   "source": [
    "knn = KNeighborsClassifier(n_neighbors=3)\n",
    "knn.fit(X_train, y_train)\n",
    "print(\"knn score: {}\".format(knn.score(X_train, y_train)))"
   ]
  },
  {
   "cell_type": "code",
   "execution_count": 132,
   "metadata": {},
   "outputs": [
    {
     "ename": "ValueError",
     "evalue": "multilabel-indicator is not supported",
     "output_type": "error",
     "traceback": [
      "\u001b[0;31m---------------------------------------------------------------------------\u001b[0m",
      "\u001b[0;31mValueError\u001b[0m                                Traceback (most recent call last)",
      "\u001b[0;32m<ipython-input-132-a5d044edc506>\u001b[0m in \u001b[0;36m<module>\u001b[0;34m\u001b[0m\n\u001b[1;32m      1\u001b[0m \u001b[0;32mfrom\u001b[0m \u001b[0msklearn\u001b[0m\u001b[0;34m.\u001b[0m\u001b[0mmetrics\u001b[0m \u001b[0;32mimport\u001b[0m \u001b[0mconfusion_matrix\u001b[0m\u001b[0;34m\u001b[0m\u001b[0;34m\u001b[0m\u001b[0m\n\u001b[1;32m      2\u001b[0m \u001b[0my_pred\u001b[0m \u001b[0;34m=\u001b[0m \u001b[0mknn\u001b[0m\u001b[0;34m.\u001b[0m\u001b[0mpredict\u001b[0m\u001b[0;34m(\u001b[0m\u001b[0mX_test\u001b[0m\u001b[0;34m)\u001b[0m\u001b[0;34m\u001b[0m\u001b[0;34m\u001b[0m\u001b[0m\n\u001b[0;32m----> 3\u001b[0;31m \u001b[0mconfusion_matrix\u001b[0m\u001b[0;34m(\u001b[0m\u001b[0my_test\u001b[0m\u001b[0;34m,\u001b[0m\u001b[0my_pred\u001b[0m\u001b[0;34m)\u001b[0m\u001b[0;34m\u001b[0m\u001b[0;34m\u001b[0m\u001b[0m\n\u001b[0m",
      "\u001b[0;32m~/opt/anaconda3/lib/python3.7/site-packages/sklearn/utils/validation.py\u001b[0m in \u001b[0;36minner_f\u001b[0;34m(*args, **kwargs)\u001b[0m\n\u001b[1;32m     71\u001b[0m                           FutureWarning)\n\u001b[1;32m     72\u001b[0m         \u001b[0mkwargs\u001b[0m\u001b[0;34m.\u001b[0m\u001b[0mupdate\u001b[0m\u001b[0;34m(\u001b[0m\u001b[0;34m{\u001b[0m\u001b[0mk\u001b[0m\u001b[0;34m:\u001b[0m \u001b[0marg\u001b[0m \u001b[0;32mfor\u001b[0m \u001b[0mk\u001b[0m\u001b[0;34m,\u001b[0m \u001b[0marg\u001b[0m \u001b[0;32min\u001b[0m \u001b[0mzip\u001b[0m\u001b[0;34m(\u001b[0m\u001b[0msig\u001b[0m\u001b[0;34m.\u001b[0m\u001b[0mparameters\u001b[0m\u001b[0;34m,\u001b[0m \u001b[0margs\u001b[0m\u001b[0;34m)\u001b[0m\u001b[0;34m}\u001b[0m\u001b[0;34m)\u001b[0m\u001b[0;34m\u001b[0m\u001b[0;34m\u001b[0m\u001b[0m\n\u001b[0;32m---> 73\u001b[0;31m         \u001b[0;32mreturn\u001b[0m \u001b[0mf\u001b[0m\u001b[0;34m(\u001b[0m\u001b[0;34m**\u001b[0m\u001b[0mkwargs\u001b[0m\u001b[0;34m)\u001b[0m\u001b[0;34m\u001b[0m\u001b[0;34m\u001b[0m\u001b[0m\n\u001b[0m\u001b[1;32m     74\u001b[0m     \u001b[0;32mreturn\u001b[0m \u001b[0minner_f\u001b[0m\u001b[0;34m\u001b[0m\u001b[0;34m\u001b[0m\u001b[0m\n\u001b[1;32m     75\u001b[0m \u001b[0;34m\u001b[0m\u001b[0m\n",
      "\u001b[0;32m~/opt/anaconda3/lib/python3.7/site-packages/sklearn/metrics/_classification.py\u001b[0m in \u001b[0;36mconfusion_matrix\u001b[0;34m(y_true, y_pred, labels, sample_weight, normalize)\u001b[0m\n\u001b[1;32m    276\u001b[0m     \u001b[0my_type\u001b[0m\u001b[0;34m,\u001b[0m \u001b[0my_true\u001b[0m\u001b[0;34m,\u001b[0m \u001b[0my_pred\u001b[0m \u001b[0;34m=\u001b[0m \u001b[0m_check_targets\u001b[0m\u001b[0;34m(\u001b[0m\u001b[0my_true\u001b[0m\u001b[0;34m,\u001b[0m \u001b[0my_pred\u001b[0m\u001b[0;34m)\u001b[0m\u001b[0;34m\u001b[0m\u001b[0;34m\u001b[0m\u001b[0m\n\u001b[1;32m    277\u001b[0m     \u001b[0;32mif\u001b[0m \u001b[0my_type\u001b[0m \u001b[0;32mnot\u001b[0m \u001b[0;32min\u001b[0m \u001b[0;34m(\u001b[0m\u001b[0;34m\"binary\"\u001b[0m\u001b[0;34m,\u001b[0m \u001b[0;34m\"multiclass\"\u001b[0m\u001b[0;34m)\u001b[0m\u001b[0;34m:\u001b[0m\u001b[0;34m\u001b[0m\u001b[0;34m\u001b[0m\u001b[0m\n\u001b[0;32m--> 278\u001b[0;31m         \u001b[0;32mraise\u001b[0m \u001b[0mValueError\u001b[0m\u001b[0;34m(\u001b[0m\u001b[0;34m\"%s is not supported\"\u001b[0m \u001b[0;34m%\u001b[0m \u001b[0my_type\u001b[0m\u001b[0;34m)\u001b[0m\u001b[0;34m\u001b[0m\u001b[0;34m\u001b[0m\u001b[0m\n\u001b[0m\u001b[1;32m    279\u001b[0m \u001b[0;34m\u001b[0m\u001b[0m\n\u001b[1;32m    280\u001b[0m     \u001b[0;32mif\u001b[0m \u001b[0mlabels\u001b[0m \u001b[0;32mis\u001b[0m \u001b[0;32mNone\u001b[0m\u001b[0;34m:\u001b[0m\u001b[0;34m\u001b[0m\u001b[0;34m\u001b[0m\u001b[0m\n",
      "\u001b[0;31mValueError\u001b[0m: multilabel-indicator is not supported"
     ]
    }
   ],
   "source": [
    "from sklearn.metrics import confusion_matrix\n",
    "y_pred = knn.predict(X_test)\n",
    "confusion_matrix(y_test,y_pred)"
   ]
  },
  {
   "cell_type": "code",
   "execution_count": null,
   "metadata": {},
   "outputs": [],
   "source": []
  },
  {
   "cell_type": "code",
   "execution_count": 134,
   "metadata": {},
   "outputs": [
    {
     "name": "stdout",
     "output_type": "stream",
     "text": [
      "cv_scores:\n",
      "[0.17743651 0.17312023 0.17534092]\n",
      "cv_scores mean:\n",
      "0.17529922015096544\n"
     ]
    }
   ],
   "source": [
    "from sklearn.model_selection import cross_val_score\n",
    "\n",
    "knn_cv = KNeighborsClassifier(n_neighbors=2)\n",
    "\n",
    "#5-fold cross validation\n",
    "cv_scores = cross_val_score(knn_cv, X_train, y_train, cv=3)\n",
    "\n",
    "print(\"cv_scores:\\n{}\".format(cv_scores))\n",
    "print(\"cv_scores mean:\\n{}\".format(np.mean(cv_scores)))"
   ]
  },
  {
   "cell_type": "code",
   "execution_count": 135,
   "metadata": {},
   "outputs": [
    {
     "name": "stdout",
     "output_type": "stream",
     "text": [
      "              precision    recall  f1-score   support\n",
      "\n",
      "           0       0.31      0.22      0.26     22156\n",
      "           1       0.51      0.48      0.50     38521\n",
      "           2       0.36      0.18      0.24       347\n",
      "           3       0.40      0.29      0.34     24511\n",
      "           4       0.39      0.19      0.25      9767\n",
      "           5       0.31      0.07      0.11       614\n",
      "\n",
      "   micro avg       0.44      0.34      0.38     95916\n",
      "   macro avg       0.38      0.24      0.28     95916\n",
      "weighted avg       0.42      0.34      0.37     95916\n",
      " samples avg       0.34      0.34      0.34     95916\n",
      "\n"
     ]
    },
    {
     "name": "stderr",
     "output_type": "stream",
     "text": [
      "/Users/sheryl/opt/anaconda3/lib/python3.7/site-packages/sklearn/metrics/_classification.py:1221: UndefinedMetricWarning: Precision and F-score are ill-defined and being set to 0.0 in samples with no predicted labels. Use `zero_division` parameter to control this behavior.\n",
      "  _warn_prf(average, modifier, msg_start, len(result))\n"
     ]
    }
   ],
   "source": [
    "from sklearn.metrics import classification_report\n",
    "\n",
    "print(classification_report(y_test,y_pred))"
   ]
  },
  {
   "cell_type": "code",
   "execution_count": 137,
   "metadata": {},
   "outputs": [
    {
     "name": "stdout",
     "output_type": "stream",
     "text": [
      "30.290059357493366\n"
     ]
    }
   ],
   "source": [
    "from sklearn import metrics\n",
    "\n",
    "print(metrics.mean_absolute_error(y_test, y_train))"
   ]
  },
  {
   "cell_type": "code",
   "execution_count": 138,
   "metadata": {},
   "outputs": [
    {
     "name": "stdout",
     "output_type": "stream",
     "text": [
      "0.2366410887304169\n"
     ]
    }
   ],
   "source": [
    "print(metrics.mean_squared_error(y_test, y_train))"
   ]
  },
  {
   "cell_type": "code",
   "execution_count": 139,
   "metadata": {},
   "outputs": [
    {
     "name": "stdout",
     "output_type": "stream",
     "text": [
      "5.503640554895765\n"
     ]
    }
   ],
   "source": [
    "print(np.sqrt(metrics.mean_absolute_error(y_test, y_train)))"
   ]
  },
  {
   "cell_type": "markdown",
   "metadata": {},
   "source": [
    "# SVM"
   ]
  },
  {
   "cell_type": "code",
   "execution_count": 148,
   "metadata": {},
   "outputs": [
    {
     "name": "stdout",
     "output_type": "stream",
     "text": [
      "Accuracy on training set: 0.997\n",
      "Accuracy on test set: 0.404\n",
      "              precision    recall  f1-score   support\n",
      "\n",
      "           0       0.31      0.22      0.26     22156\n",
      "           1       0.51      0.48      0.50     38521\n",
      "           2       0.36      0.18      0.24       347\n",
      "           3       0.40      0.29      0.34     24511\n",
      "           4       0.39      0.19      0.25      9767\n",
      "           5       0.31      0.07      0.11       614\n",
      "\n",
      "   micro avg       0.44      0.34      0.38     95916\n",
      "   macro avg       0.38      0.24      0.28     95916\n",
      "weighted avg       0.42      0.34      0.37     95916\n",
      " samples avg       0.34      0.34      0.34     95916\n",
      "\n"
     ]
    },
    {
     "name": "stderr",
     "output_type": "stream",
     "text": [
      "/Users/sheryl/opt/anaconda3/lib/python3.7/site-packages/sklearn/metrics/_classification.py:1221: UndefinedMetricWarning: Precision and F-score are ill-defined and being set to 0.0 in samples with no predicted labels. Use `zero_division` parameter to control this behavior.\n",
      "  _warn_prf(average, modifier, msg_start, len(result))\n"
     ]
    }
   ],
   "source": [
    "from sklearn.tree import DecisionTreeClassifier\n",
    "\n",
    "tree = DecisionTreeClassifier(random_state=0)\n",
    "tree.fit(X_train, y_train)\n",
    "\n",
    "print(\"Accuracy on training set: {:.3f}\".format(tree.score(X_train, y_train)))\n",
    "print(\"Accuracy on test set: {:.3f}\".format(tree.score(X_test, y_test)))\n",
    "print(classification_report(y_test,y_pred))      "
   ]
  },
  {
   "cell_type": "code",
   "execution_count": 149,
   "metadata": {},
   "outputs": [
    {
     "name": "stdout",
     "output_type": "stream",
     "text": [
      "Feature importances:\n",
      "[0.41257092 0.10105754 0.26984545 0.09366289 0.1228632 ]\n"
     ]
    }
   ],
   "source": [
    "print(\"Feature importances:\")\n",
    "print(tree.feature_importances_)"
   ]
  },
  {
   "cell_type": "code",
   "execution_count": null,
   "metadata": {},
   "outputs": [],
   "source": [
    "def plot_feature_importances_iris(model):\n",
    "    n_features = iris.data.shape[1]\n",
    "    plt.barh(np.arange(n_features), model.feature_importances_, align='center')\n",
    "    plt.yticks(np.arange(n_features), iris.feature_names)\n",
    "    plt.xlabel(\"Feature importance\")\n",
    "    plt.ylabel(\"Feature\")\n",
    "    plt.ylim(-1, n_features)\n",
    "\n",
    "plot_feature_importances_iris(tree)"
   ]
  },
  {
   "cell_type": "code",
   "execution_count": 150,
   "metadata": {},
   "outputs": [
    {
     "name": "stdout",
     "output_type": "stream",
     "text": [
      "Accuracy on training set: 0.011\n",
      "Accuracy on test set: 0.010\n"
     ]
    }
   ],
   "source": [
    "tree = DecisionTreeClassifier(max_depth=2, random_state=0)\n",
    "tree.fit(X_train, y_train)\n",
    "\n",
    "print(\"Accuracy on training set: {:.3f}\".format(tree.score(X_train, y_train)))\n",
    "print(\"Accuracy on test set: {:.3f}\".format(tree.score(X_test, y_test)))"
   ]
  },
  {
   "cell_type": "code",
   "execution_count": 151,
   "metadata": {},
   "outputs": [
    {
     "name": "stdout",
     "output_type": "stream",
     "text": [
      "Feature importances:\n",
      "[0.08220863 0.         0.         0.         0.91779137]\n"
     ]
    }
   ],
   "source": [
    "print(\"Feature importances:\")\n",
    "print(tree.feature_importances_)"
   ]
  },
  {
   "cell_type": "code",
   "execution_count": 152,
   "metadata": {},
   "outputs": [
    {
     "ename": "NameError",
     "evalue": "name 'iris' is not defined",
     "output_type": "error",
     "traceback": [
      "\u001b[0;31m---------------------------------------------------------------------------\u001b[0m",
      "\u001b[0;31mNameError\u001b[0m                                 Traceback (most recent call last)",
      "\u001b[0;32m<ipython-input-152-4b019706330d>\u001b[0m in \u001b[0;36m<module>\u001b[0;34m\u001b[0m\n\u001b[1;32m      7\u001b[0m     \u001b[0mplt\u001b[0m\u001b[0;34m.\u001b[0m\u001b[0mylim\u001b[0m\u001b[0;34m(\u001b[0m\u001b[0;34m-\u001b[0m\u001b[0;36m1\u001b[0m\u001b[0;34m,\u001b[0m \u001b[0mn_features\u001b[0m\u001b[0;34m)\u001b[0m\u001b[0;34m\u001b[0m\u001b[0;34m\u001b[0m\u001b[0m\n\u001b[1;32m      8\u001b[0m \u001b[0;34m\u001b[0m\u001b[0m\n\u001b[0;32m----> 9\u001b[0;31m \u001b[0mplot_feature_importances_cancer\u001b[0m\u001b[0;34m(\u001b[0m\u001b[0mtree\u001b[0m\u001b[0;34m)\u001b[0m\u001b[0;34m\u001b[0m\u001b[0;34m\u001b[0m\u001b[0m\n\u001b[0m",
      "\u001b[0;32m<ipython-input-152-4b019706330d>\u001b[0m in \u001b[0;36mplot_feature_importances_cancer\u001b[0;34m(model)\u001b[0m\n\u001b[1;32m      1\u001b[0m \u001b[0;32mdef\u001b[0m \u001b[0mplot_feature_importances_cancer\u001b[0m\u001b[0;34m(\u001b[0m\u001b[0mmodel\u001b[0m\u001b[0;34m)\u001b[0m\u001b[0;34m:\u001b[0m\u001b[0;34m\u001b[0m\u001b[0;34m\u001b[0m\u001b[0m\n\u001b[0;32m----> 2\u001b[0;31m     \u001b[0mn_features\u001b[0m \u001b[0;34m=\u001b[0m \u001b[0miris\u001b[0m\u001b[0;34m.\u001b[0m\u001b[0mdata\u001b[0m\u001b[0;34m.\u001b[0m\u001b[0mshape\u001b[0m\u001b[0;34m[\u001b[0m\u001b[0;36m1\u001b[0m\u001b[0;34m]\u001b[0m\u001b[0;34m\u001b[0m\u001b[0;34m\u001b[0m\u001b[0m\n\u001b[0m\u001b[1;32m      3\u001b[0m     \u001b[0mplt\u001b[0m\u001b[0;34m.\u001b[0m\u001b[0mbarh\u001b[0m\u001b[0;34m(\u001b[0m\u001b[0mnp\u001b[0m\u001b[0;34m.\u001b[0m\u001b[0marange\u001b[0m\u001b[0;34m(\u001b[0m\u001b[0mn_features\u001b[0m\u001b[0;34m)\u001b[0m\u001b[0;34m,\u001b[0m \u001b[0mmodel\u001b[0m\u001b[0;34m.\u001b[0m\u001b[0mfeature_importances_\u001b[0m\u001b[0;34m,\u001b[0m \u001b[0malign\u001b[0m\u001b[0;34m=\u001b[0m\u001b[0;34m'center'\u001b[0m\u001b[0;34m)\u001b[0m\u001b[0;34m\u001b[0m\u001b[0;34m\u001b[0m\u001b[0m\n\u001b[1;32m      4\u001b[0m     \u001b[0mplt\u001b[0m\u001b[0;34m.\u001b[0m\u001b[0myticks\u001b[0m\u001b[0;34m(\u001b[0m\u001b[0mnp\u001b[0m\u001b[0;34m.\u001b[0m\u001b[0marange\u001b[0m\u001b[0;34m(\u001b[0m\u001b[0mn_features\u001b[0m\u001b[0;34m)\u001b[0m\u001b[0;34m,\u001b[0m \u001b[0miris\u001b[0m\u001b[0;34m.\u001b[0m\u001b[0mfeature_names\u001b[0m\u001b[0;34m)\u001b[0m\u001b[0;34m\u001b[0m\u001b[0;34m\u001b[0m\u001b[0m\n\u001b[1;32m      5\u001b[0m     \u001b[0mplt\u001b[0m\u001b[0;34m.\u001b[0m\u001b[0mxlabel\u001b[0m\u001b[0;34m(\u001b[0m\u001b[0;34m\"Feature importance\"\u001b[0m\u001b[0;34m)\u001b[0m\u001b[0;34m\u001b[0m\u001b[0;34m\u001b[0m\u001b[0m\n",
      "\u001b[0;31mNameError\u001b[0m: name 'iris' is not defined"
     ]
    }
   ],
   "source": [
    "def plot_feature_importances_cancer(model):\n",
    "    n_features = iris.data.shape[1]\n",
    "    plt.barh(np.arange(n_features), model.feature_importances_, align='center')\n",
    "    plt.yticks(np.arange(n_features), iris.feature_names)\n",
    "    plt.xlabel(\"Feature importance\")\n",
    "    plt.ylabel(\"Feature\")\n",
    "    plt.ylim(-1, n_features)\n",
    "\n",
    "plot_feature_importances_cancer(tree)"
   ]
  },
  {
   "cell_type": "code",
   "execution_count": 153,
   "metadata": {},
   "outputs": [
    {
     "name": "stdout",
     "output_type": "stream",
     "text": [
      "Accuracy on training set: 0.895\n",
      "Accuracy on test set: 0.360\n"
     ]
    }
   ],
   "source": [
    "\n",
    "# https://scikit-learn.org/stable/modules/generated/sklearn.ensemble.RandomForestClassifier.html\n",
    "\n",
    "from sklearn.ensemble import RandomForestClassifier\n",
    "from sklearn.datasets import make_moons\n",
    "\n",
    "forest = RandomForestClassifier(n_estimators=5, random_state=2)\n",
    "forest.fit(X_train, y_train)\n",
    "\n",
    "print(\"Accuracy on training set: {:.3f}\".format(forest.score(X_train, y_train)))\n",
    "print(\"Accuracy on test set: {:.3f}\".format(forest.score(X_test, y_test)))"
   ]
  },
  {
   "cell_type": "code",
   "execution_count": 154,
   "metadata": {},
   "outputs": [
    {
     "name": "stdout",
     "output_type": "stream",
     "text": [
      "Accuracy on training set: 0.000\n",
      "Accuracy on test set: 0.000\n"
     ]
    }
   ],
   "source": [
    "forest = RandomForestClassifier(n_estimators=5, random_state=2, max_depth=1)\n",
    "forest.fit(X_train, y_train)\n",
    "\n",
    "print(\"Accuracy on training set: {:.3f}\".format(forest.score(X_train, y_train)))\n",
    "print(\"Accuracy on test set: {:.3f}\".format(forest.score(X_test, y_test)))"
   ]
  },
  {
   "cell_type": "code",
   "execution_count": 155,
   "metadata": {},
   "outputs": [
    {
     "name": "stdout",
     "output_type": "stream",
     "text": [
      "Accuracy on training set: 0.892\n",
      "Accuracy on test set: 0.355\n"
     ]
    }
   ],
   "source": [
    "forest = RandomForestClassifier(n_estimators=5, random_state=2, max_features=1)\n",
    "forest.fit(X_train, y_train)\n",
    "\n",
    "print(\"Accuracy on training set: {:.3f}\".format(forest.score(X_train, y_train)))\n",
    "print(\"Accuracy on test set: {:.3f}\".format(forest.score(X_test, y_test)))"
   ]
  },
  {
   "cell_type": "code",
   "execution_count": null,
   "metadata": {},
   "outputs": [],
   "source": []
  },
  {
   "cell_type": "markdown",
   "metadata": {},
   "source": [
    "Gradient"
   ]
  },
  {
   "cell_type": "code",
   "execution_count": 156,
   "metadata": {},
   "outputs": [
    {
     "ename": "ValueError",
     "evalue": "y should be a 1d array, got an array of shape (95916, 6) instead.",
     "output_type": "error",
     "traceback": [
      "\u001b[0;31m---------------------------------------------------------------------------\u001b[0m",
      "\u001b[0;31mValueError\u001b[0m                                Traceback (most recent call last)",
      "\u001b[0;32m<ipython-input-156-01dbbfe749b1>\u001b[0m in \u001b[0;36m<module>\u001b[0;34m\u001b[0m\n\u001b[1;32m      4\u001b[0m \u001b[0;34m\u001b[0m\u001b[0m\n\u001b[1;32m      5\u001b[0m \u001b[0mgbrt\u001b[0m \u001b[0;34m=\u001b[0m \u001b[0mGradientBoostingClassifier\u001b[0m\u001b[0;34m(\u001b[0m\u001b[0mn_estimators\u001b[0m\u001b[0;34m=\u001b[0m\u001b[0;36m100\u001b[0m\u001b[0;34m,\u001b[0m \u001b[0mrandom_state\u001b[0m\u001b[0;34m=\u001b[0m\u001b[0;36m0\u001b[0m\u001b[0;34m)\u001b[0m\u001b[0;34m\u001b[0m\u001b[0;34m\u001b[0m\u001b[0m\n\u001b[0;32m----> 6\u001b[0;31m \u001b[0mgbrt\u001b[0m\u001b[0;34m.\u001b[0m\u001b[0mfit\u001b[0m\u001b[0;34m(\u001b[0m\u001b[0mX_train\u001b[0m\u001b[0;34m,\u001b[0m \u001b[0my_train\u001b[0m\u001b[0;34m)\u001b[0m\u001b[0;34m\u001b[0m\u001b[0;34m\u001b[0m\u001b[0m\n\u001b[0m\u001b[1;32m      7\u001b[0m \u001b[0;34m\u001b[0m\u001b[0m\n\u001b[1;32m      8\u001b[0m \u001b[0mprint\u001b[0m\u001b[0;34m(\u001b[0m\u001b[0;34m\"Accuracy on training set: {:.3f}\"\u001b[0m\u001b[0;34m.\u001b[0m\u001b[0mformat\u001b[0m\u001b[0;34m(\u001b[0m\u001b[0mgbrt\u001b[0m\u001b[0;34m.\u001b[0m\u001b[0mscore\u001b[0m\u001b[0;34m(\u001b[0m\u001b[0mX_train\u001b[0m\u001b[0;34m,\u001b[0m \u001b[0my_train\u001b[0m\u001b[0;34m)\u001b[0m\u001b[0;34m)\u001b[0m\u001b[0;34m)\u001b[0m\u001b[0;34m\u001b[0m\u001b[0;34m\u001b[0m\u001b[0m\n",
      "\u001b[0;32m~/opt/anaconda3/lib/python3.7/site-packages/sklearn/ensemble/_gb.py\u001b[0m in \u001b[0;36mfit\u001b[0;34m(self, X, y, sample_weight, monitor)\u001b[0m\n\u001b[1;32m    415\u001b[0m         \u001b[0msample_weight\u001b[0m \u001b[0;34m=\u001b[0m \u001b[0m_check_sample_weight\u001b[0m\u001b[0;34m(\u001b[0m\u001b[0msample_weight\u001b[0m\u001b[0;34m,\u001b[0m \u001b[0mX\u001b[0m\u001b[0;34m)\u001b[0m\u001b[0;34m\u001b[0m\u001b[0;34m\u001b[0m\u001b[0m\n\u001b[1;32m    416\u001b[0m \u001b[0;34m\u001b[0m\u001b[0m\n\u001b[0;32m--> 417\u001b[0;31m         \u001b[0my\u001b[0m \u001b[0;34m=\u001b[0m \u001b[0mcolumn_or_1d\u001b[0m\u001b[0;34m(\u001b[0m\u001b[0my\u001b[0m\u001b[0;34m,\u001b[0m \u001b[0mwarn\u001b[0m\u001b[0;34m=\u001b[0m\u001b[0;32mTrue\u001b[0m\u001b[0;34m)\u001b[0m\u001b[0;34m\u001b[0m\u001b[0;34m\u001b[0m\u001b[0m\n\u001b[0m\u001b[1;32m    418\u001b[0m         \u001b[0my\u001b[0m \u001b[0;34m=\u001b[0m \u001b[0mself\u001b[0m\u001b[0;34m.\u001b[0m\u001b[0m_validate_y\u001b[0m\u001b[0;34m(\u001b[0m\u001b[0my\u001b[0m\u001b[0;34m,\u001b[0m \u001b[0msample_weight\u001b[0m\u001b[0;34m)\u001b[0m\u001b[0;34m\u001b[0m\u001b[0;34m\u001b[0m\u001b[0m\n\u001b[1;32m    419\u001b[0m \u001b[0;34m\u001b[0m\u001b[0m\n",
      "\u001b[0;32m~/opt/anaconda3/lib/python3.7/site-packages/sklearn/utils/validation.py\u001b[0m in \u001b[0;36minner_f\u001b[0;34m(*args, **kwargs)\u001b[0m\n\u001b[1;32m     71\u001b[0m                           FutureWarning)\n\u001b[1;32m     72\u001b[0m         \u001b[0mkwargs\u001b[0m\u001b[0;34m.\u001b[0m\u001b[0mupdate\u001b[0m\u001b[0;34m(\u001b[0m\u001b[0;34m{\u001b[0m\u001b[0mk\u001b[0m\u001b[0;34m:\u001b[0m \u001b[0marg\u001b[0m \u001b[0;32mfor\u001b[0m \u001b[0mk\u001b[0m\u001b[0;34m,\u001b[0m \u001b[0marg\u001b[0m \u001b[0;32min\u001b[0m \u001b[0mzip\u001b[0m\u001b[0;34m(\u001b[0m\u001b[0msig\u001b[0m\u001b[0;34m.\u001b[0m\u001b[0mparameters\u001b[0m\u001b[0;34m,\u001b[0m \u001b[0margs\u001b[0m\u001b[0;34m)\u001b[0m\u001b[0;34m}\u001b[0m\u001b[0;34m)\u001b[0m\u001b[0;34m\u001b[0m\u001b[0;34m\u001b[0m\u001b[0m\n\u001b[0;32m---> 73\u001b[0;31m         \u001b[0;32mreturn\u001b[0m \u001b[0mf\u001b[0m\u001b[0;34m(\u001b[0m\u001b[0;34m**\u001b[0m\u001b[0mkwargs\u001b[0m\u001b[0;34m)\u001b[0m\u001b[0;34m\u001b[0m\u001b[0;34m\u001b[0m\u001b[0m\n\u001b[0m\u001b[1;32m     74\u001b[0m     \u001b[0;32mreturn\u001b[0m \u001b[0minner_f\u001b[0m\u001b[0;34m\u001b[0m\u001b[0;34m\u001b[0m\u001b[0m\n\u001b[1;32m     75\u001b[0m \u001b[0;34m\u001b[0m\u001b[0m\n",
      "\u001b[0;32m~/opt/anaconda3/lib/python3.7/site-packages/sklearn/utils/validation.py\u001b[0m in \u001b[0;36mcolumn_or_1d\u001b[0;34m(y, warn)\u001b[0m\n\u001b[1;32m    846\u001b[0m     raise ValueError(\n\u001b[1;32m    847\u001b[0m         \u001b[0;34m\"y should be a 1d array, \"\u001b[0m\u001b[0;34m\u001b[0m\u001b[0;34m\u001b[0m\u001b[0m\n\u001b[0;32m--> 848\u001b[0;31m         \"got an array of shape {} instead.\".format(shape))\n\u001b[0m\u001b[1;32m    849\u001b[0m \u001b[0;34m\u001b[0m\u001b[0m\n\u001b[1;32m    850\u001b[0m \u001b[0;34m\u001b[0m\u001b[0m\n",
      "\u001b[0;31mValueError\u001b[0m: y should be a 1d array, got an array of shape (95916, 6) instead."
     ]
    }
   ],
   "source": [
    "\n",
    "# https://scikit-learn.org/stable/modules/generated/sklearn.ensemble.GradientBoostingClassifier.html\n",
    "\n",
    "from sklearn.ensemble import GradientBoostingClassifier\n",
    "\n",
    "gbrt = GradientBoostingClassifier(n_estimators=100, random_state=0)\n",
    "gbrt.fit(X_train, y_train)\n",
    "\n",
    "print(\"Accuracy on training set: {:.3f}\".format(gbrt.score(X_train, y_train)))\n",
    "print(\"Accuracy on test set: {:.3f}\".format(gbrt.score(X_test, y_test)))"
   ]
  },
  {
   "cell_type": "code",
   "execution_count": null,
   "metadata": {},
   "outputs": [],
   "source": []
  }
 ],
 "metadata": {
  "kernelspec": {
   "display_name": "Python 3",
   "language": "python",
   "name": "python3"
  },
  "language_info": {
   "codemirror_mode": {
    "name": "ipython",
    "version": 3
   },
   "file_extension": ".py",
   "mimetype": "text/x-python",
   "name": "python",
   "nbconvert_exporter": "python",
   "pygments_lexer": "ipython3",
   "version": "3.7.4"
  }
 },
 "nbformat": 4,
 "nbformat_minor": 2
}
