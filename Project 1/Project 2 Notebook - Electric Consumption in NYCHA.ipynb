{
 "cells": [
  {
   "cell_type": "markdown",
   "metadata": {},
   "source": [
    "# Electric Consumption and Cost\n",
    "\n",
    "Data is retrieved from [NYC Open Data](https://data.cityofnewyork.us/Housing-Development/Electric-Consumption-And-Cost-2010-April-2020-/jr24-e7cr).\n",
    "\n",
    "This project is divided into the following:\n",
    "* Data Preparation\n",
    "* Testing & Training\n",
    "* Target Variable\n",
    "* Algorithm 1 - k-Nearest Neighbors\n",
    "* Algorithm 1 - Parameters\n",
    "* Algorithm 2 - Decision Trees\n",
    "* Algorithm 2 - Parameters"
   ]
  },
  {
   "cell_type": "markdown",
   "metadata": {},
   "source": [
    "# Data Preparation"
   ]
  },
  {
   "cell_type": "code",
   "execution_count": 1,
   "metadata": {},
   "outputs": [],
   "source": [
    "import numpy as np\n",
    "import pandas as pd\n",
    "import matplotlib.pyplot as plt \n",
    "from pandas.plotting import scatter_matrix\n",
    "import mglearn\n",
    "\n",
    "import warnings\n",
    "warnings.filterwarnings('ignore')"
   ]
  },
  {
   "cell_type": "code",
   "execution_count": 2,
   "metadata": {},
   "outputs": [],
   "source": [
    "ec = pd.read_csv(\"/Users/sheryl/GitHub/data71200su21/Project 1/dataset/electric-consumption.csv\",  \n",
    "                                   low_memory=False)"
   ]
  },
  {
   "cell_type": "code",
   "execution_count": 14,
   "metadata": {
    "scrolled": true
   },
   "outputs": [
    {
     "data": {
      "text/html": [
       "<div>\n",
       "<style scoped>\n",
       "    .dataframe tbody tr th:only-of-type {\n",
       "        vertical-align: middle;\n",
       "    }\n",
       "\n",
       "    .dataframe tbody tr th {\n",
       "        vertical-align: top;\n",
       "    }\n",
       "\n",
       "    .dataframe thead th {\n",
       "        text-align: right;\n",
       "    }\n",
       "</style>\n",
       "<table border=\"1\" class=\"dataframe\">\n",
       "  <thead>\n",
       "    <tr style=\"text-align: right;\">\n",
       "      <th></th>\n",
       "      <th>Development Name</th>\n",
       "      <th>Borough</th>\n",
       "      <th>Account Name</th>\n",
       "      <th>Location</th>\n",
       "      <th>Meter AMR</th>\n",
       "      <th>Meter Scope</th>\n",
       "      <th>TDS #</th>\n",
       "      <th>EDP</th>\n",
       "      <th>RC Code</th>\n",
       "      <th>Funding Source</th>\n",
       "      <th>...</th>\n",
       "      <th>Meter Number</th>\n",
       "      <th>Estimated</th>\n",
       "      <th>Current Charges</th>\n",
       "      <th>Rate Class</th>\n",
       "      <th>Bill Analyzed</th>\n",
       "      <th>Consumption (KWH)</th>\n",
       "      <th>KWH Charges</th>\n",
       "      <th>Consumption (KW)</th>\n",
       "      <th>KW Charges</th>\n",
       "      <th>Other charges</th>\n",
       "    </tr>\n",
       "  </thead>\n",
       "  <tbody>\n",
       "    <tr>\n",
       "      <th>0</th>\n",
       "      <td>ADAMS</td>\n",
       "      <td>BRONX</td>\n",
       "      <td>ADAMS</td>\n",
       "      <td>BLD 05</td>\n",
       "      <td>NONE</td>\n",
       "      <td>BLD 01 to 07</td>\n",
       "      <td>118.0</td>\n",
       "      <td>248</td>\n",
       "      <td>B011800</td>\n",
       "      <td>FEDERAL</td>\n",
       "      <td>...</td>\n",
       "      <td>7223256</td>\n",
       "      <td>N</td>\n",
       "      <td>15396.82</td>\n",
       "      <td>GOV/NYC/068</td>\n",
       "      <td>Yes</td>\n",
       "      <td>128800</td>\n",
       "      <td>7387.97</td>\n",
       "      <td>216.00</td>\n",
       "      <td>2808.00</td>\n",
       "      <td>5200.85</td>\n",
       "    </tr>\n",
       "    <tr>\n",
       "      <th>1</th>\n",
       "      <td>ADAMS</td>\n",
       "      <td>BRONX</td>\n",
       "      <td>ADAMS</td>\n",
       "      <td>BLD 05</td>\n",
       "      <td>NONE</td>\n",
       "      <td>BLD 01 to 07</td>\n",
       "      <td>118.0</td>\n",
       "      <td>248</td>\n",
       "      <td>B011800</td>\n",
       "      <td>FEDERAL</td>\n",
       "      <td>...</td>\n",
       "      <td>7223256</td>\n",
       "      <td>N</td>\n",
       "      <td>14556.34</td>\n",
       "      <td>GOV/NYC/068</td>\n",
       "      <td>Yes</td>\n",
       "      <td>115200</td>\n",
       "      <td>6607.87</td>\n",
       "      <td>224.00</td>\n",
       "      <td>2912.00</td>\n",
       "      <td>5036.47</td>\n",
       "    </tr>\n",
       "    <tr>\n",
       "      <th>2</th>\n",
       "      <td>ADAMS</td>\n",
       "      <td>BRONX</td>\n",
       "      <td>ADAMS</td>\n",
       "      <td>BLD 05</td>\n",
       "      <td>NONE</td>\n",
       "      <td>BLD 01 to 07</td>\n",
       "      <td>118.0</td>\n",
       "      <td>248</td>\n",
       "      <td>B011800</td>\n",
       "      <td>FEDERAL</td>\n",
       "      <td>...</td>\n",
       "      <td>7223256</td>\n",
       "      <td>N</td>\n",
       "      <td>13904.98</td>\n",
       "      <td>GOV/NYC/068</td>\n",
       "      <td>Yes</td>\n",
       "      <td>103200</td>\n",
       "      <td>5919.55</td>\n",
       "      <td>216.00</td>\n",
       "      <td>2808.00</td>\n",
       "      <td>5177.43</td>\n",
       "    </tr>\n",
       "    <tr>\n",
       "      <th>3</th>\n",
       "      <td>ADAMS</td>\n",
       "      <td>BRONX</td>\n",
       "      <td>ADAMS</td>\n",
       "      <td>BLD 05</td>\n",
       "      <td>NONE</td>\n",
       "      <td>BLD 01 to 07</td>\n",
       "      <td>118.0</td>\n",
       "      <td>248</td>\n",
       "      <td>B011800</td>\n",
       "      <td>FEDERAL</td>\n",
       "      <td>...</td>\n",
       "      <td>7223256</td>\n",
       "      <td>N</td>\n",
       "      <td>14764.04</td>\n",
       "      <td>GOV/NYC/068</td>\n",
       "      <td>Yes</td>\n",
       "      <td>105600</td>\n",
       "      <td>6057.22</td>\n",
       "      <td>208.00</td>\n",
       "      <td>2704.00</td>\n",
       "      <td>6002.82</td>\n",
       "    </tr>\n",
       "    <tr>\n",
       "      <th>4</th>\n",
       "      <td>ADAMS</td>\n",
       "      <td>BRONX</td>\n",
       "      <td>ADAMS</td>\n",
       "      <td>BLD 05</td>\n",
       "      <td>NONE</td>\n",
       "      <td>BLD 01 to 07</td>\n",
       "      <td>118.0</td>\n",
       "      <td>248</td>\n",
       "      <td>B011800</td>\n",
       "      <td>FEDERAL</td>\n",
       "      <td>...</td>\n",
       "      <td>7223256</td>\n",
       "      <td>N</td>\n",
       "      <td>13729.54</td>\n",
       "      <td>GOV/NYC/068</td>\n",
       "      <td>Yes</td>\n",
       "      <td>97600</td>\n",
       "      <td>5598.34</td>\n",
       "      <td>216.00</td>\n",
       "      <td>2808.00</td>\n",
       "      <td>5323.20</td>\n",
       "    </tr>\n",
       "    <tr>\n",
       "      <th>...</th>\n",
       "      <td>...</td>\n",
       "      <td>...</td>\n",
       "      <td>...</td>\n",
       "      <td>...</td>\n",
       "      <td>...</td>\n",
       "      <td>...</td>\n",
       "      <td>...</td>\n",
       "      <td>...</td>\n",
       "      <td>...</td>\n",
       "      <td>...</td>\n",
       "      <td>...</td>\n",
       "      <td>...</td>\n",
       "      <td>...</td>\n",
       "      <td>...</td>\n",
       "      <td>...</td>\n",
       "      <td>...</td>\n",
       "      <td>...</td>\n",
       "      <td>...</td>\n",
       "      <td>...</td>\n",
       "      <td>...</td>\n",
       "      <td>...</td>\n",
       "    </tr>\n",
       "    <tr>\n",
       "      <th>301312</th>\n",
       "      <td>WYCKOFF GARDENS</td>\n",
       "      <td>BROOKLYN</td>\n",
       "      <td>WYCKOFF GARDENS</td>\n",
       "      <td>BLD 02</td>\n",
       "      <td>INTERVAL</td>\n",
       "      <td>NaN</td>\n",
       "      <td>163.0</td>\n",
       "      <td>272</td>\n",
       "      <td>K016300</td>\n",
       "      <td>FEDERAL</td>\n",
       "      <td>...</td>\n",
       "      <td>1096666</td>\n",
       "      <td>N</td>\n",
       "      <td>1287.71</td>\n",
       "      <td>GOV/NYC/068</td>\n",
       "      <td>Yes</td>\n",
       "      <td>0</td>\n",
       "      <td>0.00</td>\n",
       "      <td>116.16</td>\n",
       "      <td>1160.44</td>\n",
       "      <td>127.27</td>\n",
       "    </tr>\n",
       "    <tr>\n",
       "      <th>301313</th>\n",
       "      <td>WYCKOFF GARDENS</td>\n",
       "      <td>BROOKLYN</td>\n",
       "      <td>WYCKOFF GARDENS</td>\n",
       "      <td>BLD 03</td>\n",
       "      <td>INTERVAL</td>\n",
       "      <td>NaN</td>\n",
       "      <td>163.0</td>\n",
       "      <td>272</td>\n",
       "      <td>K016300</td>\n",
       "      <td>FEDERAL</td>\n",
       "      <td>...</td>\n",
       "      <td>1096667</td>\n",
       "      <td>N</td>\n",
       "      <td>1705.42</td>\n",
       "      <td>GOV/NYC/068</td>\n",
       "      <td>Yes</td>\n",
       "      <td>0</td>\n",
       "      <td>0.00</td>\n",
       "      <td>153.84</td>\n",
       "      <td>1536.86</td>\n",
       "      <td>168.56</td>\n",
       "    </tr>\n",
       "    <tr>\n",
       "      <th>301314</th>\n",
       "      <td>WYCKOFF GARDENS</td>\n",
       "      <td>BROOKLYN</td>\n",
       "      <td>WYCKOFF GARDENS</td>\n",
       "      <td>BLD 03</td>\n",
       "      <td>AMR</td>\n",
       "      <td>NaN</td>\n",
       "      <td>163.0</td>\n",
       "      <td>272</td>\n",
       "      <td>K016300</td>\n",
       "      <td>FEDERAL</td>\n",
       "      <td>...</td>\n",
       "      <td>8096664</td>\n",
       "      <td>N</td>\n",
       "      <td>3782.25</td>\n",
       "      <td>GOV/NYC/068</td>\n",
       "      <td>Yes</td>\n",
       "      <td>101200</td>\n",
       "      <td>3408.42</td>\n",
       "      <td>0.00</td>\n",
       "      <td>0.00</td>\n",
       "      <td>373.83</td>\n",
       "    </tr>\n",
       "    <tr>\n",
       "      <th>301315</th>\n",
       "      <td>WYCKOFF GARDENS</td>\n",
       "      <td>BROOKLYN</td>\n",
       "      <td>WYCKOFF GARDENS</td>\n",
       "      <td>BLD 02</td>\n",
       "      <td>AMR</td>\n",
       "      <td>NaN</td>\n",
       "      <td>163.0</td>\n",
       "      <td>272</td>\n",
       "      <td>K016300</td>\n",
       "      <td>FEDERAL</td>\n",
       "      <td>...</td>\n",
       "      <td>8096666</td>\n",
       "      <td>N</td>\n",
       "      <td>2541.43</td>\n",
       "      <td>GOV/NYC/068</td>\n",
       "      <td>Yes</td>\n",
       "      <td>68000</td>\n",
       "      <td>2290.24</td>\n",
       "      <td>0.00</td>\n",
       "      <td>0.00</td>\n",
       "      <td>251.19</td>\n",
       "    </tr>\n",
       "    <tr>\n",
       "      <th>301316</th>\n",
       "      <td>WYCKOFF GARDENS</td>\n",
       "      <td>BROOKLYN</td>\n",
       "      <td>WYCKOFF GARDENS</td>\n",
       "      <td>BLD 03</td>\n",
       "      <td>AMR</td>\n",
       "      <td>NaN</td>\n",
       "      <td>163.0</td>\n",
       "      <td>272</td>\n",
       "      <td>K016300</td>\n",
       "      <td>FEDERAL</td>\n",
       "      <td>...</td>\n",
       "      <td>8096667</td>\n",
       "      <td>N</td>\n",
       "      <td>2967.49</td>\n",
       "      <td>GOV/NYC/068</td>\n",
       "      <td>Yes</td>\n",
       "      <td>79400</td>\n",
       "      <td>2674.19</td>\n",
       "      <td>0.00</td>\n",
       "      <td>0.00</td>\n",
       "      <td>293.30</td>\n",
       "    </tr>\n",
       "  </tbody>\n",
       "</table>\n",
       "<p>301317 rows × 27 columns</p>\n",
       "</div>"
      ],
      "text/plain": [
       "       Development Name   Borough     Account Name Location Meter AMR  \\\n",
       "0                 ADAMS     BRONX            ADAMS   BLD 05      NONE   \n",
       "1                 ADAMS     BRONX            ADAMS   BLD 05      NONE   \n",
       "2                 ADAMS     BRONX            ADAMS   BLD 05      NONE   \n",
       "3                 ADAMS     BRONX            ADAMS   BLD 05      NONE   \n",
       "4                 ADAMS     BRONX            ADAMS   BLD 05      NONE   \n",
       "...                 ...       ...              ...      ...       ...   \n",
       "301312  WYCKOFF GARDENS  BROOKLYN  WYCKOFF GARDENS   BLD 02  INTERVAL   \n",
       "301313  WYCKOFF GARDENS  BROOKLYN  WYCKOFF GARDENS   BLD 03  INTERVAL   \n",
       "301314  WYCKOFF GARDENS  BROOKLYN  WYCKOFF GARDENS   BLD 03       AMR   \n",
       "301315  WYCKOFF GARDENS  BROOKLYN  WYCKOFF GARDENS   BLD 02       AMR   \n",
       "301316  WYCKOFF GARDENS  BROOKLYN  WYCKOFF GARDENS   BLD 03       AMR   \n",
       "\n",
       "         Meter Scope  TDS #  EDP  RC Code Funding Source  ... Meter Number  \\\n",
       "0       BLD 01 to 07  118.0  248  B011800        FEDERAL  ...      7223256   \n",
       "1       BLD 01 to 07  118.0  248  B011800        FEDERAL  ...      7223256   \n",
       "2       BLD 01 to 07  118.0  248  B011800        FEDERAL  ...      7223256   \n",
       "3       BLD 01 to 07  118.0  248  B011800        FEDERAL  ...      7223256   \n",
       "4       BLD 01 to 07  118.0  248  B011800        FEDERAL  ...      7223256   \n",
       "...              ...    ...  ...      ...            ...  ...          ...   \n",
       "301312           NaN  163.0  272  K016300        FEDERAL  ...      1096666   \n",
       "301313           NaN  163.0  272  K016300        FEDERAL  ...      1096667   \n",
       "301314           NaN  163.0  272  K016300        FEDERAL  ...      8096664   \n",
       "301315           NaN  163.0  272  K016300        FEDERAL  ...      8096666   \n",
       "301316           NaN  163.0  272  K016300        FEDERAL  ...      8096667   \n",
       "\n",
       "       Estimated  Current Charges   Rate Class Bill Analyzed  \\\n",
       "0              N         15396.82  GOV/NYC/068           Yes   \n",
       "1              N         14556.34  GOV/NYC/068           Yes   \n",
       "2              N         13904.98  GOV/NYC/068           Yes   \n",
       "3              N         14764.04  GOV/NYC/068           Yes   \n",
       "4              N         13729.54  GOV/NYC/068           Yes   \n",
       "...          ...              ...          ...           ...   \n",
       "301312         N          1287.71  GOV/NYC/068           Yes   \n",
       "301313         N          1705.42  GOV/NYC/068           Yes   \n",
       "301314         N          3782.25  GOV/NYC/068           Yes   \n",
       "301315         N          2541.43  GOV/NYC/068           Yes   \n",
       "301316         N          2967.49  GOV/NYC/068           Yes   \n",
       "\n",
       "       Consumption (KWH)  KWH Charges Consumption (KW) KW Charges  \\\n",
       "0                 128800      7387.97           216.00    2808.00   \n",
       "1                 115200      6607.87           224.00    2912.00   \n",
       "2                 103200      5919.55           216.00    2808.00   \n",
       "3                 105600      6057.22           208.00    2704.00   \n",
       "4                  97600      5598.34           216.00    2808.00   \n",
       "...                  ...          ...              ...        ...   \n",
       "301312                 0         0.00           116.16    1160.44   \n",
       "301313                 0         0.00           153.84    1536.86   \n",
       "301314            101200      3408.42             0.00       0.00   \n",
       "301315             68000      2290.24             0.00       0.00   \n",
       "301316             79400      2674.19             0.00       0.00   \n",
       "\n",
       "        Other charges  \n",
       "0             5200.85  \n",
       "1             5036.47  \n",
       "2             5177.43  \n",
       "3             6002.82  \n",
       "4             5323.20  \n",
       "...               ...  \n",
       "301312         127.27  \n",
       "301313         168.56  \n",
       "301314         373.83  \n",
       "301315         251.19  \n",
       "301316         293.30  \n",
       "\n",
       "[301317 rows x 27 columns]"
      ]
     },
     "execution_count": 14,
     "metadata": {},
     "output_type": "execute_result"
    }
   ],
   "source": [
    "ec"
   ]
  },
  {
   "cell_type": "code",
   "execution_count": 15,
   "metadata": {},
   "outputs": [
    {
     "name": "stdout",
     "output_type": "stream",
     "text": [
      "<class 'pandas.core.frame.DataFrame'>\n",
      "RangeIndex: 301317 entries, 0 to 301316\n",
      "Data columns (total 27 columns):\n",
      " #   Column              Non-Null Count   Dtype  \n",
      "---  ------              --------------   -----  \n",
      " 0   Development Name    301193 non-null  object \n",
      " 1   Borough             301317 non-null  object \n",
      " 2   Account Name        301317 non-null  object \n",
      " 3   Location            293386 non-null  object \n",
      " 4   Meter AMR           301231 non-null  object \n",
      " 5   Meter Scope         15799 non-null   object \n",
      " 6   TDS #               299936 non-null  float64\n",
      " 7   EDP                 301317 non-null  int64  \n",
      " 8   RC Code             301317 non-null  object \n",
      " 9   Funding Source      301317 non-null  object \n",
      " 10  AMP #               299972 non-null  object \n",
      " 11  Vendor Name         301317 non-null  object \n",
      " 12  UMIS BILL ID        301317 non-null  int64  \n",
      " 13  Revenue Month       301317 non-null  object \n",
      " 14  Service Start Date  301314 non-null  object \n",
      " 15  Service End Date    301314 non-null  object \n",
      " 16  # days              301314 non-null  float64\n",
      " 17  Meter Number        301317 non-null  object \n",
      " 18  Estimated           300978 non-null  object \n",
      " 19  Current Charges     301317 non-null  float64\n",
      " 20  Rate Class          301317 non-null  object \n",
      " 21  Bill Analyzed       301317 non-null  object \n",
      " 22  Consumption (KWH)   301317 non-null  int64  \n",
      " 23  KWH Charges         301317 non-null  float64\n",
      " 24  Consumption (KW)    301317 non-null  float64\n",
      " 25  KW Charges          301317 non-null  float64\n",
      " 26  Other charges       301317 non-null  float64\n",
      "dtypes: float64(7), int64(3), object(17)\n",
      "memory usage: 62.1+ MB\n"
     ]
    }
   ],
   "source": [
    "ec.info()"
   ]
  },
  {
   "cell_type": "code",
   "execution_count": 16,
   "metadata": {},
   "outputs": [
    {
     "data": {
      "text/plain": [
       "<bound method hist_frame of        Development Name   Borough     Account Name Location Meter AMR  \\\n",
       "0                 ADAMS     BRONX            ADAMS   BLD 05      NONE   \n",
       "1                 ADAMS     BRONX            ADAMS   BLD 05      NONE   \n",
       "2                 ADAMS     BRONX            ADAMS   BLD 05      NONE   \n",
       "3                 ADAMS     BRONX            ADAMS   BLD 05      NONE   \n",
       "4                 ADAMS     BRONX            ADAMS   BLD 05      NONE   \n",
       "...                 ...       ...              ...      ...       ...   \n",
       "301312  WYCKOFF GARDENS  BROOKLYN  WYCKOFF GARDENS   BLD 02  INTERVAL   \n",
       "301313  WYCKOFF GARDENS  BROOKLYN  WYCKOFF GARDENS   BLD 03  INTERVAL   \n",
       "301314  WYCKOFF GARDENS  BROOKLYN  WYCKOFF GARDENS   BLD 03       AMR   \n",
       "301315  WYCKOFF GARDENS  BROOKLYN  WYCKOFF GARDENS   BLD 02       AMR   \n",
       "301316  WYCKOFF GARDENS  BROOKLYN  WYCKOFF GARDENS   BLD 03       AMR   \n",
       "\n",
       "         Meter Scope  TDS #  EDP  RC Code Funding Source  ... Meter Number  \\\n",
       "0       BLD 01 to 07  118.0  248  B011800        FEDERAL  ...      7223256   \n",
       "1       BLD 01 to 07  118.0  248  B011800        FEDERAL  ...      7223256   \n",
       "2       BLD 01 to 07  118.0  248  B011800        FEDERAL  ...      7223256   \n",
       "3       BLD 01 to 07  118.0  248  B011800        FEDERAL  ...      7223256   \n",
       "4       BLD 01 to 07  118.0  248  B011800        FEDERAL  ...      7223256   \n",
       "...              ...    ...  ...      ...            ...  ...          ...   \n",
       "301312           NaN  163.0  272  K016300        FEDERAL  ...      1096666   \n",
       "301313           NaN  163.0  272  K016300        FEDERAL  ...      1096667   \n",
       "301314           NaN  163.0  272  K016300        FEDERAL  ...      8096664   \n",
       "301315           NaN  163.0  272  K016300        FEDERAL  ...      8096666   \n",
       "301316           NaN  163.0  272  K016300        FEDERAL  ...      8096667   \n",
       "\n",
       "       Estimated  Current Charges   Rate Class Bill Analyzed  \\\n",
       "0              N         15396.82  GOV/NYC/068           Yes   \n",
       "1              N         14556.34  GOV/NYC/068           Yes   \n",
       "2              N         13904.98  GOV/NYC/068           Yes   \n",
       "3              N         14764.04  GOV/NYC/068           Yes   \n",
       "4              N         13729.54  GOV/NYC/068           Yes   \n",
       "...          ...              ...          ...           ...   \n",
       "301312         N          1287.71  GOV/NYC/068           Yes   \n",
       "301313         N          1705.42  GOV/NYC/068           Yes   \n",
       "301314         N          3782.25  GOV/NYC/068           Yes   \n",
       "301315         N          2541.43  GOV/NYC/068           Yes   \n",
       "301316         N          2967.49  GOV/NYC/068           Yes   \n",
       "\n",
       "       Consumption (KWH)  KWH Charges Consumption (KW) KW Charges  \\\n",
       "0                 128800      7387.97           216.00    2808.00   \n",
       "1                 115200      6607.87           224.00    2912.00   \n",
       "2                 103200      5919.55           216.00    2808.00   \n",
       "3                 105600      6057.22           208.00    2704.00   \n",
       "4                  97600      5598.34           216.00    2808.00   \n",
       "...                  ...          ...              ...        ...   \n",
       "301312                 0         0.00           116.16    1160.44   \n",
       "301313                 0         0.00           153.84    1536.86   \n",
       "301314            101200      3408.42             0.00       0.00   \n",
       "301315             68000      2290.24             0.00       0.00   \n",
       "301316             79400      2674.19             0.00       0.00   \n",
       "\n",
       "        Other charges  \n",
       "0             5200.85  \n",
       "1             5036.47  \n",
       "2             5177.43  \n",
       "3             6002.82  \n",
       "4             5323.20  \n",
       "...               ...  \n",
       "301312         127.27  \n",
       "301313         168.56  \n",
       "301314         373.83  \n",
       "301315         251.19  \n",
       "301316         293.30  \n",
       "\n",
       "[301317 rows x 27 columns]>"
      ]
     },
     "execution_count": 16,
     "metadata": {},
     "output_type": "execute_result"
    }
   ],
   "source": [
    "ec.hist"
   ]
  },
  {
   "cell_type": "code",
   "execution_count": 17,
   "metadata": {},
   "outputs": [
    {
     "name": "stdout",
     "output_type": "stream",
     "text": [
      "       Development Name   Borough     Account Name Location Meter AMR  \\\n",
      "0                 ADAMS     BRONX            ADAMS   BLD 05      NONE   \n",
      "1                 ADAMS     BRONX            ADAMS   BLD 05      NONE   \n",
      "2                 ADAMS     BRONX            ADAMS   BLD 05      NONE   \n",
      "3                 ADAMS     BRONX            ADAMS   BLD 05      NONE   \n",
      "4                 ADAMS     BRONX            ADAMS   BLD 05      NONE   \n",
      "...                 ...       ...              ...      ...       ...   \n",
      "301312  WYCKOFF GARDENS  BROOKLYN  WYCKOFF GARDENS   BLD 02  INTERVAL   \n",
      "301313  WYCKOFF GARDENS  BROOKLYN  WYCKOFF GARDENS   BLD 03  INTERVAL   \n",
      "301314  WYCKOFF GARDENS  BROOKLYN  WYCKOFF GARDENS   BLD 03       AMR   \n",
      "301315  WYCKOFF GARDENS  BROOKLYN  WYCKOFF GARDENS   BLD 02       AMR   \n",
      "301316  WYCKOFF GARDENS  BROOKLYN  WYCKOFF GARDENS   BLD 03       AMR   \n",
      "\n",
      "         Meter Scope  TDS #  EDP  RC Code Funding Source  ... Meter Number  \\\n",
      "0       BLD 01 to 07  118.0  248  B011800        FEDERAL  ...      7223256   \n",
      "1       BLD 01 to 07  118.0  248  B011800        FEDERAL  ...      7223256   \n",
      "2       BLD 01 to 07  118.0  248  B011800        FEDERAL  ...      7223256   \n",
      "3       BLD 01 to 07  118.0  248  B011800        FEDERAL  ...      7223256   \n",
      "4       BLD 01 to 07  118.0  248  B011800        FEDERAL  ...      7223256   \n",
      "...              ...    ...  ...      ...            ...  ...          ...   \n",
      "301312           NaN  163.0  272  K016300        FEDERAL  ...      1096666   \n",
      "301313           NaN  163.0  272  K016300        FEDERAL  ...      1096667   \n",
      "301314           NaN  163.0  272  K016300        FEDERAL  ...      8096664   \n",
      "301315           NaN  163.0  272  K016300        FEDERAL  ...      8096666   \n",
      "301316           NaN  163.0  272  K016300        FEDERAL  ...      8096667   \n",
      "\n",
      "       Estimated  Current Charges   Rate Class Bill Analyzed  \\\n",
      "0              N         15396.82  GOV/NYC/068           Yes   \n",
      "1              N         14556.34  GOV/NYC/068           Yes   \n",
      "2              N         13904.98  GOV/NYC/068           Yes   \n",
      "3              N         14764.04  GOV/NYC/068           Yes   \n",
      "4              N         13729.54  GOV/NYC/068           Yes   \n",
      "...          ...              ...          ...           ...   \n",
      "301312         N          1287.71  GOV/NYC/068           Yes   \n",
      "301313         N          1705.42  GOV/NYC/068           Yes   \n",
      "301314         N          3782.25  GOV/NYC/068           Yes   \n",
      "301315         N          2541.43  GOV/NYC/068           Yes   \n",
      "301316         N          2967.49  GOV/NYC/068           Yes   \n",
      "\n",
      "       Consumption (KWH)  KWH Charges Consumption (KW) KW Charges  \\\n",
      "0               128800.0      7387.97           216.00    2808.00   \n",
      "1               115200.0      6607.87           224.00    2912.00   \n",
      "2               103200.0      5919.55           216.00    2808.00   \n",
      "3               105600.0      6057.22           208.00    2704.00   \n",
      "4                97600.0      5598.34           216.00    2808.00   \n",
      "...                  ...          ...              ...        ...   \n",
      "301312               NaN          NaN           116.16    1160.44   \n",
      "301313               NaN          NaN           153.84    1536.86   \n",
      "301314          101200.0      3408.42              NaN        NaN   \n",
      "301315           68000.0      2290.24              NaN        NaN   \n",
      "301316           79400.0      2674.19              NaN        NaN   \n",
      "\n",
      "        Other charges  \n",
      "0             5200.85  \n",
      "1             5036.47  \n",
      "2             5177.43  \n",
      "3             6002.82  \n",
      "4             5323.20  \n",
      "...               ...  \n",
      "301312         127.27  \n",
      "301313         168.56  \n",
      "301314         373.83  \n",
      "301315         251.19  \n",
      "301316         293.30  \n",
      "\n",
      "[301317 rows x 27 columns]\n"
     ]
    }
   ],
   "source": [
    "ec_drop0 = ec[ec != 0]\n",
    "print(ec_drop0)"
   ]
  },
  {
   "cell_type": "code",
   "execution_count": 18,
   "metadata": {},
   "outputs": [
    {
     "name": "stdout",
     "output_type": "stream",
     "text": [
      "       Development Name   Borough     Account Name Location Meter AMR  \\\n",
      "0                 ADAMS     BRONX            ADAMS   BLD 05      NONE   \n",
      "1                 ADAMS     BRONX            ADAMS   BLD 05      NONE   \n",
      "2                 ADAMS     BRONX            ADAMS   BLD 05      NONE   \n",
      "3                 ADAMS     BRONX            ADAMS   BLD 05      NONE   \n",
      "4                 ADAMS     BRONX            ADAMS   BLD 05      NONE   \n",
      "...                 ...       ...              ...      ...       ...   \n",
      "301312  WYCKOFF GARDENS  BROOKLYN  WYCKOFF GARDENS   BLD 02  INTERVAL   \n",
      "301313  WYCKOFF GARDENS  BROOKLYN  WYCKOFF GARDENS   BLD 03  INTERVAL   \n",
      "301314  WYCKOFF GARDENS  BROOKLYN  WYCKOFF GARDENS   BLD 03       AMR   \n",
      "301315  WYCKOFF GARDENS  BROOKLYN  WYCKOFF GARDENS   BLD 02       AMR   \n",
      "301316  WYCKOFF GARDENS  BROOKLYN  WYCKOFF GARDENS   BLD 03       AMR   \n",
      "\n",
      "         Meter Scope  TDS #  EDP  RC Code Funding Source  ... Meter Number  \\\n",
      "0       BLD 01 to 07  118.0  248  B011800        FEDERAL  ...      7223256   \n",
      "1       BLD 01 to 07  118.0  248  B011800        FEDERAL  ...      7223256   \n",
      "2       BLD 01 to 07  118.0  248  B011800        FEDERAL  ...      7223256   \n",
      "3       BLD 01 to 07  118.0  248  B011800        FEDERAL  ...      7223256   \n",
      "4       BLD 01 to 07  118.0  248  B011800        FEDERAL  ...      7223256   \n",
      "...              ...    ...  ...      ...            ...  ...          ...   \n",
      "301312           NaN  163.0  272  K016300        FEDERAL  ...      1096666   \n",
      "301313           NaN  163.0  272  K016300        FEDERAL  ...      1096667   \n",
      "301314           NaN  163.0  272  K016300        FEDERAL  ...      8096664   \n",
      "301315           NaN  163.0  272  K016300        FEDERAL  ...      8096666   \n",
      "301316           NaN  163.0  272  K016300        FEDERAL  ...      8096667   \n",
      "\n",
      "       Estimated  Current Charges   Rate Class Bill Analyzed  \\\n",
      "0              N         15396.82  GOV/NYC/068           Yes   \n",
      "1              N         14556.34  GOV/NYC/068           Yes   \n",
      "2              N         13904.98  GOV/NYC/068           Yes   \n",
      "3              N         14764.04  GOV/NYC/068           Yes   \n",
      "4              N         13729.54  GOV/NYC/068           Yes   \n",
      "...          ...              ...          ...           ...   \n",
      "301312         N          1287.71  GOV/NYC/068           Yes   \n",
      "301313         N          1705.42  GOV/NYC/068           Yes   \n",
      "301314         N          3782.25  GOV/NYC/068           Yes   \n",
      "301315         N          2541.43  GOV/NYC/068           Yes   \n",
      "301316         N          2967.49  GOV/NYC/068           Yes   \n",
      "\n",
      "       Consumption (KWH)  KWH Charges Consumption (KW) KW Charges  \\\n",
      "0               128800.0      7387.97           216.00    2808.00   \n",
      "1               115200.0      6607.87           224.00    2912.00   \n",
      "2               103200.0      5919.55           216.00    2808.00   \n",
      "3               105600.0      6057.22           208.00    2704.00   \n",
      "4                97600.0      5598.34           216.00    2808.00   \n",
      "...                  ...          ...              ...        ...   \n",
      "301312               NaN          NaN           116.16    1160.44   \n",
      "301313               NaN          NaN           153.84    1536.86   \n",
      "301314          101200.0      3408.42              NaN        NaN   \n",
      "301315           68000.0      2290.24              NaN        NaN   \n",
      "301316           79400.0      2674.19              NaN        NaN   \n",
      "\n",
      "        Other charges  \n",
      "0             5200.85  \n",
      "1             5036.47  \n",
      "2             5177.43  \n",
      "3             6002.82  \n",
      "4             5323.20  \n",
      "...               ...  \n",
      "301312         127.27  \n",
      "301313         168.56  \n",
      "301314         373.83  \n",
      "301315         251.19  \n",
      "301316         293.30  \n",
      "\n",
      "[253749 rows x 27 columns]\n"
     ]
    }
   ],
   "source": [
    "ec_negative = ec_drop0[ec_drop0['Current Charges'] > 0]\n",
    "print(ec_negative)"
   ]
  },
  {
   "cell_type": "code",
   "execution_count": 19,
   "metadata": {},
   "outputs": [
    {
     "name": "stdout",
     "output_type": "stream",
     "text": [
      "         Borough  TDS #  EDP  # days  Current Charges  Consumption (KWH)  \\\n",
      "0          BRONX  118.0  248    33.0         15396.82           128800.0   \n",
      "1          BRONX  118.0  248    30.0         14556.34           115200.0   \n",
      "2          BRONX  118.0  248    29.0         13904.98           103200.0   \n",
      "3          BRONX  118.0  248    31.0         14764.04           105600.0   \n",
      "4          BRONX  118.0  248    28.0         13729.54            97600.0   \n",
      "...          ...    ...  ...     ...              ...                ...   \n",
      "301312  BROOKLYN  163.0  272    29.0          1287.71                NaN   \n",
      "301313  BROOKLYN  163.0  272    29.0          1705.42                NaN   \n",
      "301314  BROOKLYN  163.0  272    29.0          3782.25           101200.0   \n",
      "301315  BROOKLYN  163.0  272    29.0          2541.43            68000.0   \n",
      "301316  BROOKLYN  163.0  272    29.0          2967.49            79400.0   \n",
      "\n",
      "        KWH Charges  \n",
      "0           7387.97  \n",
      "1           6607.87  \n",
      "2           5919.55  \n",
      "3           6057.22  \n",
      "4           5598.34  \n",
      "...             ...  \n",
      "301312          NaN  \n",
      "301313          NaN  \n",
      "301314      3408.42  \n",
      "301315      2290.24  \n",
      "301316      2674.19  \n",
      "\n",
      "[253749 rows x 7 columns]\n"
     ]
    }
   ],
   "source": [
    "ec_dropcolumns = ec_negative.drop([\"UMIS BILL ID\", \"Consumption (KW)\", \"KW Charges\", \"Other charges\", \n",
    "                               \"Bill Analyzed\", \"Meter Number\", \"AMP #\", \"Account Name\", \"Service Start Date\",\n",
    "                              \"Service End Date\", \"RC Code\", \"Development Name\", \"Location\", \"Meter AMR\", \"Meter Scope\",\n",
    "                              \"Vendor Name\", \"Funding Source\", \"Rate Class\", \"Revenue Month\", \"Estimated\"], axis=1)\n",
    "print(ec_dropcolumns)"
   ]
  },
  {
   "cell_type": "code",
   "execution_count": 20,
   "metadata": {},
   "outputs": [
    {
     "name": "stdout",
     "output_type": "stream",
     "text": [
      "         Borough  TDS #  EDP  # days  Current Charges  Consumption (KWH)  \\\n",
      "0          BRONX  118.0  248    33.0         15396.82           128800.0   \n",
      "1          BRONX  118.0  248    30.0         14556.34           115200.0   \n",
      "2          BRONX  118.0  248    29.0         13904.98           103200.0   \n",
      "3          BRONX  118.0  248    31.0         14764.04           105600.0   \n",
      "4          BRONX  118.0  248    28.0         13729.54            97600.0   \n",
      "...          ...    ...  ...     ...              ...                ...   \n",
      "301309  BROOKLYN  163.0  272    29.0          5608.58            67600.0   \n",
      "301310  BROOKLYN  163.0  272    29.0          6438.24            77600.0   \n",
      "301314  BROOKLYN  163.0  272    29.0          3782.25           101200.0   \n",
      "301315  BROOKLYN  163.0  272    29.0          2541.43            68000.0   \n",
      "301316  BROOKLYN  163.0  272    29.0          2967.49            79400.0   \n",
      "\n",
      "        KWH Charges  \n",
      "0           7387.97  \n",
      "1           6607.87  \n",
      "2           5919.55  \n",
      "3           6057.22  \n",
      "4           5598.34  \n",
      "...             ...  \n",
      "301309      2276.77  \n",
      "301310      2613.57  \n",
      "301314      3408.42  \n",
      "301315      2290.24  \n",
      "301316      2674.19  \n",
      "\n",
      "[203155 rows x 7 columns]\n"
     ]
    }
   ],
   "source": [
    "ec_new = ec_dropcolumns.dropna()\n",
    "print(ec_new)"
   ]
  },
  {
   "cell_type": "code",
   "execution_count": 21,
   "metadata": {},
   "outputs": [],
   "source": [
    "#replace boroughs with numerical numbers\n",
    "#ec_final = ec_freq.replace({'BROOKLYN': 1, 'MANHATTAN': 4, 'BRONX': 2, 'QUEENS': 5, 'STATEN ISLAND': 6, 'FHA': 3})\n",
    "#print(ec_final)"
   ]
  },
  {
   "cell_type": "code",
   "execution_count": 22,
   "metadata": {},
   "outputs": [],
   "source": [
    "# Brooklyn - 1\n",
    "# Bronx - 2\n",
    "# FHA - 3\n",
    "# Manhattan - 4\n",
    "# Queens - 5\n",
    "# Staten Island - 6\n",
    "\n",
    "#ec_final['Borough'].value_counts()"
   ]
  },
  {
   "cell_type": "code",
   "execution_count": 23,
   "metadata": {},
   "outputs": [],
   "source": [
    "#ec_final.info()"
   ]
  },
  {
   "cell_type": "code",
   "execution_count": 24,
   "metadata": {},
   "outputs": [],
   "source": [
    "#ec_final.describe()"
   ]
  },
  {
   "cell_type": "code",
   "execution_count": 25,
   "metadata": {},
   "outputs": [
    {
     "name": "stdout",
     "output_type": "stream",
     "text": [
      "         Borough  TDS #  EDP  # days  Current Charges  Consumption (KWH)  \\\n",
      "0          BRONX  118.0  248    33.0         15396.82           128800.0   \n",
      "1          BRONX  118.0  248    30.0         14556.34           115200.0   \n",
      "2          BRONX  118.0  248    29.0         13904.98           103200.0   \n",
      "3          BRONX  118.0  248    31.0         14764.04           105600.0   \n",
      "4          BRONX  118.0  248    28.0         13729.54            97600.0   \n",
      "...          ...    ...  ...     ...              ...                ...   \n",
      "301309  BROOKLYN  163.0  272    29.0          5608.58            67600.0   \n",
      "301310  BROOKLYN  163.0  272    29.0          6438.24            77600.0   \n",
      "301314  BROOKLYN  163.0  272    29.0          3782.25           101200.0   \n",
      "301315  BROOKLYN  163.0  272    29.0          2541.43            68000.0   \n",
      "301316  BROOKLYN  163.0  272    29.0          2967.49            79400.0   \n",
      "\n",
      "        KWH Charges  \n",
      "0           7387.97  \n",
      "1           6607.87  \n",
      "2           5919.55  \n",
      "3           6057.22  \n",
      "4           5598.34  \n",
      "...             ...  \n",
      "301309      2276.77  \n",
      "301310      2613.57  \n",
      "301314      3408.42  \n",
      "301315      2290.24  \n",
      "301316      2674.19  \n",
      "\n",
      "[191832 rows x 7 columns]\n"
     ]
    }
   ],
   "source": [
    "#drop the frequencies of Consumption values less than 10\n",
    "counts = ec_new['Consumption (KWH)'].value_counts()\n",
    "ec_final = ec_new[~ec_new['Consumption (KWH)'].isin(counts[counts < 10].index)]\n",
    "print(ec_final)"
   ]
  },
  {
   "cell_type": "code",
   "execution_count": 26,
   "metadata": {},
   "outputs": [],
   "source": [
    "#Dropping the outlier rows with standard deviation\n",
    "factor = 100000\n",
    "upper_lim = ec_final['Consumption (KWH)'].mean () + ec_final[\"Consumption (KWH)\"].std () * factor\n",
    "lower_lim = ec_final[\"Consumption (KWH)\"].mean () - ec_final[\"Consumption (KWH)\"].std () * factor\n",
    "\n",
    "ec_final = ec_final[(ec_final[\"Consumption (KWH)\"] < upper_lim) & (ec_final[\"Consumption (KWH)\"] > lower_lim)]"
   ]
  },
  {
   "cell_type": "code",
   "execution_count": 27,
   "metadata": {},
   "outputs": [],
   "source": [
    "encoded_columns = pd.get_dummies(ec_final['Borough'])\n",
    "ec_final = ec_final.join(encoded_columns).drop('Borough', axis=1)"
   ]
  },
  {
   "cell_type": "code",
   "execution_count": 28,
   "metadata": {},
   "outputs": [
    {
     "data": {
      "text/plain": [
       "Consumption (KWH)    1.000000\n",
       "KWH Charges          0.960410\n",
       "Current Charges      0.935115\n",
       "STATEN ISLAND        0.129028\n",
       "MANHATTAN            0.103514\n",
       "BRONX                0.061376\n",
       "# days               0.035249\n",
       "QUEENS              -0.063045\n",
       "FHA                 -0.063104\n",
       "BROOKLYN            -0.119851\n",
       "EDP                 -0.263228\n",
       "TDS #               -0.283315\n",
       "Name: Consumption (KWH), dtype: float64"
      ]
     },
     "execution_count": 28,
     "metadata": {},
     "output_type": "execute_result"
    }
   ],
   "source": [
    "ec_corr_matrix = ec_final.corr()\n",
    "ec_corr_matrix['Consumption (KWH)'].sort_values(ascending=False)"
   ]
  },
  {
   "cell_type": "code",
   "execution_count": 29,
   "metadata": {
    "scrolled": false
   },
   "outputs": [
    {
     "data": {
      "text/html": [
       "<div>\n",
       "<style scoped>\n",
       "    .dataframe tbody tr th:only-of-type {\n",
       "        vertical-align: middle;\n",
       "    }\n",
       "\n",
       "    .dataframe tbody tr th {\n",
       "        vertical-align: top;\n",
       "    }\n",
       "\n",
       "    .dataframe thead th {\n",
       "        text-align: right;\n",
       "    }\n",
       "</style>\n",
       "<table border=\"1\" class=\"dataframe\">\n",
       "  <thead>\n",
       "    <tr style=\"text-align: right;\">\n",
       "      <th></th>\n",
       "      <th>TDS #</th>\n",
       "      <th>EDP</th>\n",
       "      <th># days</th>\n",
       "      <th>Current Charges</th>\n",
       "      <th>Consumption (KWH)</th>\n",
       "      <th>KWH Charges</th>\n",
       "      <th>BRONX</th>\n",
       "      <th>BROOKLYN</th>\n",
       "      <th>FHA</th>\n",
       "      <th>MANHATTAN</th>\n",
       "      <th>QUEENS</th>\n",
       "      <th>STATEN ISLAND</th>\n",
       "    </tr>\n",
       "  </thead>\n",
       "  <tbody>\n",
       "    <tr>\n",
       "      <th>count</th>\n",
       "      <td>191832.000000</td>\n",
       "      <td>191832.000000</td>\n",
       "      <td>191832.000000</td>\n",
       "      <td>191832.000000</td>\n",
       "      <td>191832.000000</td>\n",
       "      <td>191832.000000</td>\n",
       "      <td>191832.000000</td>\n",
       "      <td>191832.000000</td>\n",
       "      <td>191832.000000</td>\n",
       "      <td>191832.000000</td>\n",
       "      <td>191832.000000</td>\n",
       "      <td>191832.000000</td>\n",
       "    </tr>\n",
       "    <tr>\n",
       "      <th>mean</th>\n",
       "      <td>139.873040</td>\n",
       "      <td>434.805564</td>\n",
       "      <td>30.359877</td>\n",
       "      <td>5403.773708</td>\n",
       "      <td>44229.928886</td>\n",
       "      <td>2145.255926</td>\n",
       "      <td>0.231494</td>\n",
       "      <td>0.401836</td>\n",
       "      <td>0.003446</td>\n",
       "      <td>0.255380</td>\n",
       "      <td>0.101245</td>\n",
       "      <td>0.006600</td>\n",
       "    </tr>\n",
       "    <tr>\n",
       "      <th>std</th>\n",
       "      <td>135.844479</td>\n",
       "      <td>185.868879</td>\n",
       "      <td>1.644027</td>\n",
       "      <td>5206.873244</td>\n",
       "      <td>41029.105579</td>\n",
       "      <td>2082.219438</td>\n",
       "      <td>0.421789</td>\n",
       "      <td>0.490270</td>\n",
       "      <td>0.058599</td>\n",
       "      <td>0.436076</td>\n",
       "      <td>0.301653</td>\n",
       "      <td>0.080969</td>\n",
       "    </tr>\n",
       "    <tr>\n",
       "      <th>min</th>\n",
       "      <td>1.000000</td>\n",
       "      <td>200.000000</td>\n",
       "      <td>1.000000</td>\n",
       "      <td>0.310000</td>\n",
       "      <td>1.000000</td>\n",
       "      <td>0.050000</td>\n",
       "      <td>0.000000</td>\n",
       "      <td>0.000000</td>\n",
       "      <td>0.000000</td>\n",
       "      <td>0.000000</td>\n",
       "      <td>0.000000</td>\n",
       "      <td>0.000000</td>\n",
       "    </tr>\n",
       "    <tr>\n",
       "      <th>25%</th>\n",
       "      <td>39.000000</td>\n",
       "      <td>237.000000</td>\n",
       "      <td>29.000000</td>\n",
       "      <td>1668.205000</td>\n",
       "      <td>15480.000000</td>\n",
       "      <td>709.180000</td>\n",
       "      <td>0.000000</td>\n",
       "      <td>0.000000</td>\n",
       "      <td>0.000000</td>\n",
       "      <td>0.000000</td>\n",
       "      <td>0.000000</td>\n",
       "      <td>0.000000</td>\n",
       "    </tr>\n",
       "    <tr>\n",
       "      <th>50%</th>\n",
       "      <td>74.000000</td>\n",
       "      <td>429.000000</td>\n",
       "      <td>30.000000</td>\n",
       "      <td>4146.890000</td>\n",
       "      <td>35280.000000</td>\n",
       "      <td>1672.700000</td>\n",
       "      <td>0.000000</td>\n",
       "      <td>0.000000</td>\n",
       "      <td>0.000000</td>\n",
       "      <td>0.000000</td>\n",
       "      <td>0.000000</td>\n",
       "      <td>0.000000</td>\n",
       "    </tr>\n",
       "    <tr>\n",
       "      <th>75%</th>\n",
       "      <td>240.000000</td>\n",
       "      <td>566.000000</td>\n",
       "      <td>31.000000</td>\n",
       "      <td>7402.150000</td>\n",
       "      <td>61200.000000</td>\n",
       "      <td>2926.590000</td>\n",
       "      <td>0.000000</td>\n",
       "      <td>1.000000</td>\n",
       "      <td>0.000000</td>\n",
       "      <td>1.000000</td>\n",
       "      <td>0.000000</td>\n",
       "      <td>0.000000</td>\n",
       "    </tr>\n",
       "    <tr>\n",
       "      <th>max</th>\n",
       "      <td>582.000000</td>\n",
       "      <td>871.000000</td>\n",
       "      <td>152.000000</td>\n",
       "      <td>81084.020000</td>\n",
       "      <td>345600.000000</td>\n",
       "      <td>38313.270000</td>\n",
       "      <td>1.000000</td>\n",
       "      <td>1.000000</td>\n",
       "      <td>1.000000</td>\n",
       "      <td>1.000000</td>\n",
       "      <td>1.000000</td>\n",
       "      <td>1.000000</td>\n",
       "    </tr>\n",
       "  </tbody>\n",
       "</table>\n",
       "</div>"
      ],
      "text/plain": [
       "               TDS #            EDP         # days  Current Charges  \\\n",
       "count  191832.000000  191832.000000  191832.000000    191832.000000   \n",
       "mean      139.873040     434.805564      30.359877      5403.773708   \n",
       "std       135.844479     185.868879       1.644027      5206.873244   \n",
       "min         1.000000     200.000000       1.000000         0.310000   \n",
       "25%        39.000000     237.000000      29.000000      1668.205000   \n",
       "50%        74.000000     429.000000      30.000000      4146.890000   \n",
       "75%       240.000000     566.000000      31.000000      7402.150000   \n",
       "max       582.000000     871.000000     152.000000     81084.020000   \n",
       "\n",
       "       Consumption (KWH)    KWH Charges          BRONX       BROOKLYN  \\\n",
       "count      191832.000000  191832.000000  191832.000000  191832.000000   \n",
       "mean        44229.928886    2145.255926       0.231494       0.401836   \n",
       "std         41029.105579    2082.219438       0.421789       0.490270   \n",
       "min             1.000000       0.050000       0.000000       0.000000   \n",
       "25%         15480.000000     709.180000       0.000000       0.000000   \n",
       "50%         35280.000000    1672.700000       0.000000       0.000000   \n",
       "75%         61200.000000    2926.590000       0.000000       1.000000   \n",
       "max        345600.000000   38313.270000       1.000000       1.000000   \n",
       "\n",
       "                 FHA      MANHATTAN         QUEENS  STATEN ISLAND  \n",
       "count  191832.000000  191832.000000  191832.000000  191832.000000  \n",
       "mean        0.003446       0.255380       0.101245       0.006600  \n",
       "std         0.058599       0.436076       0.301653       0.080969  \n",
       "min         0.000000       0.000000       0.000000       0.000000  \n",
       "25%         0.000000       0.000000       0.000000       0.000000  \n",
       "50%         0.000000       0.000000       0.000000       0.000000  \n",
       "75%         0.000000       1.000000       0.000000       0.000000  \n",
       "max         1.000000       1.000000       1.000000       1.000000  "
      ]
     },
     "execution_count": 29,
     "metadata": {},
     "output_type": "execute_result"
    }
   ],
   "source": [
    "ec_final.describe()"
   ]
  },
  {
   "cell_type": "markdown",
   "metadata": {},
   "source": [
    "# Training Set, Test Set, & Target Attribute"
   ]
  },
  {
   "cell_type": "code",
   "execution_count": 30,
   "metadata": {},
   "outputs": [],
   "source": [
    "#data = pd.DataFrame({'value':[2,45, -23, 85, 28, 2, 35, -12]})\n",
    "ec_final['log+1'] = (ec_final['Consumption (KWH)']+1).transform(np.log)\n",
    "#Negative Values Handling\n",
    "#Note that the values are different\n",
    "ec_final['log'] = (ec_final['Consumption (KWH)']-ec_final['Consumption (KWH)'].min()+1) .transform(np.log)"
   ]
  },
  {
   "cell_type": "code",
   "execution_count": 31,
   "metadata": {
    "scrolled": true
   },
   "outputs": [
    {
     "name": "stdout",
     "output_type": "stream",
     "text": [
      "        Current Charges  Consumption (KWH)  KWH Charges      log+1        log\n",
      "0              15396.82           128800.0      7387.97  11.766024  11.766016\n",
      "1              14556.34           115200.0      6607.87  11.654434  11.654425\n",
      "2              13904.98           103200.0      5919.55  11.544434  11.544424\n",
      "3              14764.04           105600.0      6057.22  11.567423  11.567414\n",
      "4              13729.54            97600.0      5598.34  11.488643  11.488633\n",
      "...                 ...                ...          ...        ...        ...\n",
      "301309          5608.58            67600.0      2276.77  11.121378  11.121363\n",
      "301310          6438.24            77600.0      2613.57  11.259336  11.259323\n",
      "301314          3782.25           101200.0      3408.42  11.524864  11.524854\n",
      "301315          2541.43            68000.0      2290.24  11.127278  11.127263\n",
      "301316          2967.49            79400.0      2674.19  11.282266  11.282254\n",
      "\n",
      "[191832 rows x 5 columns]\n"
     ]
    }
   ],
   "source": [
    "X = ec_final.drop([\"TDS #\", \"EDP\", \"# days\", \"BRONX\",  \"BROOKLYN\",  \"FHA\",  \"MANHATTAN\",  \"QUEENS\", \"STATEN ISLAND\"],axis=1)\n",
    "print(X)"
   ]
  },
  {
   "cell_type": "code",
   "execution_count": 32,
   "metadata": {},
   "outputs": [
    {
     "name": "stdout",
     "output_type": "stream",
     "text": [
      "        BRONX  BROOKLYN  FHA  MANHATTAN  QUEENS  STATEN ISLAND\n",
      "0           1         0    0          0       0              0\n",
      "1           1         0    0          0       0              0\n",
      "2           1         0    0          0       0              0\n",
      "3           1         0    0          0       0              0\n",
      "4           1         0    0          0       0              0\n",
      "...       ...       ...  ...        ...     ...            ...\n",
      "301309      0         1    0          0       0              0\n",
      "301310      0         1    0          0       0              0\n",
      "301314      0         1    0          0       0              0\n",
      "301315      0         1    0          0       0              0\n",
      "301316      0         1    0          0       0              0\n",
      "\n",
      "[191832 rows x 6 columns]\n"
     ]
    }
   ],
   "source": [
    "y = ec_final[[\"BRONX\",  \"BROOKLYN\",  \"FHA\",  \"MANHATTAN\",  \"QUEENS\", \"STATEN ISLAND\"]]\n",
    "print(y)"
   ]
  },
  {
   "cell_type": "code",
   "execution_count": 33,
   "metadata": {},
   "outputs": [],
   "source": [
    "from sklearn.model_selection import train_test_split\n",
    "\n",
    "X_train, X_test, y_train, y_test = train_test_split(X, y, test_size=0.5)"
   ]
  },
  {
   "cell_type": "code",
   "execution_count": 34,
   "metadata": {},
   "outputs": [
    {
     "name": "stdout",
     "output_type": "stream",
     "text": [
      "Shape of original Electric Consumption dataset : (191832, 14)\n",
      "Shape of X training set : (95916, 5)\n",
      "Shape of y training set : (95916, 6)\n",
      "Shape of X testing set : (95916, 5)\n",
      "Shape of y testing set : (95916, 6)\n"
     ]
    }
   ],
   "source": [
    "print(\"Shape of original Electric Consumption dataset :\", ec_final.shape)\n",
    "print(\"Shape of X training set :\", X_train.shape)\n",
    "print(\"Shape of y training set :\", y_train.shape)\n",
    "print(\"Shape of X testing set :\", X_test.shape)\n",
    "print(\"Shape of y testing set :\", y_test.shape)"
   ]
  },
  {
   "cell_type": "code",
   "execution_count": 35,
   "metadata": {
    "scrolled": true
   },
   "outputs": [
    {
     "data": {
      "text/plain": [
       "array([[<matplotlib.axes._subplots.AxesSubplot object at 0x7fa29abe0850>,\n",
       "        <matplotlib.axes._subplots.AxesSubplot object at 0x7fa29ac32ed0>,\n",
       "        <matplotlib.axes._subplots.AxesSubplot object at 0x7fa29b0d3590>],\n",
       "       [<matplotlib.axes._subplots.AxesSubplot object at 0x7fa29b103c10>,\n",
       "        <matplotlib.axes._subplots.AxesSubplot object at 0x7fa29b20f2d0>,\n",
       "        <matplotlib.axes._subplots.AxesSubplot object at 0x7fa29b3bf950>],\n",
       "       [<matplotlib.axes._subplots.AxesSubplot object at 0x7fa29e787b10>,\n",
       "        <matplotlib.axes._subplots.AxesSubplot object at 0x7fa29ecfb650>,\n",
       "        <matplotlib.axes._subplots.AxesSubplot object at 0x7fa29ecfb690>]],\n",
       "      dtype=object)"
      ]
     },
     "execution_count": 35,
     "metadata": {},
     "output_type": "execute_result"
    },
    {
     "data": {
      "image/png": "[encoded data removed]",
      "text/plain": [
       "<Figure size 864x576 with 9 Axes>"
      ]
     },
     "metadata": {
      "needs_background": "light"
     },
     "output_type": "display_data"
    }
   ],
   "source": [
    "attributes = [\"Current Charges\", \"Consumption (KWH)\", \"KWH Charges\"]\n",
    "scatter_matrix(ec_final[attributes], figsize=(12, 8))"
   ]
  },
  {
   "cell_type": "code",
   "execution_count": 36,
   "metadata": {},
   "outputs": [
    {
     "data": {
      "text/html": [
       "<div>\n",
       "<style scoped>\n",
       "    .dataframe tbody tr th:only-of-type {\n",
       "        vertical-align: middle;\n",
       "    }\n",
       "\n",
       "    .dataframe tbody tr th {\n",
       "        vertical-align: top;\n",
       "    }\n",
       "\n",
       "    .dataframe thead th {\n",
       "        text-align: right;\n",
       "    }\n",
       "</style>\n",
       "<table border=\"1\" class=\"dataframe\">\n",
       "  <thead>\n",
       "    <tr style=\"text-align: right;\">\n",
       "      <th></th>\n",
       "      <th>TDS #</th>\n",
       "      <th>EDP</th>\n",
       "      <th># days</th>\n",
       "      <th>Current Charges</th>\n",
       "      <th>Consumption (KWH)</th>\n",
       "      <th>KWH Charges</th>\n",
       "      <th>BRONX</th>\n",
       "      <th>BROOKLYN</th>\n",
       "      <th>FHA</th>\n",
       "      <th>MANHATTAN</th>\n",
       "      <th>QUEENS</th>\n",
       "      <th>STATEN ISLAND</th>\n",
       "      <th>log+1</th>\n",
       "      <th>log</th>\n",
       "    </tr>\n",
       "  </thead>\n",
       "  <tbody>\n",
       "    <tr>\n",
       "      <th>262826</th>\n",
       "      <td>22.0</td>\n",
       "      <td>530</td>\n",
       "      <td>31.0</td>\n",
       "      <td>1482.74</td>\n",
       "      <td>18440.0</td>\n",
       "      <td>704.50</td>\n",
       "      <td>0</td>\n",
       "      <td>0</td>\n",
       "      <td>0</td>\n",
       "      <td>1</td>\n",
       "      <td>0</td>\n",
       "      <td>0</td>\n",
       "      <td>9.822332</td>\n",
       "      <td>9.822277</td>\n",
       "    </tr>\n",
       "    <tr>\n",
       "      <th>260908</th>\n",
       "      <td>514.0</td>\n",
       "      <td>509</td>\n",
       "      <td>32.0</td>\n",
       "      <td>3773.24</td>\n",
       "      <td>41920.0</td>\n",
       "      <td>1703.50</td>\n",
       "      <td>0</td>\n",
       "      <td>1</td>\n",
       "      <td>0</td>\n",
       "      <td>0</td>\n",
       "      <td>0</td>\n",
       "      <td>0</td>\n",
       "      <td>10.643542</td>\n",
       "      <td>10.643518</td>\n",
       "    </tr>\n",
       "    <tr>\n",
       "      <th>250618</th>\n",
       "      <td>4.0</td>\n",
       "      <td>202</td>\n",
       "      <td>31.0</td>\n",
       "      <td>2914.15</td>\n",
       "      <td>39040.0</td>\n",
       "      <td>1599.47</td>\n",
       "      <td>0</td>\n",
       "      <td>1</td>\n",
       "      <td>0</td>\n",
       "      <td>0</td>\n",
       "      <td>0</td>\n",
       "      <td>0</td>\n",
       "      <td>10.572368</td>\n",
       "      <td>10.572342</td>\n",
       "    </tr>\n",
       "    <tr>\n",
       "      <th>190124</th>\n",
       "      <td>303.0</td>\n",
       "      <td>566</td>\n",
       "      <td>33.0</td>\n",
       "      <td>327.36</td>\n",
       "      <td>1242.0</td>\n",
       "      <td>75.35</td>\n",
       "      <td>0</td>\n",
       "      <td>1</td>\n",
       "      <td>0</td>\n",
       "      <td>0</td>\n",
       "      <td>0</td>\n",
       "      <td>0</td>\n",
       "      <td>7.125283</td>\n",
       "      <td>7.124478</td>\n",
       "    </tr>\n",
       "    <tr>\n",
       "      <th>132381</th>\n",
       "      <td>177.0</td>\n",
       "      <td>281</td>\n",
       "      <td>33.0</td>\n",
       "      <td>9165.94</td>\n",
       "      <td>69120.0</td>\n",
       "      <td>3571.43</td>\n",
       "      <td>0</td>\n",
       "      <td>1</td>\n",
       "      <td>0</td>\n",
       "      <td>0</td>\n",
       "      <td>0</td>\n",
       "      <td>0</td>\n",
       "      <td>11.143614</td>\n",
       "      <td>11.143599</td>\n",
       "    </tr>\n",
       "    <tr>\n",
       "      <th>128486</th>\n",
       "      <td>5.0</td>\n",
       "      <td>843</td>\n",
       "      <td>30.0</td>\n",
       "      <td>4719.57</td>\n",
       "      <td>39440.0</td>\n",
       "      <td>1804.17</td>\n",
       "      <td>0</td>\n",
       "      <td>0</td>\n",
       "      <td>0</td>\n",
       "      <td>0</td>\n",
       "      <td>1</td>\n",
       "      <td>0</td>\n",
       "      <td>10.582561</td>\n",
       "      <td>10.582536</td>\n",
       "    </tr>\n",
       "    <tr>\n",
       "      <th>286182</th>\n",
       "      <td>229.0</td>\n",
       "      <td>357</td>\n",
       "      <td>29.0</td>\n",
       "      <td>5872.00</td>\n",
       "      <td>29120.0</td>\n",
       "      <td>1105.10</td>\n",
       "      <td>0</td>\n",
       "      <td>1</td>\n",
       "      <td>0</td>\n",
       "      <td>0</td>\n",
       "      <td>0</td>\n",
       "      <td>0</td>\n",
       "      <td>10.279215</td>\n",
       "      <td>10.279181</td>\n",
       "    </tr>\n",
       "    <tr>\n",
       "      <th>154189</th>\n",
       "      <td>15.0</td>\n",
       "      <td>367</td>\n",
       "      <td>29.0</td>\n",
       "      <td>12097.15</td>\n",
       "      <td>82400.0</td>\n",
       "      <td>3362.75</td>\n",
       "      <td>0</td>\n",
       "      <td>0</td>\n",
       "      <td>0</td>\n",
       "      <td>1</td>\n",
       "      <td>0</td>\n",
       "      <td>0</td>\n",
       "      <td>11.319353</td>\n",
       "      <td>11.319341</td>\n",
       "    </tr>\n",
       "    <tr>\n",
       "      <th>233290</th>\n",
       "      <td>82.0</td>\n",
       "      <td>569</td>\n",
       "      <td>30.0</td>\n",
       "      <td>5241.52</td>\n",
       "      <td>46400.0</td>\n",
       "      <td>1910.34</td>\n",
       "      <td>0</td>\n",
       "      <td>0</td>\n",
       "      <td>0</td>\n",
       "      <td>1</td>\n",
       "      <td>0</td>\n",
       "      <td>0</td>\n",
       "      <td>10.745076</td>\n",
       "      <td>10.745055</td>\n",
       "    </tr>\n",
       "    <tr>\n",
       "      <th>157567</th>\n",
       "      <td>262.0</td>\n",
       "      <td>377</td>\n",
       "      <td>31.0</td>\n",
       "      <td>1353.97</td>\n",
       "      <td>6640.0</td>\n",
       "      <td>276.95</td>\n",
       "      <td>0</td>\n",
       "      <td>0</td>\n",
       "      <td>0</td>\n",
       "      <td>1</td>\n",
       "      <td>0</td>\n",
       "      <td>0</td>\n",
       "      <td>8.801018</td>\n",
       "      <td>8.800867</td>\n",
       "    </tr>\n",
       "  </tbody>\n",
       "</table>\n",
       "</div>"
      ],
      "text/plain": [
       "        TDS #  EDP  # days  Current Charges  Consumption (KWH)  KWH Charges  \\\n",
       "262826   22.0  530    31.0          1482.74            18440.0       704.50   \n",
       "260908  514.0  509    32.0          3773.24            41920.0      1703.50   \n",
       "250618    4.0  202    31.0          2914.15            39040.0      1599.47   \n",
       "190124  303.0  566    33.0           327.36             1242.0        75.35   \n",
       "132381  177.0  281    33.0          9165.94            69120.0      3571.43   \n",
       "128486    5.0  843    30.0          4719.57            39440.0      1804.17   \n",
       "286182  229.0  357    29.0          5872.00            29120.0      1105.10   \n",
       "154189   15.0  367    29.0         12097.15            82400.0      3362.75   \n",
       "233290   82.0  569    30.0          5241.52            46400.0      1910.34   \n",
       "157567  262.0  377    31.0          1353.97             6640.0       276.95   \n",
       "\n",
       "        BRONX  BROOKLYN  FHA  MANHATTAN  QUEENS  STATEN ISLAND      log+1  \\\n",
       "262826      0         0    0          1       0              0   9.822332   \n",
       "260908      0         1    0          0       0              0  10.643542   \n",
       "250618      0         1    0          0       0              0  10.572368   \n",
       "190124      0         1    0          0       0              0   7.125283   \n",
       "132381      0         1    0          0       0              0  11.143614   \n",
       "128486      0         0    0          0       1              0  10.582561   \n",
       "286182      0         1    0          0       0              0  10.279215   \n",
       "154189      0         0    0          1       0              0  11.319353   \n",
       "233290      0         0    0          1       0              0  10.745076   \n",
       "157567      0         0    0          1       0              0   8.801018   \n",
       "\n",
       "              log  \n",
       "262826   9.822277  \n",
       "260908  10.643518  \n",
       "250618  10.572342  \n",
       "190124   7.124478  \n",
       "132381  11.143599  \n",
       "128486  10.582536  \n",
       "286182  10.279181  \n",
       "154189  11.319341  \n",
       "233290  10.745055  \n",
       "157567   8.800867  "
      ]
     },
     "execution_count": 36,
     "metadata": {},
     "output_type": "execute_result"
    }
   ],
   "source": [
    "ec_final.sample(10)"
   ]
  },
  {
   "cell_type": "code",
   "execution_count": 37,
   "metadata": {},
   "outputs": [],
   "source": [
    "from sklearn.preprocessing import RobustScaler\n",
    "scaler = RobustScaler() \n",
    "data_scaled = scaler.fit_transform(ec_final)"
   ]
  },
  {
   "cell_type": "code",
   "execution_count": 38,
   "metadata": {},
   "outputs": [
    {
     "data": {
      "text/plain": [
       "FHA                  3.433868e-03\n",
       "STATEN ISLAND        6.556005e-03\n",
       "QUEENS               9.099480e-02\n",
       "BRONX                1.779056e-01\n",
       "MANHATTAN            1.901619e-01\n",
       "BROOKLYN             2.403651e-01\n",
       "log+1                2.391647e+00\n",
       "log                  2.395407e+00\n",
       "# days               2.702824e+00\n",
       "TDS #                1.845372e+04\n",
       "EDP                  3.454724e+04\n",
       "KWH Charges          4.335638e+06\n",
       "Current Charges      2.711153e+07\n",
       "Consumption (KWH)    1.683388e+09\n",
       "dtype: float64"
      ]
     },
     "execution_count": 38,
     "metadata": {},
     "output_type": "execute_result"
    }
   ],
   "source": [
    "ec_final.var().sort_values()"
   ]
  },
  {
   "cell_type": "code",
   "execution_count": 39,
   "metadata": {},
   "outputs": [],
   "source": [
    "#from PIL import Image\n",
    "#image = Image.open(\"/Users/sheryl/GitHub/data71200su21/Project 1/images/distributions.png\");\n",
    "#image.show();"
   ]
  },
  {
   "cell_type": "code",
   "execution_count": 40,
   "metadata": {
    "scrolled": true
   },
   "outputs": [
    {
     "data": {
      "image/png": "[encoded data removed]",
      "text/plain": [
       "<Figure size 1440x360 with 6 Axes>"
      ]
     },
     "metadata": {
      "needs_background": "light"
     },
     "output_type": "display_data"
    }
   ],
   "source": [
    "X_train.hist(bins=50, figsize=(20,5)) \n",
    "plt.show()"
   ]
  },
  {
   "cell_type": "code",
   "execution_count": 41,
   "metadata": {},
   "outputs": [
    {
     "data": {
      "image/png": "[encoded data removed]",
      "text/plain": [
       "<Figure size 720x360 with 6 Axes>"
      ]
     },
     "metadata": {
      "needs_background": "light"
     },
     "output_type": "display_data"
    }
   ],
   "source": [
    "y_train.hist(bins=50, figsize=(10,5)) \n",
    "plt.show()"
   ]
  },
  {
   "cell_type": "code",
   "execution_count": 42,
   "metadata": {},
   "outputs": [
    {
     "data": {
      "text/html": [
       "<div>\n",
       "<style scoped>\n",
       "    .dataframe tbody tr th:only-of-type {\n",
       "        vertical-align: middle;\n",
       "    }\n",
       "\n",
       "    .dataframe tbody tr th {\n",
       "        vertical-align: top;\n",
       "    }\n",
       "\n",
       "    .dataframe thead th {\n",
       "        text-align: right;\n",
       "    }\n",
       "</style>\n",
       "<table border=\"1\" class=\"dataframe\">\n",
       "  <thead>\n",
       "    <tr style=\"text-align: right;\">\n",
       "      <th></th>\n",
       "      <th>TDS #</th>\n",
       "      <th>EDP</th>\n",
       "      <th># days</th>\n",
       "      <th>Current Charges</th>\n",
       "      <th>Consumption (KWH)</th>\n",
       "      <th>KWH Charges</th>\n",
       "      <th>BRONX</th>\n",
       "      <th>BROOKLYN</th>\n",
       "      <th>FHA</th>\n",
       "      <th>MANHATTAN</th>\n",
       "      <th>QUEENS</th>\n",
       "      <th>STATEN ISLAND</th>\n",
       "      <th>log+1</th>\n",
       "      <th>log</th>\n",
       "    </tr>\n",
       "  </thead>\n",
       "  <tbody>\n",
       "    <tr>\n",
       "      <th>0</th>\n",
       "      <td>118.0</td>\n",
       "      <td>248</td>\n",
       "      <td>33.0</td>\n",
       "      <td>15396.82</td>\n",
       "      <td>128800.0</td>\n",
       "      <td>7387.97</td>\n",
       "      <td>1</td>\n",
       "      <td>0</td>\n",
       "      <td>0</td>\n",
       "      <td>0</td>\n",
       "      <td>0</td>\n",
       "      <td>0</td>\n",
       "      <td>11.766024</td>\n",
       "      <td>11.766016</td>\n",
       "    </tr>\n",
       "    <tr>\n",
       "      <th>1</th>\n",
       "      <td>118.0</td>\n",
       "      <td>248</td>\n",
       "      <td>30.0</td>\n",
       "      <td>14556.34</td>\n",
       "      <td>115200.0</td>\n",
       "      <td>6607.87</td>\n",
       "      <td>1</td>\n",
       "      <td>0</td>\n",
       "      <td>0</td>\n",
       "      <td>0</td>\n",
       "      <td>0</td>\n",
       "      <td>0</td>\n",
       "      <td>11.654434</td>\n",
       "      <td>11.654425</td>\n",
       "    </tr>\n",
       "    <tr>\n",
       "      <th>2</th>\n",
       "      <td>118.0</td>\n",
       "      <td>248</td>\n",
       "      <td>29.0</td>\n",
       "      <td>13904.98</td>\n",
       "      <td>103200.0</td>\n",
       "      <td>5919.55</td>\n",
       "      <td>1</td>\n",
       "      <td>0</td>\n",
       "      <td>0</td>\n",
       "      <td>0</td>\n",
       "      <td>0</td>\n",
       "      <td>0</td>\n",
       "      <td>11.544434</td>\n",
       "      <td>11.544424</td>\n",
       "    </tr>\n",
       "    <tr>\n",
       "      <th>3</th>\n",
       "      <td>118.0</td>\n",
       "      <td>248</td>\n",
       "      <td>31.0</td>\n",
       "      <td>14764.04</td>\n",
       "      <td>105600.0</td>\n",
       "      <td>6057.22</td>\n",
       "      <td>1</td>\n",
       "      <td>0</td>\n",
       "      <td>0</td>\n",
       "      <td>0</td>\n",
       "      <td>0</td>\n",
       "      <td>0</td>\n",
       "      <td>11.567423</td>\n",
       "      <td>11.567414</td>\n",
       "    </tr>\n",
       "    <tr>\n",
       "      <th>4</th>\n",
       "      <td>118.0</td>\n",
       "      <td>248</td>\n",
       "      <td>28.0</td>\n",
       "      <td>13729.54</td>\n",
       "      <td>97600.0</td>\n",
       "      <td>5598.34</td>\n",
       "      <td>1</td>\n",
       "      <td>0</td>\n",
       "      <td>0</td>\n",
       "      <td>0</td>\n",
       "      <td>0</td>\n",
       "      <td>0</td>\n",
       "      <td>11.488643</td>\n",
       "      <td>11.488633</td>\n",
       "    </tr>\n",
       "    <tr>\n",
       "      <th>...</th>\n",
       "      <td>...</td>\n",
       "      <td>...</td>\n",
       "      <td>...</td>\n",
       "      <td>...</td>\n",
       "      <td>...</td>\n",
       "      <td>...</td>\n",
       "      <td>...</td>\n",
       "      <td>...</td>\n",
       "      <td>...</td>\n",
       "      <td>...</td>\n",
       "      <td>...</td>\n",
       "      <td>...</td>\n",
       "      <td>...</td>\n",
       "      <td>...</td>\n",
       "    </tr>\n",
       "    <tr>\n",
       "      <th>301309</th>\n",
       "      <td>163.0</td>\n",
       "      <td>272</td>\n",
       "      <td>29.0</td>\n",
       "      <td>5608.58</td>\n",
       "      <td>67600.0</td>\n",
       "      <td>2276.77</td>\n",
       "      <td>0</td>\n",
       "      <td>1</td>\n",
       "      <td>0</td>\n",
       "      <td>0</td>\n",
       "      <td>0</td>\n",
       "      <td>0</td>\n",
       "      <td>11.121378</td>\n",
       "      <td>11.121363</td>\n",
       "    </tr>\n",
       "    <tr>\n",
       "      <th>301310</th>\n",
       "      <td>163.0</td>\n",
       "      <td>272</td>\n",
       "      <td>29.0</td>\n",
       "      <td>6438.24</td>\n",
       "      <td>77600.0</td>\n",
       "      <td>2613.57</td>\n",
       "      <td>0</td>\n",
       "      <td>1</td>\n",
       "      <td>0</td>\n",
       "      <td>0</td>\n",
       "      <td>0</td>\n",
       "      <td>0</td>\n",
       "      <td>11.259336</td>\n",
       "      <td>11.259323</td>\n",
       "    </tr>\n",
       "    <tr>\n",
       "      <th>301314</th>\n",
       "      <td>163.0</td>\n",
       "      <td>272</td>\n",
       "      <td>29.0</td>\n",
       "      <td>3782.25</td>\n",
       "      <td>101200.0</td>\n",
       "      <td>3408.42</td>\n",
       "      <td>0</td>\n",
       "      <td>1</td>\n",
       "      <td>0</td>\n",
       "      <td>0</td>\n",
       "      <td>0</td>\n",
       "      <td>0</td>\n",
       "      <td>11.524864</td>\n",
       "      <td>11.524854</td>\n",
       "    </tr>\n",
       "    <tr>\n",
       "      <th>301315</th>\n",
       "      <td>163.0</td>\n",
       "      <td>272</td>\n",
       "      <td>29.0</td>\n",
       "      <td>2541.43</td>\n",
       "      <td>68000.0</td>\n",
       "      <td>2290.24</td>\n",
       "      <td>0</td>\n",
       "      <td>1</td>\n",
       "      <td>0</td>\n",
       "      <td>0</td>\n",
       "      <td>0</td>\n",
       "      <td>0</td>\n",
       "      <td>11.127278</td>\n",
       "      <td>11.127263</td>\n",
       "    </tr>\n",
       "    <tr>\n",
       "      <th>301316</th>\n",
       "      <td>163.0</td>\n",
       "      <td>272</td>\n",
       "      <td>29.0</td>\n",
       "      <td>2967.49</td>\n",
       "      <td>79400.0</td>\n",
       "      <td>2674.19</td>\n",
       "      <td>0</td>\n",
       "      <td>1</td>\n",
       "      <td>0</td>\n",
       "      <td>0</td>\n",
       "      <td>0</td>\n",
       "      <td>0</td>\n",
       "      <td>11.282266</td>\n",
       "      <td>11.282254</td>\n",
       "    </tr>\n",
       "  </tbody>\n",
       "</table>\n",
       "<p>191832 rows × 14 columns</p>\n",
       "</div>"
      ],
      "text/plain": [
       "        TDS #  EDP  # days  Current Charges  Consumption (KWH)  KWH Charges  \\\n",
       "0       118.0  248    33.0         15396.82           128800.0      7387.97   \n",
       "1       118.0  248    30.0         14556.34           115200.0      6607.87   \n",
       "2       118.0  248    29.0         13904.98           103200.0      5919.55   \n",
       "3       118.0  248    31.0         14764.04           105600.0      6057.22   \n",
       "4       118.0  248    28.0         13729.54            97600.0      5598.34   \n",
       "...       ...  ...     ...              ...                ...          ...   \n",
       "301309  163.0  272    29.0          5608.58            67600.0      2276.77   \n",
       "301310  163.0  272    29.0          6438.24            77600.0      2613.57   \n",
       "301314  163.0  272    29.0          3782.25           101200.0      3408.42   \n",
       "301315  163.0  272    29.0          2541.43            68000.0      2290.24   \n",
       "301316  163.0  272    29.0          2967.49            79400.0      2674.19   \n",
       "\n",
       "        BRONX  BROOKLYN  FHA  MANHATTAN  QUEENS  STATEN ISLAND      log+1  \\\n",
       "0           1         0    0          0       0              0  11.766024   \n",
       "1           1         0    0          0       0              0  11.654434   \n",
       "2           1         0    0          0       0              0  11.544434   \n",
       "3           1         0    0          0       0              0  11.567423   \n",
       "4           1         0    0          0       0              0  11.488643   \n",
       "...       ...       ...  ...        ...     ...            ...        ...   \n",
       "301309      0         1    0          0       0              0  11.121378   \n",
       "301310      0         1    0          0       0              0  11.259336   \n",
       "301314      0         1    0          0       0              0  11.524864   \n",
       "301315      0         1    0          0       0              0  11.127278   \n",
       "301316      0         1    0          0       0              0  11.282266   \n",
       "\n",
       "              log  \n",
       "0       11.766016  \n",
       "1       11.654425  \n",
       "2       11.544424  \n",
       "3       11.567414  \n",
       "4       11.488633  \n",
       "...           ...  \n",
       "301309  11.121363  \n",
       "301310  11.259323  \n",
       "301314  11.524854  \n",
       "301315  11.127263  \n",
       "301316  11.282254  \n",
       "\n",
       "[191832 rows x 14 columns]"
      ]
     },
     "execution_count": 42,
     "metadata": {},
     "output_type": "execute_result"
    }
   ],
   "source": [
    "ec_final"
   ]
  },
  {
   "cell_type": "code",
   "execution_count": 65,
   "metadata": {},
   "outputs": [],
   "source": [
    "#import plotly.express as px\n",
    "\n",
    "#fig = px.parallel_coordinates(ec_final, \n",
    "          #labels=dict(zip(list(ec_final.columns), \n",
    "          #list(['_'.join(i.split('_')[1:]) for i in ec_final.columns]))),\n",
    "          #color_continuous_scale=px.colors.diverging.Tealrose,\n",
    "          #color_continuous_midpoint=27)\n",
    "\n",
    "#fig.show()"
   ]
  },
  {
   "cell_type": "markdown",
   "metadata": {},
   "source": [
    "# Algorithm 1 - k-Nearest Neighbor"
   ]
  },
  {
   "cell_type": "code",
   "execution_count": 49,
   "metadata": {},
   "outputs": [
    {
     "name": "stdout",
     "output_type": "stream",
     "text": [
      "Minimum for each feature\n",
      " Current Charges      0.0\n",
      "Consumption (KWH)    0.0\n",
      "KWH Charges          0.0\n",
      "log+1                0.0\n",
      "log                  0.0\n",
      "dtype: float64\n",
      "Maximum for each feature\n",
      " Current Charges      1.0\n",
      "Consumption (KWH)    1.0\n",
      "KWH Charges          1.0\n",
      "log+1                1.0\n",
      "log                  1.0\n",
      "dtype: float64\n"
     ]
    }
   ],
   "source": [
    "# Compute the minimum value per feature on the training set\n",
    "min_on_training = X_train.min(axis=0)\n",
    "\n",
    "# Compute the range of each feature (max - min) on the training set\n",
    "range_on_training = (X_train - min_on_training).max(axis=0)\n",
    "\n",
    "# subtract the min, divide by range\n",
    "# afterward, min=0 and max=1 for each feature\n",
    "X_train_scaled = (X_train - min_on_training) / range_on_training\n",
    "print(\"Minimum for each feature\\n\", X_train_scaled.min(axis=0))\n",
    "print(\"Maximum for each feature\\n\", X_train_scaled.max(axis=0))"
   ]
  },
  {
   "cell_type": "code",
   "execution_count": 50,
   "metadata": {},
   "outputs": [
    {
     "name": "stdout",
     "output_type": "stream",
     "text": [
      "Minimum for each feature\n",
      " Current Charges      9.989676e-06\n",
      "Consumption (KWH)    0.000000e+00\n",
      "KWH Charges          7.864166e-07\n",
      "log+1                0.000000e+00\n",
      "log                  0.000000e+00\n",
      "dtype: float64\n",
      "Maximum for each feature\n",
      " Current Charges      0.778520\n",
      "Consumption (KWH)    1.000000\n",
      "KWH Charges          1.004338\n",
      "log+1                1.000000\n",
      "log                  1.000000\n",
      "dtype: float64\n"
     ]
    }
   ],
   "source": [
    "X_test_scaled = (X_test - min_on_training) / range_on_training\n",
    "print(\"Minimum for each feature\\n\", X_test_scaled.min(axis=0))\n",
    "print(\"Maximum for each feature\\n\", X_test_scaled.max(axis=0))"
   ]
  },
  {
   "cell_type": "code",
   "execution_count": 82,
   "metadata": {},
   "outputs": [
    {
     "data": {
      "text/plain": [
       "<matplotlib.legend.Legend at 0x7fa28a085b10>"
      ]
     },
     "execution_count": 82,
     "metadata": {},
     "output_type": "execute_result"
    },
    {
     "data": {
      "image/png": "[encoded data removed]",
      "text/plain": [
       "<Figure size 432x288 with 1 Axes>"
      ]
     },
     "metadata": {
      "needs_background": "light"
     },
     "output_type": "display_data"
    }
   ],
   "source": [
    "from sklearn.neighbors import KNeighborsClassifier\n",
    "\n",
    "training_accuracy = []\n",
    "test_accuracy = []\n",
    "# try n_neighbors from 1 to 10\n",
    "neighbors_settings = range(1, 25)\n",
    "\n",
    "for n_neighbors in neighbors_settings:\n",
    "    # build the model\n",
    "    knn = KNeighborsClassifier(n_neighbors=n_neighbors)\n",
    "    knn.fit(X_train, y_train)\n",
    "    # record training set accuracy\n",
    "    training_accuracy.append(knn.score(X_train, y_train))\n",
    "    # record generalization accuracy\n",
    "    test_accuracy.append(knn.score(X_test, y_test))\n",
    "    \n",
    "plt.plot(neighbors_settings, training_accuracy, label=\"training accuracy\")\n",
    "plt.plot(neighbors_settings, test_accuracy, label=\"test accuracy\")\n",
    "plt.ylabel(\"Accuracy\")\n",
    "plt.xlabel(\"n_neighbors\")\n",
    "plt.legend()"
   ]
  },
  {
   "cell_type": "code",
   "execution_count": 52,
   "metadata": {},
   "outputs": [
    {
     "data": {
      "text/plain": [
       "GridSearchCV(cv=5, estimator=KNeighborsClassifier(),\n",
       "             param_grid={'n_neighbors': array([ 1,  2,  3,  4,  5,  6,  7,  8,  9, 10, 11, 12, 13, 14, 15, 16, 17,\n",
       "       18, 19, 20, 21, 22, 23, 24])})"
      ]
     },
     "execution_count": 52,
     "metadata": {},
     "output_type": "execute_result"
    }
   ],
   "source": [
    "from sklearn.model_selection import GridSearchCV\n",
    "\n",
    "knn2 = KNeighborsClassifier()\n",
    "\n",
    "#dictionary of all values of k\n",
    "param_grid = {\"n_neighbors\": np.arange(1, 25)}\n",
    "\n",
    "#grid search on all values of k in dictionary\n",
    "knn_gscv = GridSearchCV(knn2, param_grid, cv=5)\n",
    "knn_gscv.fit(X_train, y_train)"
   ]
  },
  {
   "cell_type": "code",
   "execution_count": 53,
   "metadata": {},
   "outputs": [
    {
     "data": {
      "text/plain": [
       "{'n_neighbors': 1}"
      ]
     },
     "execution_count": 53,
     "metadata": {},
     "output_type": "execute_result"
    }
   ],
   "source": [
    "#best performing k (on training set)\n",
    "knn_gscv.best_params_"
   ]
  },
  {
   "cell_type": "code",
   "execution_count": 54,
   "metadata": {},
   "outputs": [
    {
     "data": {
      "text/plain": [
       "0.39013301204495554"
      ]
     },
     "execution_count": 54,
     "metadata": {},
     "output_type": "execute_result"
    }
   ],
   "source": [
    "knn_gscv.best_score_"
   ]
  },
  {
   "cell_type": "code",
   "execution_count": 55,
   "metadata": {},
   "outputs": [
    {
     "name": "stdout",
     "output_type": "stream",
     "text": [
      "knn score: 0.998039951624338\n"
     ]
    }
   ],
   "source": [
    "knn = KNeighborsClassifier(n_neighbors=1)\n",
    "knn.fit(X_test, y_test)\n",
    "print(\"knn score: {}\".format(knn.score(X_test, y_test)))"
   ]
  },
  {
   "cell_type": "code",
   "execution_count": 81,
   "metadata": {},
   "outputs": [
    {
     "name": "stdout",
     "output_type": "stream",
     "text": [
      "knn score: 0.39647191292380835\n"
     ]
    }
   ],
   "source": [
    "knn = KNeighborsClassifier(n_neighbors=2)\n",
    "knn.fit(X_test, y_test)\n",
    "print(\"knn score: {}\".format(knn.score(X_test, y_test)))"
   ]
  },
  {
   "cell_type": "code",
   "execution_count": 56,
   "metadata": {},
   "outputs": [
    {
     "name": "stdout",
     "output_type": "stream",
     "text": [
      "knn score: 0.5834584428041203\n"
     ]
    }
   ],
   "source": [
    "knn = KNeighborsClassifier(n_neighbors=3)\n",
    "knn.fit(X_test, y_test)\n",
    "print(\"knn score: {}\".format(knn.score(X_test, y_test)))"
   ]
  },
  {
   "cell_type": "code",
   "execution_count": 57,
   "metadata": {},
   "outputs": [
    {
     "name": "stdout",
     "output_type": "stream",
     "text": [
      "knn score: 0.45845322990950416\n"
     ]
    }
   ],
   "source": [
    "knn = KNeighborsClassifier(n_neighbors=5)\n",
    "knn.fit(X_test, y_test)\n",
    "print(\"knn score: {}\".format(knn.score(X_test, y_test)))"
   ]
  },
  {
   "cell_type": "code",
   "execution_count": 58,
   "metadata": {},
   "outputs": [
    {
     "name": "stdout",
     "output_type": "stream",
     "text": [
      "knn score: 0.3939592977188373\n"
     ]
    }
   ],
   "source": [
    "knn = KNeighborsClassifier(n_neighbors=1)\n",
    "knn.fit(X_test, y_test)\n",
    "print(\"knn score: {}\".format(knn.score(X_train, y_train)))"
   ]
  },
  {
   "cell_type": "code",
   "execution_count": 59,
   "metadata": {},
   "outputs": [
    {
     "name": "stdout",
     "output_type": "stream",
     "text": [
      "knn score: 0.5840318612118938\n"
     ]
    }
   ],
   "source": [
    "knn = KNeighborsClassifier(n_neighbors=3)\n",
    "knn.fit(X_train, y_train)\n",
    "print(\"knn score: {}\".format(knn.score(X_train, y_train)))"
   ]
  },
  {
   "cell_type": "code",
   "execution_count": 60,
   "metadata": {},
   "outputs": [
    {
     "name": "stdout",
     "output_type": "stream",
     "text": [
      "knn score: 0.45824471412485923\n"
     ]
    }
   ],
   "source": [
    "knn = KNeighborsClassifier(n_neighbors=5)\n",
    "knn.fit(X_train, y_train)\n",
    "print(\"knn score: {}\".format(knn.score(X_train, y_train)))"
   ]
  },
  {
   "cell_type": "code",
   "execution_count": 70,
   "metadata": {},
   "outputs": [],
   "source": [
    "#from sklearn.metrics import confusion_matrix\n",
    "#y_pred = knn.predict(X_test)\n",
    "#confusion_matrix(y_test,y_pred)\n",
    "\n",
    "#multi-label indicator is not supported error"
   ]
  },
  {
   "cell_type": "markdown",
   "metadata": {},
   "source": [
    "## Cross-validation & Classification Report"
   ]
  },
  {
   "cell_type": "code",
   "execution_count": 88,
   "metadata": {},
   "outputs": [
    {
     "name": "stdout",
     "output_type": "stream",
     "text": [
      "cv_scores:\n",
      "[0.32985822 0.33117865 0.3300318  0.32752958 0.32805088]\n",
      "cv_scores mean:\n",
      "0.32932982475926414\n"
     ]
    }
   ],
   "source": [
    "from sklearn.model_selection import cross_val_score\n",
    "\n",
    "knn_cv = KNeighborsClassifier(n_neighbors=3)\n",
    "\n",
    "cv_scores = cross_val_score(knn_cv, X_train, y_train, cv=5)\n",
    "\n",
    "print(\"cv_scores:\\n{}\".format(cv_scores))\n",
    "print(\"cv_scores mean:\\n{}\".format(np.mean(cv_scores)))"
   ]
  },
  {
   "cell_type": "code",
   "execution_count": 89,
   "metadata": {},
   "outputs": [
    {
     "name": "stdout",
     "output_type": "stream",
     "text": [
      "              precision    recall  f1-score   support\n",
      "\n",
      "           0       0.32      0.16      0.22     22084\n",
      "           1       0.53      0.46      0.49     38605\n",
      "           2       0.31      0.12      0.17       324\n",
      "           3       0.42      0.26      0.32     24483\n",
      "           4       0.44      0.14      0.21      9790\n",
      "           5       0.52      0.04      0.08       630\n",
      "\n",
      "   micro avg       0.46      0.30      0.37     95916\n",
      "   macro avg       0.42      0.20      0.25     95916\n",
      "weighted avg       0.45      0.30      0.35     95916\n",
      " samples avg       0.30      0.30      0.30     95916\n",
      "\n"
     ]
    }
   ],
   "source": [
    "from sklearn.metrics import classification_report\n",
    "\n",
    "print(classification_report(y_test,y_pred))"
   ]
  },
  {
   "cell_type": "code",
   "execution_count": 90,
   "metadata": {},
   "outputs": [
    {
     "name": "stdout",
     "output_type": "stream",
     "text": [
      "The R-Squared is : -1.007292728294378\n",
      "The MAE is : 30.225113641102634\n",
      "The MSE is : 0.23613370032111433\n",
      "The RMSE is : 5.49773713823266\n"
     ]
    }
   ],
   "source": [
    "from sklearn import metrics\n",
    "\n",
    "print(\"The R-Squared is :\", metrics.r2_score(y_test,y_train))\n",
    "print(\"The MAE is :\", metrics.mean_absolute_error(y_test, y_train))\n",
    "print(\"The MSE is :\", metrics.mean_squared_error(y_test, y_train))\n",
    "print(\"The RMSE is :\", np.sqrt(metrics.mean_absolute_error(y_test, y_train)))"
   ]
  },
  {
   "cell_type": "markdown",
   "metadata": {},
   "source": [
    "# Algorithm 2 - Decision Trees"
   ]
  },
  {
   "cell_type": "code",
   "execution_count": 114,
   "metadata": {},
   "outputs": [
    {
     "name": "stdout",
     "output_type": "stream",
     "text": [
      "Accuracy on training set: 0.997\n",
      "Accuracy on test set: 0.402\n"
     ]
    }
   ],
   "source": [
    "from sklearn.tree import DecisionTreeClassifier\n",
    "\n",
    "tree = DecisionTreeClassifier(random_state=0)\n",
    "tree.fit(X_train, y_train)\n",
    "\n",
    "print(\"Accuracy on training set: {:.3f}\".format(tree.score(X_train, y_train)))\n",
    "print(\"Accuracy on test set: {:.3f}\".format(tree.score(X_test, y_test)))\n",
    "#print(classification_report(y_test,y_pred))      "
   ]
  },
  {
   "cell_type": "code",
   "execution_count": 112,
   "metadata": {},
   "outputs": [
    {
     "name": "stdout",
     "output_type": "stream",
     "text": [
      "Accuracy on training set: 0.998\n",
      "Accuracy on test set: -0.669\n"
     ]
    }
   ],
   "source": [
    "from sklearn.tree import DecisionTreeRegressor\n",
    "\n",
    "tree_reg = DecisionTreeRegressor(random_state=0)\n",
    "tree_reg.fit(X_train, y_train)\n",
    "\n",
    "print(\"Accuracy on training set: {:.3f}\".format(tree_reg.score(X_train, y_train)))\n",
    "print(\"Accuracy on test set: {:.3f}\".format(tree_reg.score(X_test, y_test)))\n",
    "#print(classification_report(y_test,y_pred))      "
   ]
  },
  {
   "cell_type": "code",
   "execution_count": 72,
   "metadata": {},
   "outputs": [
    {
     "name": "stdout",
     "output_type": "stream",
     "text": [
      "Feature importances:\n",
      "[0.41034021 0.09596498 0.2751328  0.09924598 0.11931603]\n"
     ]
    }
   ],
   "source": [
    "print(\"Feature importances:\")\n",
    "print(tree.feature_importances_)"
   ]
  },
  {
   "cell_type": "code",
   "execution_count": 115,
   "metadata": {},
   "outputs": [
    {
     "name": "stdout",
     "output_type": "stream",
     "text": [
      "Feature importances:\n",
      "[0.29602938 0.04024466 0.21996785 0.10806642 0.33569169]\n"
     ]
    }
   ],
   "source": [
    "print(\"Feature importances:\")\n",
    "print(tree_reg.feature_importances_)"
   ]
  },
  {
   "cell_type": "code",
   "execution_count": 116,
   "metadata": {},
   "outputs": [
    {
     "name": "stdout",
     "output_type": "stream",
     "text": [
      "Accuracy on training set: 0.219\n",
      "Accuracy on test set: 0.198\n"
     ]
    }
   ],
   "source": [
    "tree = DecisionTreeClassifier(max_depth=11, random_state=0)\n",
    "tree.fit(X_train, y_train)\n",
    "\n",
    "print(\"Accuracy on training set: {:.3f}\".format(tree.score(X_train, y_train)))\n",
    "print(\"Accuracy on test set: {:.3f}\".format(tree.score(X_test, y_test)))\n",
    "#print(classification_report(y_test,y_pred)) "
   ]
  },
  {
   "cell_type": "code",
   "execution_count": 113,
   "metadata": {},
   "outputs": [
    {
     "name": "stdout",
     "output_type": "stream",
     "text": [
      "Accuracy on training set: 0.129\n",
      "Accuracy on test set: 0.061\n"
     ]
    }
   ],
   "source": [
    "tree_reg = DecisionTreeRegressor(max_depth=11, random_state=0)\n",
    "tree_reg.fit(X_train, y_train)\n",
    "\n",
    "print(\"Accuracy on training set: {:.3f}\".format(tree_reg.score(X_train, y_train)))\n",
    "print(\"Accuracy on test set: {:.3f}\".format(tree_reg.score(X_test, y_test)))\n",
    "#print(classification_report(y_test,y_pred)) "
   ]
  },
  {
   "cell_type": "code",
   "execution_count": 91,
   "metadata": {},
   "outputs": [
    {
     "name": "stdout",
     "output_type": "stream",
     "text": [
      "Accuracy on training set: 0.761\n",
      "Accuracy on test set: 0.360\n"
     ]
    }
   ],
   "source": [
    "tree = DecisionTreeClassifier(max_depth=24, random_state=0)\n",
    "tree.fit(X_train, y_train)\n",
    "\n",
    "print(\"Accuracy on training set: {:.3f}\".format(tree.score(X_train, y_train)))\n",
    "print(\"Accuracy on test set: {:.3f}\".format(tree.score(X_test, y_test)))\n",
    "#print(classification_report(y_test,y_pred)) "
   ]
  },
  {
   "cell_type": "code",
   "execution_count": 118,
   "metadata": {},
   "outputs": [
    {
     "name": "stdout",
     "output_type": "stream",
     "text": [
      "Accuracy on training set: 0.734\n",
      "Accuracy on test set: -0.449\n"
     ]
    }
   ],
   "source": [
    "tree_reg = DecisionTreeRegressor(max_depth=24, random_state=0)\n",
    "tree_reg.fit(X_train, y_train)\n",
    "\n",
    "print(\"Accuracy on training set: {:.3f}\".format(tree_reg.score(X_train, y_train)))\n",
    "print(\"Accuracy on test set: {:.3f}\".format(tree_reg.score(X_test, y_test)))\n",
    "#print(classification_report(y_test,y_pred)) "
   ]
  },
  {
   "cell_type": "code",
   "execution_count": 120,
   "metadata": {},
   "outputs": [
    {
     "name": "stdout",
     "output_type": "stream",
     "text": [
      "Feature importances: [0.29627745 0.05303232 0.22012109 0.09918595 0.33138318]\n"
     ]
    }
   ],
   "source": [
    "print(\"Feature importances:\", tree.feature_importances_)"
   ]
  },
  {
   "cell_type": "code",
   "execution_count": 119,
   "metadata": {},
   "outputs": [
    {
     "name": "stdout",
     "output_type": "stream",
     "text": [
      "Feature importances: [0.3899688  0.09293728 0.28416405 0.10258615 0.13034372]\n"
     ]
    }
   ],
   "source": [
    "print(\"Feature importances:\", tree_reg.feature_importances_)"
   ]
  },
  {
   "cell_type": "markdown",
   "metadata": {},
   "source": [
    "## Random Forest"
   ]
  },
  {
   "cell_type": "code",
   "execution_count": 121,
   "metadata": {},
   "outputs": [
    {
     "name": "stdout",
     "output_type": "stream",
     "text": [
      "Accuracy on training set: 0.895\n",
      "Accuracy on test set: 0.359\n"
     ]
    }
   ],
   "source": [
    "from sklearn.ensemble import RandomForestClassifier, RandomForestRegressor\n",
    "from sklearn.datasets import make_moons\n",
    "\n",
    "forest = RandomForestClassifier(n_estimators=5, random_state=2)\n",
    "forest.fit(X_train, y_train)\n",
    "\n",
    "print(\"Accuracy on training set: {:.3f}\".format(forest.score(X_train, y_train)))\n",
    "print(\"Accuracy on test set: {:.3f}\".format(forest.score(X_test, y_test)))\n",
    "#print(classification_report(y_test,y_pred)) "
   ]
  },
  {
   "cell_type": "code",
   "execution_count": 122,
   "metadata": {},
   "outputs": [
    {
     "name": "stdout",
     "output_type": "stream",
     "text": [
      "Accuracy on training set: 0.774\n",
      "Accuracy on test set: -0.095\n"
     ]
    }
   ],
   "source": [
    "forest_reg = RandomForestRegressor(n_estimators=5, random_state=2)\n",
    "forest_reg.fit(X_train, y_train)\n",
    "\n",
    "print(\"Accuracy on training set: {:.3f}\".format(forest_reg.score(X_train, y_train)))\n",
    "print(\"Accuracy on test set: {:.3f}\".format(forest_reg.score(X_test, y_test)))\n",
    "#print(classification_report(y_test,y_pred)) "
   ]
  },
  {
   "cell_type": "code",
   "execution_count": 95,
   "metadata": {},
   "outputs": [
    {
     "name": "stdout",
     "output_type": "stream",
     "text": [
      "Accuracy on training set: 0.000\n",
      "Accuracy on test set: 0.000\n"
     ]
    }
   ],
   "source": [
    "forest = RandomForestClassifier(n_estimators=5, random_state=2, max_depth=1)\n",
    "forest.fit(X_train, y_train)\n",
    "\n",
    "print(\"Accuracy on training set: {:.3f}\".format(forest.score(X_train, y_train)))\n",
    "print(\"Accuracy on test set: {:.3f}\".format(forest.score(X_test, y_test)))\n",
    "#print(classification_report(y_test,y_pred)) "
   ]
  },
  {
   "cell_type": "code",
   "execution_count": 123,
   "metadata": {},
   "outputs": [
    {
     "name": "stdout",
     "output_type": "stream",
     "text": [
      "Accuracy on training set: 0.013\n",
      "Accuracy on test set: 0.013\n"
     ]
    }
   ],
   "source": [
    "forest_reg = RandomForestRegressor(n_estimators=5, random_state=2, max_depth=1)\n",
    "forest_reg.fit(X_train, y_train)\n",
    "\n",
    "print(\"Accuracy on training set: {:.3f}\".format(forest_reg.score(X_train, y_train)))\n",
    "print(\"Accuracy on test set: {:.3f}\".format(forest_reg.score(X_test, y_test)))\n",
    "#print(classification_report(y_test,y_pred)) "
   ]
  },
  {
   "cell_type": "code",
   "execution_count": 96,
   "metadata": {},
   "outputs": [
    {
     "name": "stdout",
     "output_type": "stream",
     "text": [
      "Accuracy on training set: 0.199\n",
      "Accuracy on test set: 0.182\n"
     ]
    }
   ],
   "source": [
    "forest = RandomForestClassifier(n_estimators=5, random_state=2, max_depth=10)\n",
    "forest.fit(X_train, y_train)\n",
    "\n",
    "print(\"Accuracy on training set: {:.3f}\".format(forest.score(X_train, y_train)))\n",
    "print(\"Accuracy on test set: {:.3f}\".format(forest.score(X_test, y_test)))\n",
    "#print(classification_report(y_test,y_pred)) "
   ]
  },
  {
   "cell_type": "code",
   "execution_count": 124,
   "metadata": {},
   "outputs": [
    {
     "name": "stdout",
     "output_type": "stream",
     "text": [
      "Accuracy on training set: 0.124\n",
      "Accuracy on test set: 0.085\n"
     ]
    }
   ],
   "source": [
    "forest_reg = RandomForestRegressor(n_estimators=5, random_state=2, max_depth=10)\n",
    "forest_reg.fit(X_train, y_train)\n",
    "\n",
    "print(\"Accuracy on training set: {:.3f}\".format(forest_reg.score(X_train, y_train)))\n",
    "print(\"Accuracy on test set: {:.3f}\".format(forest_reg.score(X_test, y_test)))\n",
    "#print(classification_report(y_test,y_pred)) "
   ]
  },
  {
   "cell_type": "code",
   "execution_count": 97,
   "metadata": {},
   "outputs": [
    {
     "name": "stdout",
     "output_type": "stream",
     "text": [
      "Accuracy on training set: 0.744\n",
      "Accuracy on test set: 0.331\n"
     ]
    }
   ],
   "source": [
    "forest = RandomForestClassifier(n_estimators=5, random_state=2, max_depth=24)\n",
    "forest.fit(X_train, y_train)\n",
    "\n",
    "print(\"Accuracy on training set: {:.3f}\".format(forest.score(X_train, y_train)))\n",
    "print(\"Accuracy on test set: {:.3f}\".format(forest.score(X_test, y_test)))\n",
    "#print(classification_report(y_test,y_pred)) "
   ]
  },
  {
   "cell_type": "code",
   "execution_count": 125,
   "metadata": {},
   "outputs": [
    {
     "name": "stdout",
     "output_type": "stream",
     "text": [
      "Accuracy on training set: 0.655\n",
      "Accuracy on test set: -0.037\n"
     ]
    }
   ],
   "source": [
    "forest_reg = RandomForestRegressor(n_estimators=5, random_state=2, max_depth=24)\n",
    "forest_reg.fit(X_train, y_train)\n",
    "\n",
    "print(\"Accuracy on training set: {:.3f}\".format(forest_reg.score(X_train, y_train)))\n",
    "print(\"Accuracy on test set: {:.3f}\".format(forest_reg.score(X_test, y_test)))\n",
    "#print(classification_report(y_test,y_pred)) "
   ]
  },
  {
   "cell_type": "code",
   "execution_count": 109,
   "metadata": {},
   "outputs": [
    {
     "name": "stdout",
     "output_type": "stream",
     "text": [
      "Accuracy on training set: 0.896\n",
      "Accuracy on test set: 0.358\n"
     ]
    }
   ],
   "source": [
    "forest = RandomForestClassifier(n_estimators=5, random_state=2, max_depth=41)\n",
    "forest.fit(X_train, y_train)\n",
    "\n",
    "print(\"Accuracy on training set: {:.3f}\".format(forest.score(X_train, y_train)))\n",
    "print(\"Accuracy on test set: {:.3f}\".format(forest.score(X_test, y_test)))\n",
    "#print(classification_report(y_test,y_pred)) "
   ]
  },
  {
   "cell_type": "code",
   "execution_count": 126,
   "metadata": {},
   "outputs": [
    {
     "name": "stdout",
     "output_type": "stream",
     "text": [
      "Accuracy on training set: 0.773\n",
      "Accuracy on test set: -0.096\n"
     ]
    }
   ],
   "source": [
    "forest_reg = RandomForestRegressor(n_estimators=5, random_state=2, max_depth=41)\n",
    "forest_reg.fit(X_train, y_train)\n",
    "\n",
    "print(\"Accuracy on training set: {:.3f}\".format(forest_reg.score(X_train, y_train)))\n",
    "print(\"Accuracy on test set: {:.3f}\".format(forest_reg.score(X_test, y_test)))\n",
    "#print(classification_report(y_test,y_pred)) "
   ]
  },
  {
   "cell_type": "code",
   "execution_count": 98,
   "metadata": {},
   "outputs": [
    {
     "name": "stdout",
     "output_type": "stream",
     "text": [
      "Accuracy on training set: 0.893\n",
      "Accuracy on test set: 0.355\n"
     ]
    }
   ],
   "source": [
    "forest = RandomForestClassifier(n_estimators=5, random_state=2, max_features=1)\n",
    "forest.fit(X_train, y_train)\n",
    "\n",
    "print(\"Accuracy on training set: {:.3f}\".format(forest.score(X_train, y_train)))\n",
    "print(\"Accuracy on test set: {:.3f}\".format(forest.score(X_test, y_test)))\n",
    "#print(classification_report(y_test,y_pred)) "
   ]
  },
  {
   "cell_type": "code",
   "execution_count": 127,
   "metadata": {},
   "outputs": [
    {
     "name": "stdout",
     "output_type": "stream",
     "text": [
      "Accuracy on training set: 0.774\n",
      "Accuracy on test set: -0.112\n"
     ]
    }
   ],
   "source": [
    "forest_reg = RandomForestRegressor(n_estimators=5, random_state=2, max_features=1)\n",
    "forest_reg.fit(X_train, y_train)\n",
    "\n",
    "print(\"Accuracy on training set: {:.3f}\".format(forest_reg.score(X_train, y_train)))\n",
    "print(\"Accuracy on test set: {:.3f}\".format(forest_reg.score(X_test, y_test)))\n",
    "#print(classification_report(y_test,y_pred)) "
   ]
  },
  {
   "cell_type": "code",
   "execution_count": null,
   "metadata": {},
   "outputs": [],
   "source": []
  },
  {
   "cell_type": "code",
   "execution_count": null,
   "metadata": {},
   "outputs": [],
   "source": []
  },
  {
   "cell_type": "code",
   "execution_count": null,
   "metadata": {},
   "outputs": [],
   "source": []
  }
 ],
 "metadata": {
  "kernelspec": {
   "display_name": "Python 3",
   "language": "python",
   "name": "python3"
  },
  "language_info": {
   "codemirror_mode": {
    "name": "ipython",
    "version": 3
   },
   "file_extension": ".py",
   "mimetype": "text/x-python",
   "name": "python",
   "nbconvert_exporter": "python",
   "pygments_lexer": "ipython3",
   "version": "3.7.4"
  }
 },
 "nbformat": 4,
 "nbformat_minor": 2
}
